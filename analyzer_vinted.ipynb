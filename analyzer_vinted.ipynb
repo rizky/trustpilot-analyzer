{
  "cells": [
    {
      "cell_type": "markdown",
      "metadata": {
        "id": "Xk4vq90lkZxy"
      },
      "source": [
        "First, let's import the required libraries and packages"
      ]
    },
    {
      "cell_type": "code",
      "execution_count": 1,
      "metadata": {
        "colab": {
          "base_uri": "https://localhost:8080/"
        },
        "id": "A1lLm-wwSdKc",
        "outputId": "1c6bb3c2-6499-4c71-c9cd-28669f656529"
      },
      "outputs": [
        {
          "name": "stderr",
          "output_type": "stream",
          "text": [
            "/usr/local/lib/python3.7/site-packages/google/colab/data_table.py:30: UserWarning: IPython.utils.traitlets has moved to a top-level traitlets package.\n",
            "  from IPython.utils import traitlets as _traitlets\n",
            "[nltk_data] Downloading package stopwords to\n",
            "[nltk_data]     /Users/rizkyario/nltk_data...\n",
            "[nltk_data]   Package stopwords is already up-to-date!\n",
            "[nltk_data] Downloading package averaged_perceptron_tagger to\n",
            "[nltk_data]     /Users/rizkyario/nltk_data...\n",
            "[nltk_data]   Package averaged_perceptron_tagger is already up-to-\n",
            "[nltk_data]       date!\n",
            "[nltk_data] Downloading package wordnet to\n",
            "[nltk_data]     /Users/rizkyario/nltk_data...\n",
            "[nltk_data]   Package wordnet is already up-to-date!\n",
            "[nltk_data] Error loading : Package '' not found in index\n",
            "[nltk_data] Downloading package vader_lexicon to\n",
            "[nltk_data]     /Users/rizkyario/nltk_data...\n",
            "[nltk_data]   Package vader_lexicon is already up-to-date!\n",
            "[nltk_data] Downloading package omw-1.4 to\n",
            "[nltk_data]     /Users/rizkyario/nltk_data...\n",
            "[nltk_data]   Package omw-1.4 is already up-to-date!\n"
          ]
        },
        {
          "name": "stdout",
          "output_type": "stream",
          "text": [
            "\u001b[33mDEPRECATION: Configuring installation scheme with distutils config files is deprecated and will no longer work in the near future. If you are using a Homebrew or Linuxbrew Python, please see discussion at https://github.com/Homebrew/homebrew-core/issues/76621\u001b[0m\u001b[33m\n",
            "\u001b[0mRequirement already satisfied: pyLDAvis==2.1.2 in /usr/local/lib/python3.7/site-packages (2.1.2)\n",
            "Requirement already satisfied: numexpr in /usr/local/lib/python3.7/site-packages (from pyLDAvis==2.1.2) (2.8.1)\n",
            "Requirement already satisfied: jinja2>=2.7.2 in /usr/local/lib/python3.7/site-packages (from pyLDAvis==2.1.2) (3.0.3)\n",
            "Requirement already satisfied: numpy>=1.9.2 in /usr/local/lib/python3.7/site-packages (from pyLDAvis==2.1.2) (1.21.5)\n",
            "Requirement already satisfied: funcy in /usr/local/lib/python3.7/site-packages (from pyLDAvis==2.1.2) (1.17)\n",
            "Requirement already satisfied: pandas>=0.17.0 in /usr/local/lib/python3.7/site-packages (from pyLDAvis==2.1.2) (1.3.5)\n",
            "Requirement already satisfied: wheel>=0.23.0 in /usr/local/lib/python3.7/site-packages (from pyLDAvis==2.1.2) (0.37.1)\n",
            "Requirement already satisfied: scipy>=0.18.0 in /usr/local/lib/python3.7/site-packages (from pyLDAvis==2.1.2) (1.7.3)\n",
            "Requirement already satisfied: pytest in /usr/local/lib/python3.7/site-packages (from pyLDAvis==2.1.2) (7.1.2)\n",
            "Requirement already satisfied: joblib>=0.8.4 in /usr/local/lib/python3.7/site-packages (from pyLDAvis==2.1.2) (1.1.0)\n",
            "Requirement already satisfied: future in /usr/local/lib/python3.7/site-packages (from pyLDAvis==2.1.2) (0.18.2)\n",
            "Requirement already satisfied: MarkupSafe>=2.0 in /usr/local/lib/python3.7/site-packages (from jinja2>=2.7.2->pyLDAvis==2.1.2) (2.1.0)\n",
            "Requirement already satisfied: pytz>=2017.3 in /usr/local/lib/python3.7/site-packages (from pandas>=0.17.0->pyLDAvis==2.1.2) (2020.1)\n",
            "Requirement already satisfied: python-dateutil>=2.7.3 in /usr/local/lib/python3.7/site-packages (from pandas>=0.17.0->pyLDAvis==2.1.2) (2.8.2)\n",
            "Requirement already satisfied: packaging in /usr/local/lib/python3.7/site-packages (from numexpr->pyLDAvis==2.1.2) (21.3)\n",
            "Requirement already satisfied: tomli>=1.0.0 in /usr/local/lib/python3.7/site-packages (from pytest->pyLDAvis==2.1.2) (2.0.1)\n",
            "Requirement already satisfied: attrs>=19.2.0 in /usr/local/lib/python3.7/site-packages (from pytest->pyLDAvis==2.1.2) (21.4.0)\n",
            "Requirement already satisfied: importlib-metadata>=0.12 in /usr/local/lib/python3.7/site-packages (from pytest->pyLDAvis==2.1.2) (3.4.0)\n",
            "Requirement already satisfied: pluggy<2.0,>=0.12 in /usr/local/lib/python3.7/site-packages (from pytest->pyLDAvis==2.1.2) (1.0.0)\n",
            "Requirement already satisfied: iniconfig in /usr/local/lib/python3.7/site-packages (from pytest->pyLDAvis==2.1.2) (1.1.1)\n",
            "Requirement already satisfied: py>=1.8.2 in /usr/local/lib/python3.7/site-packages (from pytest->pyLDAvis==2.1.2) (1.11.0)\n",
            "Requirement already satisfied: zipp>=0.5 in /usr/local/lib/python3.7/site-packages (from importlib-metadata>=0.12->pytest->pyLDAvis==2.1.2) (3.7.0)\n",
            "Requirement already satisfied: typing-extensions>=3.6.4 in /usr/local/lib/python3.7/site-packages (from importlib-metadata>=0.12->pytest->pyLDAvis==2.1.2) (3.10.0.2)\n",
            "Requirement already satisfied: six>=1.5 in /usr/local/lib/python3.7/site-packages (from python-dateutil>=2.7.3->pandas>=0.17.0->pyLDAvis==2.1.2) (1.12.0)\n",
            "Requirement already satisfied: pyparsing!=3.0.5,>=2.0.2 in /usr/local/lib/python3.7/site-packages (from packaging->numexpr->pyLDAvis==2.1.2) (3.0.7)\n",
            "\u001b[33mDEPRECATION: Configuring installation scheme with distutils config files is deprecated and will no longer work in the near future. If you are using a Homebrew or Linuxbrew Python, please see discussion at https://github.com/Homebrew/homebrew-core/issues/76621\u001b[0m\u001b[33m\n",
            "\u001b[0m"
          ]
        }
      ],
      "source": [
        "from google.colab import drive\n",
        "from pathlib import Path\n",
        "import glob\n",
        "import os\n",
        "\n",
        "#ignore warnings\n",
        "import warnings\n",
        "warnings.filterwarnings('ignore')\n",
        "\n",
        "#import json to view the json data provided\n",
        "import json\n",
        "\n",
        "#basic data analysis libraries\n",
        "import pandas as pd\n",
        "import numpy as np\n",
        "from collections import Counter\n",
        "\n",
        "#visualization libraries\n",
        "import matplotlib.pyplot as plt\n",
        "%matplotlib inline\n",
        "import seaborn as sns\n",
        "from wordcloud import WordCloud\n",
        "import plotly.express as px\n",
        "\n",
        "#Text Libraries\n",
        "\n",
        "#NLTK\n",
        "#!pip install nltk\n",
        "import nltk\n",
        "from nltk.corpus import stopwords\n",
        "from nltk.corpus import wordnet\n",
        "from nltk import pos_tag\n",
        "from nltk.tokenize import WhitespaceTokenizer\n",
        "from nltk.stem import WordNetLemmatizer\n",
        "nltk.download('stopwords')\n",
        "nltk.download('averaged_perceptron_tagger')\n",
        "nltk.download('wordnet')\n",
        "nltk.download('')\n",
        "from nltk.sentiment.vader import SentimentIntensityAnalyzer\n",
        "nltk.download('vader_lexicon')\n",
        "nltk.download('omw-1.4')\n",
        "\n",
        "#String\n",
        "import string\n",
        "from textblob import TextBlob\n",
        "import re\n",
        "import spacy\n",
        "\n",
        "#sklearn\n",
        "from sklearn.feature_extraction.text import TfidfVectorizer\n",
        "from sklearn.decomposition import TruncatedSVD\n",
        "\n",
        "#Gensim\n",
        "import gensim\n",
        "from gensim import corpora\n",
        "!pip install pyLDAvis==2.1.2\n",
        "import pyLDAvis\n",
        "import pyLDAvis.gensim\n"
      ]
    },
    {
      "cell_type": "markdown",
      "metadata": {
        "id": "ME4ngU0nkhZ8"
      },
      "source": [
        "Opening the JSON file using the json library"
      ]
    },
    {
      "cell_type": "code",
      "execution_count": 2,
      "metadata": {
        "colab": {
          "base_uri": "https://localhost:8080/"
        },
        "id": "ORSsSEr9S5Hs",
        "outputId": "81c230fc-c4d0-4eac-8652-ac580384b4d4"
      },
      "outputs": [
        {
          "name": "stdout",
          "output_type": "stream",
          "text": [
            "274\n"
          ]
        }
      ],
      "source": [
        "web='vinted'\n",
        "# Opening the JSON file\n",
        "json_dir = './data/vinted'\n",
        "\n",
        "json_pattern = os.path.join(json_dir, '*.json')\n",
        "file_list = glob.glob(json_pattern)\n",
        "\n",
        "dfs = []\n",
        "for file in file_list:\n",
        "    with open(file) as f:\n",
        "        json_data = pd.json_normalize(json.loads(f.read()))\n",
        "        json_data['site'] = file.rsplit(\"/\", 1)[-1]\n",
        "    dfs.append(json_data)\n",
        "df = pd.concat(dfs)\n",
        "print(len(df))"
      ]
    },
    {
      "cell_type": "markdown",
      "metadata": {
        "id": "4HtaQ8q7knXe"
      },
      "source": [
        "Opening the JSON data using Pandas"
      ]
    },
    {
      "cell_type": "code",
      "execution_count": 3,
      "metadata": {
        "colab": {
          "base_uri": "https://localhost:8080/",
          "height": 358
        },
        "id": "o5Dar_QNTFC1",
        "outputId": "f9186e47-52da-43f0-dc0d-6172d3ceb69f"
      },
      "outputs": [
        {
          "data": {
            "text/html": [
              "<div>\n",
              "<style scoped>\n",
              "    .dataframe tbody tr th:only-of-type {\n",
              "        vertical-align: middle;\n",
              "    }\n",
              "\n",
              "    .dataframe tbody tr th {\n",
              "        vertical-align: top;\n",
              "    }\n",
              "\n",
              "    .dataframe thead th {\n",
              "        text-align: right;\n",
              "    }\n",
              "</style>\n",
              "<table border=\"1\" class=\"dataframe\">\n",
              "  <thead>\n",
              "    <tr style=\"text-align: right;\">\n",
              "      <th></th>\n",
              "      <th>date</th>\n",
              "      <th>author</th>\n",
              "      <th>text</th>\n",
              "      <th>title</th>\n",
              "      <th>stars</th>\n",
              "      <th>location</th>\n",
              "      <th>url</th>\n",
              "      <th>site</th>\n",
              "    </tr>\n",
              "  </thead>\n",
              "  <tbody>\n",
              "    <tr>\n",
              "      <th>0</th>\n",
              "      <td>2021-05-17</td>\n",
              "      <td>Lucy  Curtin</td>\n",
              "      <td>Absolutely terrible customer service - so many...</td>\n",
              "      <td>Absolutely terrible customer service</td>\n",
              "      <td>1</td>\n",
              "      <td>GB</td>\n",
              "      <td>https://www.trustpilot.com/review/vinted.fr?pa...</td>\n",
              "      <td>reviews_7.json</td>\n",
              "    </tr>\n",
              "    <tr>\n",
              "      <th>1</th>\n",
              "      <td>2021-05-21</td>\n",
              "      <td>Carolyn Worlock</td>\n",
              "      <td>Vinted works really well until there is a prob...</td>\n",
              "      <td>Vinted works really well until there is a problem</td>\n",
              "      <td>1</td>\n",
              "      <td>GB</td>\n",
              "      <td>https://www.trustpilot.com/review/vinted.fr?pa...</td>\n",
              "      <td>reviews_7.json</td>\n",
              "    </tr>\n",
              "    <tr>\n",
              "      <th>2</th>\n",
              "      <td>2021-05-23</td>\n",
              "      <td>Rosemary Hooper</td>\n",
              "      <td>There should be a no STAR option for this appa...</td>\n",
              "      <td>There should be a no STAR option for…</td>\n",
              "      <td>1</td>\n",
              "      <td>GB</td>\n",
              "      <td>https://www.trustpilot.com/review/vinted.fr?pa...</td>\n",
              "      <td>reviews_7.json</td>\n",
              "    </tr>\n",
              "    <tr>\n",
              "      <th>3</th>\n",
              "      <td>2021-05-23</td>\n",
              "      <td>Sarah A</td>\n",
              "      <td>Would be ok if some of the buyers didn't mess ...</td>\n",
              "      <td>Would be ok if some of the buyers…</td>\n",
              "      <td>2</td>\n",
              "      <td>GB</td>\n",
              "      <td>https://www.trustpilot.com/review/vinted.fr?pa...</td>\n",
              "      <td>reviews_7.json</td>\n",
              "    </tr>\n",
              "    <tr>\n",
              "      <th>4</th>\n",
              "      <td>2021-05-30</td>\n",
              "      <td>Michelle (customer)</td>\n",
              "      <td>Disgraceful service....not only am I now out o...</td>\n",
              "      <td>Disgraceful service....not only am I…</td>\n",
              "      <td>1</td>\n",
              "      <td>GB</td>\n",
              "      <td>https://www.trustpilot.com/review/vinted.fr?pa...</td>\n",
              "      <td>reviews_7.json</td>\n",
              "    </tr>\n",
              "    <tr>\n",
              "      <th>5</th>\n",
              "      <td>2021-05-31</td>\n",
              "      <td>Suzanne Fowler</td>\n",
              "      <td>Vinted is great whilst things go well but the ...</td>\n",
              "      <td>No seller protection</td>\n",
              "      <td>1</td>\n",
              "      <td>GB</td>\n",
              "      <td>https://www.trustpilot.com/review/vinted.fr?pa...</td>\n",
              "      <td>reviews_7.json</td>\n",
              "    </tr>\n",
              "    <tr>\n",
              "      <th>6</th>\n",
              "      <td>2021-06-02</td>\n",
              "      <td>Chrissy Bertram</td>\n",
              "      <td>I have been a loyal Vinted buyer since last ye...</td>\n",
              "      <td>Vinted/Buyer Protection Fee</td>\n",
              "      <td>1</td>\n",
              "      <td>US</td>\n",
              "      <td>https://www.trustpilot.com/review/vinted.fr?pa...</td>\n",
              "      <td>reviews_7.json</td>\n",
              "    </tr>\n",
              "    <tr>\n",
              "      <th>7</th>\n",
              "      <td>2021-06-03</td>\n",
              "      <td>Julie Malpus</td>\n",
              "      <td>I sold an item on vinted when the buyer receiv...</td>\n",
              "      <td>Avoid vinted at all costs</td>\n",
              "      <td>1</td>\n",
              "      <td>GB</td>\n",
              "      <td>https://www.trustpilot.com/review/vinted.fr?pa...</td>\n",
              "      <td>reviews_7.json</td>\n",
              "    </tr>\n",
              "    <tr>\n",
              "      <th>8</th>\n",
              "      <td>2021-06-04</td>\n",
              "      <td>Colin Edwards</td>\n",
              "      <td>Most of the buyers and sellers are good and tr...</td>\n",
              "      <td>Robots should be better than this by now</td>\n",
              "      <td>1</td>\n",
              "      <td>FR</td>\n",
              "      <td>https://www.trustpilot.com/review/vinted.fr?pa...</td>\n",
              "      <td>reviews_7.json</td>\n",
              "    </tr>\n",
              "    <tr>\n",
              "      <th>9</th>\n",
              "      <td>2021-06-08</td>\n",
              "      <td>Mary</td>\n",
              "      <td>Please don’t use vinted I accepted a return bu...</td>\n",
              "      <td>Please don’t use vinted I accepted a…</td>\n",
              "      <td>1</td>\n",
              "      <td>GB</td>\n",
              "      <td>https://www.trustpilot.com/review/vinted.fr?pa...</td>\n",
              "      <td>reviews_7.json</td>\n",
              "    </tr>\n",
              "  </tbody>\n",
              "</table>\n",
              "</div>"
            ],
            "text/plain": [
              "         date               author  \\\n",
              "0  2021-05-17        Lucy  Curtin    \n",
              "1  2021-05-21      Carolyn Worlock   \n",
              "2  2021-05-23      Rosemary Hooper   \n",
              "3  2021-05-23              Sarah A   \n",
              "4  2021-05-30  Michelle (customer)   \n",
              "5  2021-05-31       Suzanne Fowler   \n",
              "6  2021-06-02      Chrissy Bertram   \n",
              "7  2021-06-03         Julie Malpus   \n",
              "8  2021-06-04        Colin Edwards   \n",
              "9  2021-06-08                 Mary   \n",
              "\n",
              "                                                text  \\\n",
              "0  Absolutely terrible customer service - so many...   \n",
              "1  Vinted works really well until there is a prob...   \n",
              "2  There should be a no STAR option for this appa...   \n",
              "3  Would be ok if some of the buyers didn't mess ...   \n",
              "4  Disgraceful service....not only am I now out o...   \n",
              "5  Vinted is great whilst things go well but the ...   \n",
              "6  I have been a loyal Vinted buyer since last ye...   \n",
              "7  I sold an item on vinted when the buyer receiv...   \n",
              "8  Most of the buyers and sellers are good and tr...   \n",
              "9  Please don’t use vinted I accepted a return bu...   \n",
              "\n",
              "                                               title  stars location  \\\n",
              "0               Absolutely terrible customer service      1       GB   \n",
              "1  Vinted works really well until there is a problem      1       GB   \n",
              "2              There should be a no STAR option for…      1       GB   \n",
              "3                 Would be ok if some of the buyers…      2       GB   \n",
              "4              Disgraceful service....not only am I…      1       GB   \n",
              "5                               No seller protection      1       GB   \n",
              "6                        Vinted/Buyer Protection Fee      1       US   \n",
              "7                          Avoid vinted at all costs      1       GB   \n",
              "8           Robots should be better than this by now      1       FR   \n",
              "9              Please don’t use vinted I accepted a…      1       GB   \n",
              "\n",
              "                                                 url            site  \n",
              "0  https://www.trustpilot.com/review/vinted.fr?pa...  reviews_7.json  \n",
              "1  https://www.trustpilot.com/review/vinted.fr?pa...  reviews_7.json  \n",
              "2  https://www.trustpilot.com/review/vinted.fr?pa...  reviews_7.json  \n",
              "3  https://www.trustpilot.com/review/vinted.fr?pa...  reviews_7.json  \n",
              "4  https://www.trustpilot.com/review/vinted.fr?pa...  reviews_7.json  \n",
              "5  https://www.trustpilot.com/review/vinted.fr?pa...  reviews_7.json  \n",
              "6  https://www.trustpilot.com/review/vinted.fr?pa...  reviews_7.json  \n",
              "7  https://www.trustpilot.com/review/vinted.fr?pa...  reviews_7.json  \n",
              "8  https://www.trustpilot.com/review/vinted.fr?pa...  reviews_7.json  \n",
              "9  https://www.trustpilot.com/review/vinted.fr?pa...  reviews_7.json  "
            ]
          },
          "execution_count": 3,
          "metadata": {},
          "output_type": "execute_result"
        }
      ],
      "source": [
        "#Using Pandas\n",
        "\n",
        "json_pattern = os.path.join(json_dir, '*.json')\n",
        "file_list = glob.glob(json_pattern)\n",
        "\n",
        "dfs = []\n",
        "for file in file_list:\n",
        "    with open(file) as f:\n",
        "        json_data = pd.json_normalize(json.loads(f.read()))\n",
        "        json_data['site'] = file.rsplit(\"/\", 1)[-1]\n",
        "    dfs.append(json_data)\n",
        "reviewsDF = pd.concat(dfs)\n",
        "reviewsDF.head(10)"
      ]
    },
    {
      "cell_type": "markdown",
      "metadata": {
        "id": "PX3hyb7xcjWJ"
      },
      "source": [
        "# **Data Cleaning**"
      ]
    },
    {
      "cell_type": "markdown",
      "metadata": {
        "id": "NF1aIL1UkugH"
      },
      "source": [
        "Round 1 of cleaning: \n",
        "\n",
        "- Converting the text to Lowercase\n",
        "\n",
        "- Removing text in brackets\n",
        "\n",
        "- Removing punctuation and words"
      ]
    },
    {
      "cell_type": "code",
      "execution_count": 4,
      "metadata": {
        "colab": {
          "base_uri": "https://localhost:8080/"
        },
        "id": "B0m9rcjvTHvZ",
        "outputId": "40ccd2fc-1652-4636-f288-bdebeaa9baa7"
      },
      "outputs": [
        {
          "name": "stderr",
          "output_type": "stream",
          "text": [
            "<>:6: DeprecationWarning: invalid escape sequence \\[\n",
            "<>:9: DeprecationWarning: invalid escape sequence \\w\n",
            "<>:6: DeprecationWarning: invalid escape sequence \\[\n",
            "<>:9: DeprecationWarning: invalid escape sequence \\w\n",
            "<>:6: DeprecationWarning: invalid escape sequence \\[\n",
            "<>:9: DeprecationWarning: invalid escape sequence \\w\n",
            "/var/folders/ds/68h8wl896q32r63fbnlht_3c0000gn/T/ipykernel_3294/3334382259.py:6: DeprecationWarning: invalid escape sequence \\[\n",
            "  text = re.sub('\\[.*?\\]','',text)\n",
            "/var/folders/ds/68h8wl896q32r63fbnlht_3c0000gn/T/ipykernel_3294/3334382259.py:9: DeprecationWarning: invalid escape sequence \\w\n",
            "  text = re.sub('\\w*\\d\\w*','',text)\n"
          ]
        }
      ],
      "source": [
        "#Round 1 of cleaning\n",
        "def clean_text(text):\n",
        "    # converting to lower\n",
        "    text = text.lower() \n",
        "    #remove text in square brackets\n",
        "    text = re.sub('\\[.*?\\]','',text)\n",
        "    #remove punctuation and remove words\n",
        "    text = re.sub('[%s]' % re.escape(string.punctuation),'',text)\n",
        "    text = re.sub('\\w*\\d\\w*','',text)\n",
        "    return text"
      ]
    },
    {
      "cell_type": "code",
      "execution_count": 5,
      "metadata": {
        "colab": {
          "base_uri": "https://localhost:8080/",
          "height": 204
        },
        "id": "v8j9Kuiad4iX",
        "outputId": "b301b261-adbb-424c-e2ba-f1fafb780b54"
      },
      "outputs": [
        {
          "data": {
            "text/html": [
              "<div>\n",
              "<style scoped>\n",
              "    .dataframe tbody tr th:only-of-type {\n",
              "        vertical-align: middle;\n",
              "    }\n",
              "\n",
              "    .dataframe tbody tr th {\n",
              "        vertical-align: top;\n",
              "    }\n",
              "\n",
              "    .dataframe thead th {\n",
              "        text-align: right;\n",
              "    }\n",
              "</style>\n",
              "<table border=\"1\" class=\"dataframe\">\n",
              "  <thead>\n",
              "    <tr style=\"text-align: right;\">\n",
              "      <th></th>\n",
              "      <th>date</th>\n",
              "      <th>author</th>\n",
              "      <th>text</th>\n",
              "      <th>title</th>\n",
              "      <th>stars</th>\n",
              "      <th>location</th>\n",
              "      <th>url</th>\n",
              "      <th>site</th>\n",
              "    </tr>\n",
              "  </thead>\n",
              "  <tbody>\n",
              "    <tr>\n",
              "      <th>0</th>\n",
              "      <td>2021-05-17</td>\n",
              "      <td>Lucy  Curtin</td>\n",
              "      <td>absolutely terrible customer service  so many ...</td>\n",
              "      <td>absolutely terrible customer service</td>\n",
              "      <td>1</td>\n",
              "      <td>GB</td>\n",
              "      <td>https://www.trustpilot.com/review/vinted.fr?pa...</td>\n",
              "      <td>reviews_7.json</td>\n",
              "    </tr>\n",
              "    <tr>\n",
              "      <th>1</th>\n",
              "      <td>2021-05-21</td>\n",
              "      <td>Carolyn Worlock</td>\n",
              "      <td>vinted works really well until there is a prob...</td>\n",
              "      <td>vinted works really well until there is a problem</td>\n",
              "      <td>1</td>\n",
              "      <td>GB</td>\n",
              "      <td>https://www.trustpilot.com/review/vinted.fr?pa...</td>\n",
              "      <td>reviews_7.json</td>\n",
              "    </tr>\n",
              "    <tr>\n",
              "      <th>2</th>\n",
              "      <td>2021-05-23</td>\n",
              "      <td>Rosemary Hooper</td>\n",
              "      <td>there should be a no star option for this appa...</td>\n",
              "      <td>there should be a no star option for…</td>\n",
              "      <td>1</td>\n",
              "      <td>GB</td>\n",
              "      <td>https://www.trustpilot.com/review/vinted.fr?pa...</td>\n",
              "      <td>reviews_7.json</td>\n",
              "    </tr>\n",
              "    <tr>\n",
              "      <th>3</th>\n",
              "      <td>2021-05-23</td>\n",
              "      <td>Sarah A</td>\n",
              "      <td>would be ok if some of the buyers didnt mess y...</td>\n",
              "      <td>would be ok if some of the buyers…</td>\n",
              "      <td>2</td>\n",
              "      <td>GB</td>\n",
              "      <td>https://www.trustpilot.com/review/vinted.fr?pa...</td>\n",
              "      <td>reviews_7.json</td>\n",
              "    </tr>\n",
              "    <tr>\n",
              "      <th>4</th>\n",
              "      <td>2021-05-30</td>\n",
              "      <td>Michelle (customer)</td>\n",
              "      <td>disgraceful servicenot only am i now out of po...</td>\n",
              "      <td>disgraceful servicenot only am i…</td>\n",
              "      <td>1</td>\n",
              "      <td>GB</td>\n",
              "      <td>https://www.trustpilot.com/review/vinted.fr?pa...</td>\n",
              "      <td>reviews_7.json</td>\n",
              "    </tr>\n",
              "  </tbody>\n",
              "</table>\n",
              "</div>"
            ],
            "text/plain": [
              "         date               author  \\\n",
              "0  2021-05-17        Lucy  Curtin    \n",
              "1  2021-05-21      Carolyn Worlock   \n",
              "2  2021-05-23      Rosemary Hooper   \n",
              "3  2021-05-23              Sarah A   \n",
              "4  2021-05-30  Michelle (customer)   \n",
              "\n",
              "                                                text  \\\n",
              "0  absolutely terrible customer service  so many ...   \n",
              "1  vinted works really well until there is a prob...   \n",
              "2  there should be a no star option for this appa...   \n",
              "3  would be ok if some of the buyers didnt mess y...   \n",
              "4  disgraceful servicenot only am i now out of po...   \n",
              "\n",
              "                                               title  stars location  \\\n",
              "0               absolutely terrible customer service      1       GB   \n",
              "1  vinted works really well until there is a problem      1       GB   \n",
              "2              there should be a no star option for…      1       GB   \n",
              "3                 would be ok if some of the buyers…      2       GB   \n",
              "4                  disgraceful servicenot only am i…      1       GB   \n",
              "\n",
              "                                                 url            site  \n",
              "0  https://www.trustpilot.com/review/vinted.fr?pa...  reviews_7.json  \n",
              "1  https://www.trustpilot.com/review/vinted.fr?pa...  reviews_7.json  \n",
              "2  https://www.trustpilot.com/review/vinted.fr?pa...  reviews_7.json  \n",
              "3  https://www.trustpilot.com/review/vinted.fr?pa...  reviews_7.json  \n",
              "4  https://www.trustpilot.com/review/vinted.fr?pa...  reviews_7.json  "
            ]
          },
          "execution_count": 5,
          "metadata": {},
          "output_type": "execute_result"
        }
      ],
      "source": [
        "reviewsDF.title = reviewsDF.title.apply(clean_text)\n",
        "reviewsDF.text = reviewsDF.text.apply(clean_text)\n",
        "reviewsDF.head()"
      ]
    },
    {
      "cell_type": "markdown",
      "metadata": {
        "id": "xLb4LNtblAPn"
      },
      "source": [
        "Round 2 of Cleaning:\n",
        "\n",
        "- Removing additional punctuation\n",
        "\n",
        "- Removing non-sensical text"
      ]
    },
    {
      "cell_type": "code",
      "execution_count": 6,
      "metadata": {
        "id": "L2zh5PolXb3t"
      },
      "outputs": [],
      "source": [
        "#Round 2 of cleaning\n",
        "def clean_text2(text):\n",
        "    '''get rid of some additional punctuation and non-sesical text that was missed the first time'''\n",
        "    text = re.sub('[''\"\"...]','',text)\n",
        "    text = re.sub('\\n','',text)\n",
        "    return text"
      ]
    },
    {
      "cell_type": "code",
      "execution_count": 7,
      "metadata": {
        "colab": {
          "base_uri": "https://localhost:8080/",
          "height": 204
        },
        "id": "R5HMyh6IebeI",
        "outputId": "a19865c5-bf0e-4400-9a08-af0061e638e0"
      },
      "outputs": [
        {
          "data": {
            "text/html": [
              "<div>\n",
              "<style scoped>\n",
              "    .dataframe tbody tr th:only-of-type {\n",
              "        vertical-align: middle;\n",
              "    }\n",
              "\n",
              "    .dataframe tbody tr th {\n",
              "        vertical-align: top;\n",
              "    }\n",
              "\n",
              "    .dataframe thead th {\n",
              "        text-align: right;\n",
              "    }\n",
              "</style>\n",
              "<table border=\"1\" class=\"dataframe\">\n",
              "  <thead>\n",
              "    <tr style=\"text-align: right;\">\n",
              "      <th></th>\n",
              "      <th>date</th>\n",
              "      <th>author</th>\n",
              "      <th>text</th>\n",
              "      <th>title</th>\n",
              "      <th>stars</th>\n",
              "      <th>location</th>\n",
              "      <th>url</th>\n",
              "      <th>site</th>\n",
              "    </tr>\n",
              "  </thead>\n",
              "  <tbody>\n",
              "    <tr>\n",
              "      <th>0</th>\n",
              "      <td>2021-05-17</td>\n",
              "      <td>Lucy  Curtin</td>\n",
              "      <td>absolutely terrible customer service  so many ...</td>\n",
              "      <td>absolutely terrible customer service</td>\n",
              "      <td>1</td>\n",
              "      <td>GB</td>\n",
              "      <td>https://www.trustpilot.com/review/vinted.fr?pa...</td>\n",
              "      <td>reviews_7.json</td>\n",
              "    </tr>\n",
              "    <tr>\n",
              "      <th>1</th>\n",
              "      <td>2021-05-21</td>\n",
              "      <td>Carolyn Worlock</td>\n",
              "      <td>vinted works really well until there is a prob...</td>\n",
              "      <td>vinted works really well until there is a problem</td>\n",
              "      <td>1</td>\n",
              "      <td>GB</td>\n",
              "      <td>https://www.trustpilot.com/review/vinted.fr?pa...</td>\n",
              "      <td>reviews_7.json</td>\n",
              "    </tr>\n",
              "    <tr>\n",
              "      <th>2</th>\n",
              "      <td>2021-05-23</td>\n",
              "      <td>Rosemary Hooper</td>\n",
              "      <td>there should be a no star option for this appa...</td>\n",
              "      <td>there should be a no star option for…</td>\n",
              "      <td>1</td>\n",
              "      <td>GB</td>\n",
              "      <td>https://www.trustpilot.com/review/vinted.fr?pa...</td>\n",
              "      <td>reviews_7.json</td>\n",
              "    </tr>\n",
              "    <tr>\n",
              "      <th>3</th>\n",
              "      <td>2021-05-23</td>\n",
              "      <td>Sarah A</td>\n",
              "      <td>would be ok if some of the buyers didnt mess y...</td>\n",
              "      <td>would be ok if some of the buyers…</td>\n",
              "      <td>2</td>\n",
              "      <td>GB</td>\n",
              "      <td>https://www.trustpilot.com/review/vinted.fr?pa...</td>\n",
              "      <td>reviews_7.json</td>\n",
              "    </tr>\n",
              "    <tr>\n",
              "      <th>4</th>\n",
              "      <td>2021-05-30</td>\n",
              "      <td>Michelle (customer)</td>\n",
              "      <td>disgraceful servicenot only am i now out of po...</td>\n",
              "      <td>disgraceful servicenot only am i…</td>\n",
              "      <td>1</td>\n",
              "      <td>GB</td>\n",
              "      <td>https://www.trustpilot.com/review/vinted.fr?pa...</td>\n",
              "      <td>reviews_7.json</td>\n",
              "    </tr>\n",
              "  </tbody>\n",
              "</table>\n",
              "</div>"
            ],
            "text/plain": [
              "         date               author  \\\n",
              "0  2021-05-17        Lucy  Curtin    \n",
              "1  2021-05-21      Carolyn Worlock   \n",
              "2  2021-05-23      Rosemary Hooper   \n",
              "3  2021-05-23              Sarah A   \n",
              "4  2021-05-30  Michelle (customer)   \n",
              "\n",
              "                                                text  \\\n",
              "0  absolutely terrible customer service  so many ...   \n",
              "1  vinted works really well until there is a prob...   \n",
              "2  there should be a no star option for this appa...   \n",
              "3  would be ok if some of the buyers didnt mess y...   \n",
              "4  disgraceful servicenot only am i now out of po...   \n",
              "\n",
              "                                               title  stars location  \\\n",
              "0               absolutely terrible customer service      1       GB   \n",
              "1  vinted works really well until there is a problem      1       GB   \n",
              "2              there should be a no star option for…      1       GB   \n",
              "3                 would be ok if some of the buyers…      2       GB   \n",
              "4                  disgraceful servicenot only am i…      1       GB   \n",
              "\n",
              "                                                 url            site  \n",
              "0  https://www.trustpilot.com/review/vinted.fr?pa...  reviews_7.json  \n",
              "1  https://www.trustpilot.com/review/vinted.fr?pa...  reviews_7.json  \n",
              "2  https://www.trustpilot.com/review/vinted.fr?pa...  reviews_7.json  \n",
              "3  https://www.trustpilot.com/review/vinted.fr?pa...  reviews_7.json  \n",
              "4  https://www.trustpilot.com/review/vinted.fr?pa...  reviews_7.json  "
            ]
          },
          "execution_count": 7,
          "metadata": {},
          "output_type": "execute_result"
        }
      ],
      "source": [
        "reviewsDF.title = reviewsDF.title.apply(clean_text2)\n",
        "reviewsDF.text = reviewsDF.text.apply(clean_text2)\n",
        "reviewsDF.head()"
      ]
    },
    {
      "cell_type": "markdown",
      "metadata": {
        "id": "_sZbppKdlNkN"
      },
      "source": [
        "Round 3 of Cleaning:\n",
        "\n",
        "- Punctuation\n",
        "\n",
        "- Words containing numbers\n",
        "\n",
        "- Stopwords\n",
        "\n",
        "- Empty tokens\n",
        "\n",
        "- Part of Speech Tagging\n",
        "\n",
        "- Lemmatization\n",
        "\n",
        "- Removing one letter words"
      ]
    },
    {
      "cell_type": "code",
      "execution_count": 8,
      "metadata": {
        "id": "md55n-E9eeVy"
      },
      "outputs": [],
      "source": [
        "#Round 3 of cleaning (postag, stopwords removal and lemmatization etc)\n",
        "def get_wordnet_pos(word):\n",
        "    #Map POS tag to first letter\n",
        "    tag = nltk.pos_tag([word])[0][1][0].upper()\n",
        "    tag_dict = {\"J\": wordnet.ADJ,\n",
        "                \"N\": wordnet.NOUN,\n",
        "                \"V\": wordnet.VERB,\n",
        "                \"R\": wordnet.ADV}\n",
        "\n",
        "    return tag_dict.get(tag, wordnet.NOUN)\n",
        "    \n",
        "def clean_text3(text):\n",
        "    #tokenizing removing puncutation\n",
        "    text = [word.strip(string.punctuation) for word in text.split(\" \")]\n",
        "    #removing words containing numbers\n",
        "    text = [word for word in text if not any(c.isdigit() for c in word)]\n",
        "    #removing stopwords\n",
        "    stop = stopwords.words('english')\n",
        "    text = [x for x in text if x not in stop]\n",
        "    #removing empty tokens\n",
        "    text = [t for t in text if len(t) > 0]\n",
        "    #part of speech tagging\n",
        "    pos_tags = pos_tag(text)\n",
        "    #lemmatizing text\n",
        "    text = [WordNetLemmatizer().lemmatize(t[0], get_wordnet_pos(t[1])) for t in pos_tags]\n",
        "    #removing one letter words\n",
        "    text = [t for t in text if len(t) > 1]\n",
        "    #joining\n",
        "    text = \" \".join(text)\n",
        "    return(text)"
      ]
    },
    {
      "cell_type": "code",
      "execution_count": 9,
      "metadata": {
        "colab": {
          "base_uri": "https://localhost:8080/",
          "height": 204
        },
        "id": "lOXSK7xsgDXO",
        "outputId": "00193a00-4550-49d0-d442-29d912fea499"
      },
      "outputs": [
        {
          "data": {
            "text/html": [
              "<div>\n",
              "<style scoped>\n",
              "    .dataframe tbody tr th:only-of-type {\n",
              "        vertical-align: middle;\n",
              "    }\n",
              "\n",
              "    .dataframe tbody tr th {\n",
              "        vertical-align: top;\n",
              "    }\n",
              "\n",
              "    .dataframe thead th {\n",
              "        text-align: right;\n",
              "    }\n",
              "</style>\n",
              "<table border=\"1\" class=\"dataframe\">\n",
              "  <thead>\n",
              "    <tr style=\"text-align: right;\">\n",
              "      <th></th>\n",
              "      <th>date</th>\n",
              "      <th>author</th>\n",
              "      <th>text</th>\n",
              "      <th>title</th>\n",
              "      <th>stars</th>\n",
              "      <th>location</th>\n",
              "      <th>url</th>\n",
              "      <th>site</th>\n",
              "    </tr>\n",
              "  </thead>\n",
              "  <tbody>\n",
              "    <tr>\n",
              "      <th>0</th>\n",
              "      <td>2021-05-17</td>\n",
              "      <td>Lucy  Curtin</td>\n",
              "      <td>absolutely terrible customer service many emai...</td>\n",
              "      <td>absolutely terrible customer service</td>\n",
              "      <td>1</td>\n",
              "      <td>GB</td>\n",
              "      <td>https://www.trustpilot.com/review/vinted.fr?pa...</td>\n",
              "      <td>reviews_7.json</td>\n",
              "    </tr>\n",
              "    <tr>\n",
              "      <th>1</th>\n",
              "      <td>2021-05-21</td>\n",
              "      <td>Carolyn Worlock</td>\n",
              "      <td>vinted work really well problem sold number it...</td>\n",
              "      <td>vinted work really well problem</td>\n",
              "      <td>1</td>\n",
              "      <td>GB</td>\n",
              "      <td>https://www.trustpilot.com/review/vinted.fr?pa...</td>\n",
              "      <td>reviews_7.json</td>\n",
              "    </tr>\n",
              "    <tr>\n",
              "      <th>2</th>\n",
              "      <td>2021-05-23</td>\n",
              "      <td>Rosemary Hooper</td>\n",
              "      <td>star option appalling socalled company complai...</td>\n",
              "      <td>star option for…</td>\n",
              "      <td>1</td>\n",
              "      <td>GB</td>\n",
              "      <td>https://www.trustpilot.com/review/vinted.fr?pa...</td>\n",
              "      <td>reviews_7.json</td>\n",
              "    </tr>\n",
              "    <tr>\n",
              "      <th>3</th>\n",
              "      <td>2021-05-23</td>\n",
              "      <td>Sarah A</td>\n",
              "      <td>would ok buyer didnt mess go trouble sending i...</td>\n",
              "      <td>would ok buyers…</td>\n",
              "      <td>2</td>\n",
              "      <td>GB</td>\n",
              "      <td>https://www.trustpilot.com/review/vinted.fr?pa...</td>\n",
              "      <td>reviews_7.json</td>\n",
              "    </tr>\n",
              "    <tr>\n",
              "      <th>4</th>\n",
              "      <td>2021-05-30</td>\n",
              "      <td>Michelle (customer)</td>\n",
              "      <td>disgraceful servicenot pocket postage paid adi...</td>\n",
              "      <td>disgraceful servicenot i…</td>\n",
              "      <td>1</td>\n",
              "      <td>GB</td>\n",
              "      <td>https://www.trustpilot.com/review/vinted.fr?pa...</td>\n",
              "      <td>reviews_7.json</td>\n",
              "    </tr>\n",
              "  </tbody>\n",
              "</table>\n",
              "</div>"
            ],
            "text/plain": [
              "         date               author  \\\n",
              "0  2021-05-17        Lucy  Curtin    \n",
              "1  2021-05-21      Carolyn Worlock   \n",
              "2  2021-05-23      Rosemary Hooper   \n",
              "3  2021-05-23              Sarah A   \n",
              "4  2021-05-30  Michelle (customer)   \n",
              "\n",
              "                                                text  \\\n",
              "0  absolutely terrible customer service many emai...   \n",
              "1  vinted work really well problem sold number it...   \n",
              "2  star option appalling socalled company complai...   \n",
              "3  would ok buyer didnt mess go trouble sending i...   \n",
              "4  disgraceful servicenot pocket postage paid adi...   \n",
              "\n",
              "                                  title  stars location  \\\n",
              "0  absolutely terrible customer service      1       GB   \n",
              "1       vinted work really well problem      1       GB   \n",
              "2                      star option for…      1       GB   \n",
              "3                      would ok buyers…      2       GB   \n",
              "4             disgraceful servicenot i…      1       GB   \n",
              "\n",
              "                                                 url            site  \n",
              "0  https://www.trustpilot.com/review/vinted.fr?pa...  reviews_7.json  \n",
              "1  https://www.trustpilot.com/review/vinted.fr?pa...  reviews_7.json  \n",
              "2  https://www.trustpilot.com/review/vinted.fr?pa...  reviews_7.json  \n",
              "3  https://www.trustpilot.com/review/vinted.fr?pa...  reviews_7.json  \n",
              "4  https://www.trustpilot.com/review/vinted.fr?pa...  reviews_7.json  "
            ]
          },
          "execution_count": 9,
          "metadata": {},
          "output_type": "execute_result"
        }
      ],
      "source": [
        "reviewsDF.title = reviewsDF.title.apply(clean_text3)\n",
        "reviewsDF.text = reviewsDF.text.apply(clean_text3)\n",
        "reviewsDF.head()"
      ]
    },
    {
      "cell_type": "markdown",
      "metadata": {
        "id": "tO36eM80li9D"
      },
      "source": [
        "Save the Cleaned data for easy later use"
      ]
    },
    {
      "cell_type": "code",
      "execution_count": 10,
      "metadata": {
        "id": "fhsZv44hgHNW"
      },
      "outputs": [],
      "source": [
        "#Pickling the DF for later use\n",
        "reviewsDF.to_pickle(web+\".pkl\")"
      ]
    },
    {
      "cell_type": "markdown",
      "metadata": {
        "id": "XQ5D-Eu8miWb"
      },
      "source": [
        "# **Feature Engineering**"
      ]
    },
    {
      "cell_type": "markdown",
      "metadata": {
        "id": "lnhUZxiXlqgt"
      },
      "source": [
        "Adding new columns for\n",
        "1. Length\n",
        "2. Word Count\n",
        "3. Polarity\n",
        "4. Sentiment\n",
        "5. Rating\n",
        "6. Website"
      ]
    },
    {
      "cell_type": "code",
      "execution_count": 11,
      "metadata": {
        "colab": {
          "base_uri": "https://localhost:8080/",
          "height": 289
        },
        "id": "63LvF1nplGx-",
        "outputId": "df4935c7-d596-4ea3-c3d3-4ed8cdf5a504"
      },
      "outputs": [
        {
          "data": {
            "text/html": [
              "<div>\n",
              "<style scoped>\n",
              "    .dataframe tbody tr th:only-of-type {\n",
              "        vertical-align: middle;\n",
              "    }\n",
              "\n",
              "    .dataframe tbody tr th {\n",
              "        vertical-align: top;\n",
              "    }\n",
              "\n",
              "    .dataframe thead th {\n",
              "        text-align: right;\n",
              "    }\n",
              "</style>\n",
              "<table border=\"1\" class=\"dataframe\">\n",
              "  <thead>\n",
              "    <tr style=\"text-align: right;\">\n",
              "      <th></th>\n",
              "      <th>date</th>\n",
              "      <th>author</th>\n",
              "      <th>text</th>\n",
              "      <th>title</th>\n",
              "      <th>stars</th>\n",
              "      <th>location</th>\n",
              "      <th>url</th>\n",
              "      <th>site</th>\n",
              "      <th>length</th>\n",
              "      <th>numOfWords</th>\n",
              "      <th>polarity</th>\n",
              "      <th>neg</th>\n",
              "      <th>neu</th>\n",
              "      <th>pos</th>\n",
              "      <th>compound</th>\n",
              "    </tr>\n",
              "  </thead>\n",
              "  <tbody>\n",
              "    <tr>\n",
              "      <th>0</th>\n",
              "      <td>2021-05-17</td>\n",
              "      <td>Lucy  Curtin</td>\n",
              "      <td>absolutely terrible customer service many emai...</td>\n",
              "      <td>absolutely terrible customer service</td>\n",
              "      <td>1</td>\n",
              "      <td>GB</td>\n",
              "      <td>https://www.trustpilot.com/review/vinted.fr?pa...</td>\n",
              "      <td>reviews_7.json</td>\n",
              "      <td>68</td>\n",
              "      <td>9</td>\n",
              "      <td>-0.250000</td>\n",
              "      <td>0.545</td>\n",
              "      <td>0.455</td>\n",
              "      <td>0.000</td>\n",
              "      <td>-0.7346</td>\n",
              "    </tr>\n",
              "    <tr>\n",
              "      <th>1</th>\n",
              "      <td>2021-05-21</td>\n",
              "      <td>Carolyn Worlock</td>\n",
              "      <td>vinted work really well problem sold number it...</td>\n",
              "      <td>vinted work really well problem</td>\n",
              "      <td>1</td>\n",
              "      <td>GB</td>\n",
              "      <td>https://www.trustpilot.com/review/vinted.fr?pa...</td>\n",
              "      <td>reviews_7.json</td>\n",
              "      <td>393</td>\n",
              "      <td>62</td>\n",
              "      <td>0.333333</td>\n",
              "      <td>0.162</td>\n",
              "      <td>0.547</td>\n",
              "      <td>0.291</td>\n",
              "      <td>0.8417</td>\n",
              "    </tr>\n",
              "    <tr>\n",
              "      <th>2</th>\n",
              "      <td>2021-05-23</td>\n",
              "      <td>Rosemary Hooper</td>\n",
              "      <td>star option appalling socalled company complai...</td>\n",
              "      <td>star option for…</td>\n",
              "      <td>1</td>\n",
              "      <td>GB</td>\n",
              "      <td>https://www.trustpilot.com/review/vinted.fr?pa...</td>\n",
              "      <td>reviews_7.json</td>\n",
              "      <td>124</td>\n",
              "      <td>16</td>\n",
              "      <td>-0.116667</td>\n",
              "      <td>0.255</td>\n",
              "      <td>0.612</td>\n",
              "      <td>0.133</td>\n",
              "      <td>-0.5267</td>\n",
              "    </tr>\n",
              "    <tr>\n",
              "      <th>3</th>\n",
              "      <td>2021-05-23</td>\n",
              "      <td>Sarah A</td>\n",
              "      <td>would ok buyer didnt mess go trouble sending i...</td>\n",
              "      <td>would ok buyers…</td>\n",
              "      <td>2</td>\n",
              "      <td>GB</td>\n",
              "      <td>https://www.trustpilot.com/review/vinted.fr?pa...</td>\n",
              "      <td>reviews_7.json</td>\n",
              "      <td>246</td>\n",
              "      <td>37</td>\n",
              "      <td>0.041667</td>\n",
              "      <td>0.000</td>\n",
              "      <td>0.793</td>\n",
              "      <td>0.207</td>\n",
              "      <td>0.7652</td>\n",
              "    </tr>\n",
              "    <tr>\n",
              "      <th>4</th>\n",
              "      <td>2021-05-30</td>\n",
              "      <td>Michelle (customer)</td>\n",
              "      <td>disgraceful servicenot pocket postage paid adi...</td>\n",
              "      <td>disgraceful servicenot i…</td>\n",
              "      <td>1</td>\n",
              "      <td>GB</td>\n",
              "      <td>https://www.trustpilot.com/review/vinted.fr?pa...</td>\n",
              "      <td>reviews_7.json</td>\n",
              "      <td>199</td>\n",
              "      <td>27</td>\n",
              "      <td>-0.228571</td>\n",
              "      <td>0.287</td>\n",
              "      <td>0.659</td>\n",
              "      <td>0.054</td>\n",
              "      <td>-0.8442</td>\n",
              "    </tr>\n",
              "  </tbody>\n",
              "</table>\n",
              "</div>"
            ],
            "text/plain": [
              "         date               author  \\\n",
              "0  2021-05-17        Lucy  Curtin    \n",
              "1  2021-05-21      Carolyn Worlock   \n",
              "2  2021-05-23      Rosemary Hooper   \n",
              "3  2021-05-23              Sarah A   \n",
              "4  2021-05-30  Michelle (customer)   \n",
              "\n",
              "                                                text  \\\n",
              "0  absolutely terrible customer service many emai...   \n",
              "1  vinted work really well problem sold number it...   \n",
              "2  star option appalling socalled company complai...   \n",
              "3  would ok buyer didnt mess go trouble sending i...   \n",
              "4  disgraceful servicenot pocket postage paid adi...   \n",
              "\n",
              "                                  title  stars location  \\\n",
              "0  absolutely terrible customer service      1       GB   \n",
              "1       vinted work really well problem      1       GB   \n",
              "2                      star option for…      1       GB   \n",
              "3                      would ok buyers…      2       GB   \n",
              "4             disgraceful servicenot i…      1       GB   \n",
              "\n",
              "                                                 url            site  length  \\\n",
              "0  https://www.trustpilot.com/review/vinted.fr?pa...  reviews_7.json      68   \n",
              "1  https://www.trustpilot.com/review/vinted.fr?pa...  reviews_7.json     393   \n",
              "2  https://www.trustpilot.com/review/vinted.fr?pa...  reviews_7.json     124   \n",
              "3  https://www.trustpilot.com/review/vinted.fr?pa...  reviews_7.json     246   \n",
              "4  https://www.trustpilot.com/review/vinted.fr?pa...  reviews_7.json     199   \n",
              "\n",
              "   numOfWords  polarity    neg    neu    pos  compound  \n",
              "0           9 -0.250000  0.545  0.455  0.000   -0.7346  \n",
              "1          62  0.333333  0.162  0.547  0.291    0.8417  \n",
              "2          16 -0.116667  0.255  0.612  0.133   -0.5267  \n",
              "3          37  0.041667  0.000  0.793  0.207    0.7652  \n",
              "4          27 -0.228571  0.287  0.659  0.054   -0.8442  "
            ]
          },
          "execution_count": 11,
          "metadata": {},
          "output_type": "execute_result"
        }
      ],
      "source": [
        "#Let's add a column length, which indicates the length of each text\n",
        "reviewsDF['length'] = reviewsDF['text'].apply(len)\n",
        "#Adding a column numOfWords which indicates the number of words in the text\n",
        "reviewsDF['numOfWords'] = reviewsDF['text'].apply(lambda x: len(x.split(\" \")))\n",
        "#Adding a Polarity column - using TextBlob\n",
        "reviewsDF['polarity'] = reviewsDF['text'].map(lambda text: TextBlob(text).sentiment.polarity)\n",
        "#Adding Sentiment Intensity column - using SentimentIntensityAnalyzer\n",
        "sid = SentimentIntensityAnalyzer()\n",
        "reviewsDF[\"sentiments\"] = reviewsDF[\"text\"].apply(lambda x: sid.polarity_scores(x))\n",
        "reviewsDF = pd.concat([reviewsDF.drop(['sentiments'], axis=1), reviewsDF['sentiments'].apply(pd.Series)], axis=1)\n",
        "reviewsDF.head()"
      ]
    },
    {
      "cell_type": "code",
      "execution_count": 12,
      "metadata": {
        "colab": {
          "base_uri": "https://localhost:8080/"
        },
        "id": "CwUXwpKVpXT-",
        "outputId": "68479112-bba2-48f5-ced7-a7d08af8fc73"
      },
      "outputs": [
        {
          "data": {
            "text/plain": [
              "neg    161\n",
              "pos    113\n",
              "Name: Sentiment, dtype: int64"
            ]
          },
          "execution_count": 12,
          "metadata": {},
          "output_type": "execute_result"
        }
      ],
      "source": [
        "#Adding a Sentiment column depending on the calculated compound score\n",
        "reviewsDF['Sentiment'] = reviewsDF['compound'].apply(lambda c: 'pos' if c >=0 else 'neg')\n",
        "reviewsDF.Sentiment.value_counts()"
      ]
    },
    {
      "cell_type": "code",
      "execution_count": 13,
      "metadata": {
        "colab": {
          "base_uri": "https://localhost:8080/",
          "height": 289
        },
        "id": "tB5P5OzYpDkR",
        "outputId": "9f7e66e5-a45e-4699-84cd-007f072c4843"
      },
      "outputs": [
        {
          "data": {
            "text/html": [
              "<div>\n",
              "<style scoped>\n",
              "    .dataframe tbody tr th:only-of-type {\n",
              "        vertical-align: middle;\n",
              "    }\n",
              "\n",
              "    .dataframe tbody tr th {\n",
              "        vertical-align: top;\n",
              "    }\n",
              "\n",
              "    .dataframe thead th {\n",
              "        text-align: right;\n",
              "    }\n",
              "</style>\n",
              "<table border=\"1\" class=\"dataframe\">\n",
              "  <thead>\n",
              "    <tr style=\"text-align: right;\">\n",
              "      <th></th>\n",
              "      <th>date</th>\n",
              "      <th>author</th>\n",
              "      <th>text</th>\n",
              "      <th>title</th>\n",
              "      <th>stars</th>\n",
              "      <th>location</th>\n",
              "      <th>url</th>\n",
              "      <th>site</th>\n",
              "      <th>length</th>\n",
              "      <th>numOfWords</th>\n",
              "      <th>polarity</th>\n",
              "      <th>neg</th>\n",
              "      <th>neu</th>\n",
              "      <th>pos</th>\n",
              "      <th>compound</th>\n",
              "      <th>Sentiment</th>\n",
              "      <th>rating</th>\n",
              "    </tr>\n",
              "  </thead>\n",
              "  <tbody>\n",
              "    <tr>\n",
              "      <th>0</th>\n",
              "      <td>2021-05-17</td>\n",
              "      <td>Lucy  Curtin</td>\n",
              "      <td>absolutely terrible customer service many emai...</td>\n",
              "      <td>absolutely terrible customer service</td>\n",
              "      <td>1</td>\n",
              "      <td>GB</td>\n",
              "      <td>https://www.trustpilot.com/review/vinted.fr?pa...</td>\n",
              "      <td>reviews_7.json</td>\n",
              "      <td>68</td>\n",
              "      <td>9</td>\n",
              "      <td>-0.250000</td>\n",
              "      <td>0.545</td>\n",
              "      <td>0.455</td>\n",
              "      <td>0.000</td>\n",
              "      <td>-0.7346</td>\n",
              "      <td>neg</td>\n",
              "      <td>1</td>\n",
              "    </tr>\n",
              "    <tr>\n",
              "      <th>1</th>\n",
              "      <td>2021-05-21</td>\n",
              "      <td>Carolyn Worlock</td>\n",
              "      <td>vinted work really well problem sold number it...</td>\n",
              "      <td>vinted work really well problem</td>\n",
              "      <td>1</td>\n",
              "      <td>GB</td>\n",
              "      <td>https://www.trustpilot.com/review/vinted.fr?pa...</td>\n",
              "      <td>reviews_7.json</td>\n",
              "      <td>393</td>\n",
              "      <td>62</td>\n",
              "      <td>0.333333</td>\n",
              "      <td>0.162</td>\n",
              "      <td>0.547</td>\n",
              "      <td>0.291</td>\n",
              "      <td>0.8417</td>\n",
              "      <td>pos</td>\n",
              "      <td>1</td>\n",
              "    </tr>\n",
              "    <tr>\n",
              "      <th>2</th>\n",
              "      <td>2021-05-23</td>\n",
              "      <td>Rosemary Hooper</td>\n",
              "      <td>star option appalling socalled company complai...</td>\n",
              "      <td>star option for…</td>\n",
              "      <td>1</td>\n",
              "      <td>GB</td>\n",
              "      <td>https://www.trustpilot.com/review/vinted.fr?pa...</td>\n",
              "      <td>reviews_7.json</td>\n",
              "      <td>124</td>\n",
              "      <td>16</td>\n",
              "      <td>-0.116667</td>\n",
              "      <td>0.255</td>\n",
              "      <td>0.612</td>\n",
              "      <td>0.133</td>\n",
              "      <td>-0.5267</td>\n",
              "      <td>neg</td>\n",
              "      <td>1</td>\n",
              "    </tr>\n",
              "    <tr>\n",
              "      <th>3</th>\n",
              "      <td>2021-05-23</td>\n",
              "      <td>Sarah A</td>\n",
              "      <td>would ok buyer didnt mess go trouble sending i...</td>\n",
              "      <td>would ok buyers…</td>\n",
              "      <td>2</td>\n",
              "      <td>GB</td>\n",
              "      <td>https://www.trustpilot.com/review/vinted.fr?pa...</td>\n",
              "      <td>reviews_7.json</td>\n",
              "      <td>246</td>\n",
              "      <td>37</td>\n",
              "      <td>0.041667</td>\n",
              "      <td>0.000</td>\n",
              "      <td>0.793</td>\n",
              "      <td>0.207</td>\n",
              "      <td>0.7652</td>\n",
              "      <td>pos</td>\n",
              "      <td>2</td>\n",
              "    </tr>\n",
              "    <tr>\n",
              "      <th>4</th>\n",
              "      <td>2021-05-30</td>\n",
              "      <td>Michelle (customer)</td>\n",
              "      <td>disgraceful servicenot pocket postage paid adi...</td>\n",
              "      <td>disgraceful servicenot i…</td>\n",
              "      <td>1</td>\n",
              "      <td>GB</td>\n",
              "      <td>https://www.trustpilot.com/review/vinted.fr?pa...</td>\n",
              "      <td>reviews_7.json</td>\n",
              "      <td>199</td>\n",
              "      <td>27</td>\n",
              "      <td>-0.228571</td>\n",
              "      <td>0.287</td>\n",
              "      <td>0.659</td>\n",
              "      <td>0.054</td>\n",
              "      <td>-0.8442</td>\n",
              "      <td>neg</td>\n",
              "      <td>1</td>\n",
              "    </tr>\n",
              "  </tbody>\n",
              "</table>\n",
              "</div>"
            ],
            "text/plain": [
              "         date               author  \\\n",
              "0  2021-05-17        Lucy  Curtin    \n",
              "1  2021-05-21      Carolyn Worlock   \n",
              "2  2021-05-23      Rosemary Hooper   \n",
              "3  2021-05-23              Sarah A   \n",
              "4  2021-05-30  Michelle (customer)   \n",
              "\n",
              "                                                text  \\\n",
              "0  absolutely terrible customer service many emai...   \n",
              "1  vinted work really well problem sold number it...   \n",
              "2  star option appalling socalled company complai...   \n",
              "3  would ok buyer didnt mess go trouble sending i...   \n",
              "4  disgraceful servicenot pocket postage paid adi...   \n",
              "\n",
              "                                  title  stars location  \\\n",
              "0  absolutely terrible customer service      1       GB   \n",
              "1       vinted work really well problem      1       GB   \n",
              "2                      star option for…      1       GB   \n",
              "3                      would ok buyers…      2       GB   \n",
              "4             disgraceful servicenot i…      1       GB   \n",
              "\n",
              "                                                 url            site  length  \\\n",
              "0  https://www.trustpilot.com/review/vinted.fr?pa...  reviews_7.json      68   \n",
              "1  https://www.trustpilot.com/review/vinted.fr?pa...  reviews_7.json     393   \n",
              "2  https://www.trustpilot.com/review/vinted.fr?pa...  reviews_7.json     124   \n",
              "3  https://www.trustpilot.com/review/vinted.fr?pa...  reviews_7.json     246   \n",
              "4  https://www.trustpilot.com/review/vinted.fr?pa...  reviews_7.json     199   \n",
              "\n",
              "   numOfWords  polarity    neg    neu    pos  compound Sentiment  rating  \n",
              "0           9 -0.250000  0.545  0.455  0.000   -0.7346       neg       1  \n",
              "1          62  0.333333  0.162  0.547  0.291    0.8417       pos       1  \n",
              "2          16 -0.116667  0.255  0.612  0.133   -0.5267       neg       1  \n",
              "3          37  0.041667  0.000  0.793  0.207    0.7652       pos       2  \n",
              "4          27 -0.228571  0.287  0.659  0.054   -0.8442       neg       1  "
            ]
          },
          "execution_count": 13,
          "metadata": {},
          "output_type": "execute_result"
        }
      ],
      "source": [
        "#Adding a column (numeric) for rating\n",
        "#reviewsDF.stars.value_counts()\n",
        "reviewsDF['rating'] = reviewsDF['stars']\n",
        "reviewsDF.head()"
      ]
    },
    {
      "cell_type": "code",
      "execution_count": 14,
      "metadata": {
        "colab": {
          "base_uri": "https://localhost:8080/",
          "height": 289
        },
        "id": "K-TWCtGUrw8x",
        "outputId": "154260c0-ed78-4289-de75-076cb7b05c03"
      },
      "outputs": [
        {
          "data": {
            "text/html": [
              "<div>\n",
              "<style scoped>\n",
              "    .dataframe tbody tr th:only-of-type {\n",
              "        vertical-align: middle;\n",
              "    }\n",
              "\n",
              "    .dataframe tbody tr th {\n",
              "        vertical-align: top;\n",
              "    }\n",
              "\n",
              "    .dataframe thead th {\n",
              "        text-align: right;\n",
              "    }\n",
              "</style>\n",
              "<table border=\"1\" class=\"dataframe\">\n",
              "  <thead>\n",
              "    <tr style=\"text-align: right;\">\n",
              "      <th></th>\n",
              "      <th>date</th>\n",
              "      <th>author</th>\n",
              "      <th>text</th>\n",
              "      <th>title</th>\n",
              "      <th>stars</th>\n",
              "      <th>location</th>\n",
              "      <th>url</th>\n",
              "      <th>site</th>\n",
              "      <th>length</th>\n",
              "      <th>numOfWords</th>\n",
              "      <th>polarity</th>\n",
              "      <th>neg</th>\n",
              "      <th>neu</th>\n",
              "      <th>pos</th>\n",
              "      <th>compound</th>\n",
              "      <th>Sentiment</th>\n",
              "      <th>rating</th>\n",
              "      <th>Site</th>\n",
              "    </tr>\n",
              "  </thead>\n",
              "  <tbody>\n",
              "    <tr>\n",
              "      <th>0</th>\n",
              "      <td>2021-05-17</td>\n",
              "      <td>Lucy  Curtin</td>\n",
              "      <td>absolutely terrible customer service many emai...</td>\n",
              "      <td>absolutely terrible customer service</td>\n",
              "      <td>1</td>\n",
              "      <td>GB</td>\n",
              "      <td>https://www.trustpilot.com/review/vinted.fr?pa...</td>\n",
              "      <td>reviews_7.json</td>\n",
              "      <td>68</td>\n",
              "      <td>9</td>\n",
              "      <td>-0.250000</td>\n",
              "      <td>0.545</td>\n",
              "      <td>0.455</td>\n",
              "      <td>0.000</td>\n",
              "      <td>-0.7346</td>\n",
              "      <td>neg</td>\n",
              "      <td>1</td>\n",
              "      <td>vinted.fr?page=7&amp;stars=1&amp;stars=2&amp;stars=3</td>\n",
              "    </tr>\n",
              "    <tr>\n",
              "      <th>1</th>\n",
              "      <td>2021-05-21</td>\n",
              "      <td>Carolyn Worlock</td>\n",
              "      <td>vinted work really well problem sold number it...</td>\n",
              "      <td>vinted work really well problem</td>\n",
              "      <td>1</td>\n",
              "      <td>GB</td>\n",
              "      <td>https://www.trustpilot.com/review/vinted.fr?pa...</td>\n",
              "      <td>reviews_7.json</td>\n",
              "      <td>393</td>\n",
              "      <td>62</td>\n",
              "      <td>0.333333</td>\n",
              "      <td>0.162</td>\n",
              "      <td>0.547</td>\n",
              "      <td>0.291</td>\n",
              "      <td>0.8417</td>\n",
              "      <td>pos</td>\n",
              "      <td>1</td>\n",
              "      <td>vinted.fr?page=7&amp;stars=1&amp;stars=2&amp;stars=3</td>\n",
              "    </tr>\n",
              "    <tr>\n",
              "      <th>2</th>\n",
              "      <td>2021-05-23</td>\n",
              "      <td>Rosemary Hooper</td>\n",
              "      <td>star option appalling socalled company complai...</td>\n",
              "      <td>star option for…</td>\n",
              "      <td>1</td>\n",
              "      <td>GB</td>\n",
              "      <td>https://www.trustpilot.com/review/vinted.fr?pa...</td>\n",
              "      <td>reviews_7.json</td>\n",
              "      <td>124</td>\n",
              "      <td>16</td>\n",
              "      <td>-0.116667</td>\n",
              "      <td>0.255</td>\n",
              "      <td>0.612</td>\n",
              "      <td>0.133</td>\n",
              "      <td>-0.5267</td>\n",
              "      <td>neg</td>\n",
              "      <td>1</td>\n",
              "      <td>vinted.fr?page=7&amp;stars=1&amp;stars=2&amp;stars=3</td>\n",
              "    </tr>\n",
              "    <tr>\n",
              "      <th>3</th>\n",
              "      <td>2021-05-23</td>\n",
              "      <td>Sarah A</td>\n",
              "      <td>would ok buyer didnt mess go trouble sending i...</td>\n",
              "      <td>would ok buyers…</td>\n",
              "      <td>2</td>\n",
              "      <td>GB</td>\n",
              "      <td>https://www.trustpilot.com/review/vinted.fr?pa...</td>\n",
              "      <td>reviews_7.json</td>\n",
              "      <td>246</td>\n",
              "      <td>37</td>\n",
              "      <td>0.041667</td>\n",
              "      <td>0.000</td>\n",
              "      <td>0.793</td>\n",
              "      <td>0.207</td>\n",
              "      <td>0.7652</td>\n",
              "      <td>pos</td>\n",
              "      <td>2</td>\n",
              "      <td>vinted.fr?page=7&amp;stars=1&amp;stars=2&amp;stars=3</td>\n",
              "    </tr>\n",
              "    <tr>\n",
              "      <th>4</th>\n",
              "      <td>2021-05-30</td>\n",
              "      <td>Michelle (customer)</td>\n",
              "      <td>disgraceful servicenot pocket postage paid adi...</td>\n",
              "      <td>disgraceful servicenot i…</td>\n",
              "      <td>1</td>\n",
              "      <td>GB</td>\n",
              "      <td>https://www.trustpilot.com/review/vinted.fr?pa...</td>\n",
              "      <td>reviews_7.json</td>\n",
              "      <td>199</td>\n",
              "      <td>27</td>\n",
              "      <td>-0.228571</td>\n",
              "      <td>0.287</td>\n",
              "      <td>0.659</td>\n",
              "      <td>0.054</td>\n",
              "      <td>-0.8442</td>\n",
              "      <td>neg</td>\n",
              "      <td>1</td>\n",
              "      <td>vinted.fr?page=7&amp;stars=1&amp;stars=2&amp;stars=3</td>\n",
              "    </tr>\n",
              "  </tbody>\n",
              "</table>\n",
              "</div>"
            ],
            "text/plain": [
              "         date               author  \\\n",
              "0  2021-05-17        Lucy  Curtin    \n",
              "1  2021-05-21      Carolyn Worlock   \n",
              "2  2021-05-23      Rosemary Hooper   \n",
              "3  2021-05-23              Sarah A   \n",
              "4  2021-05-30  Michelle (customer)   \n",
              "\n",
              "                                                text  \\\n",
              "0  absolutely terrible customer service many emai...   \n",
              "1  vinted work really well problem sold number it...   \n",
              "2  star option appalling socalled company complai...   \n",
              "3  would ok buyer didnt mess go trouble sending i...   \n",
              "4  disgraceful servicenot pocket postage paid adi...   \n",
              "\n",
              "                                  title  stars location  \\\n",
              "0  absolutely terrible customer service      1       GB   \n",
              "1       vinted work really well problem      1       GB   \n",
              "2                      star option for…      1       GB   \n",
              "3                      would ok buyers…      2       GB   \n",
              "4             disgraceful servicenot i…      1       GB   \n",
              "\n",
              "                                                 url            site  length  \\\n",
              "0  https://www.trustpilot.com/review/vinted.fr?pa...  reviews_7.json      68   \n",
              "1  https://www.trustpilot.com/review/vinted.fr?pa...  reviews_7.json     393   \n",
              "2  https://www.trustpilot.com/review/vinted.fr?pa...  reviews_7.json     124   \n",
              "3  https://www.trustpilot.com/review/vinted.fr?pa...  reviews_7.json     246   \n",
              "4  https://www.trustpilot.com/review/vinted.fr?pa...  reviews_7.json     199   \n",
              "\n",
              "   numOfWords  polarity    neg    neu    pos  compound Sentiment  rating  \\\n",
              "0           9 -0.250000  0.545  0.455  0.000   -0.7346       neg       1   \n",
              "1          62  0.333333  0.162  0.547  0.291    0.8417       pos       1   \n",
              "2          16 -0.116667  0.255  0.612  0.133   -0.5267       neg       1   \n",
              "3          37  0.041667  0.000  0.793  0.207    0.7652       pos       2   \n",
              "4          27 -0.228571  0.287  0.659  0.054   -0.8442       neg       1   \n",
              "\n",
              "                                       Site  \n",
              "0  vinted.fr?page=7&stars=1&stars=2&stars=3  \n",
              "1  vinted.fr?page=7&stars=1&stars=2&stars=3  \n",
              "2  vinted.fr?page=7&stars=1&stars=2&stars=3  \n",
              "3  vinted.fr?page=7&stars=1&stars=2&stars=3  \n",
              "4  vinted.fr?page=7&stars=1&stars=2&stars=3  "
            ]
          },
          "execution_count": 14,
          "metadata": {},
          "output_type": "execute_result"
        }
      ],
      "source": [
        "#Analyzing URL column\n",
        "reviewsDF.url.str.split(\"review/\")[0]\n",
        "reviewsDF['Site'] = reviewsDF.url.apply(lambda x: x.split(\"review/\")[1])\n",
        "reviewsDF.head()"
      ]
    },
    {
      "cell_type": "code",
      "execution_count": 15,
      "metadata": {
        "colab": {
          "base_uri": "https://localhost:8080/"
        },
        "id": "CDH8mGk-sjv8",
        "outputId": "e354dd84-bd65-46e6-e3a3-e399b7018e1d"
      },
      "outputs": [
        {
          "data": {
            "text/plain": [
              "vinted.fr?page=7&stars=1&stars=2&stars=3     20\n",
              "vinted.fr?page=6&stars=1&stars=2&stars=3     20\n",
              "vinted.fr?page=13&stars=1&stars=2&stars=3    20\n",
              "vinted.fr?page=1&stars=1&stars=2&stars=3     20\n",
              "vinted.fr?page=12&stars=1&stars=2&stars=3    20\n",
              "vinted.fr?page=3&stars=1&stars=2&stars=3     20\n",
              "vinted.fr?page=11&stars=1&stars=2&stars=3    20\n",
              "vinted.fr?page=10&stars=1&stars=2&stars=3    20\n",
              "vinted.fr?page=2&stars=1&stars=2&stars=3     20\n",
              "vinted.fr?page=5&stars=1&stars=2&stars=3     20\n",
              "vinted.fr?page=9&stars=1&stars=2&stars=3     20\n",
              "vinted.fr?page=8&stars=1&stars=2&stars=3     20\n",
              "vinted.fr?page=4&stars=1&stars=2&stars=3     20\n",
              "vinted.fr?page=14&stars=1&stars=2&stars=3    14\n",
              "Name: Site, dtype: int64"
            ]
          },
          "execution_count": 15,
          "metadata": {},
          "output_type": "execute_result"
        }
      ],
      "source": [
        "reviewsDF.Site.value_counts()"
      ]
    },
    {
      "cell_type": "markdown",
      "metadata": {
        "id": "N6oZE5MJq4Ih"
      },
      "source": [
        "# **EDA**"
      ]
    },
    {
      "cell_type": "markdown",
      "metadata": {
        "id": "lBf1i_cOmBEe"
      },
      "source": [
        "Exploratory Data Analysis"
      ]
    },
    {
      "cell_type": "code",
      "execution_count": 16,
      "metadata": {
        "colab": {
          "base_uri": "https://localhost:8080/",
          "height": 297
        },
        "id": "OSJ1sXx4q_7r",
        "outputId": "3e7e0759-bca9-40cb-9d1d-e75ec3b6733a"
      },
      "outputs": [
        {
          "data": {
            "text/html": [
              "<div>\n",
              "<style scoped>\n",
              "    .dataframe tbody tr th:only-of-type {\n",
              "        vertical-align: middle;\n",
              "    }\n",
              "\n",
              "    .dataframe tbody tr th {\n",
              "        vertical-align: top;\n",
              "    }\n",
              "\n",
              "    .dataframe thead th {\n",
              "        text-align: right;\n",
              "    }\n",
              "</style>\n",
              "<table border=\"1\" class=\"dataframe\">\n",
              "  <thead>\n",
              "    <tr style=\"text-align: right;\">\n",
              "      <th></th>\n",
              "      <th>stars</th>\n",
              "      <th>length</th>\n",
              "      <th>numOfWords</th>\n",
              "      <th>polarity</th>\n",
              "      <th>neg</th>\n",
              "      <th>neu</th>\n",
              "      <th>pos</th>\n",
              "      <th>compound</th>\n",
              "      <th>rating</th>\n",
              "    </tr>\n",
              "  </thead>\n",
              "  <tbody>\n",
              "    <tr>\n",
              "      <th>count</th>\n",
              "      <td>274.000000</td>\n",
              "      <td>274.000000</td>\n",
              "      <td>274.000000</td>\n",
              "      <td>274.000000</td>\n",
              "      <td>274.000000</td>\n",
              "      <td>274.000000</td>\n",
              "      <td>274.000000</td>\n",
              "      <td>274.000000</td>\n",
              "      <td>274.000000</td>\n",
              "    </tr>\n",
              "    <tr>\n",
              "      <th>mean</th>\n",
              "      <td>1.083942</td>\n",
              "      <td>309.127737</td>\n",
              "      <td>45.642336</td>\n",
              "      <td>-0.078275</td>\n",
              "      <td>0.193000</td>\n",
              "      <td>0.673307</td>\n",
              "      <td>0.133679</td>\n",
              "      <td>-0.188728</td>\n",
              "      <td>1.083942</td>\n",
              "    </tr>\n",
              "    <tr>\n",
              "      <th>std</th>\n",
              "      <td>0.358412</td>\n",
              "      <td>290.242140</td>\n",
              "      <td>43.081359</td>\n",
              "      <td>0.295143</td>\n",
              "      <td>0.142462</td>\n",
              "      <td>0.151835</td>\n",
              "      <td>0.105191</td>\n",
              "      <td>0.630364</td>\n",
              "      <td>0.358412</td>\n",
              "    </tr>\n",
              "    <tr>\n",
              "      <th>min</th>\n",
              "      <td>1.000000</td>\n",
              "      <td>14.000000</td>\n",
              "      <td>3.000000</td>\n",
              "      <td>-1.000000</td>\n",
              "      <td>0.000000</td>\n",
              "      <td>0.190000</td>\n",
              "      <td>0.000000</td>\n",
              "      <td>-0.989000</td>\n",
              "      <td>1.000000</td>\n",
              "    </tr>\n",
              "    <tr>\n",
              "      <th>25%</th>\n",
              "      <td>1.000000</td>\n",
              "      <td>124.500000</td>\n",
              "      <td>19.000000</td>\n",
              "      <td>-0.200000</td>\n",
              "      <td>0.099250</td>\n",
              "      <td>0.578750</td>\n",
              "      <td>0.069000</td>\n",
              "      <td>-0.781300</td>\n",
              "      <td>1.000000</td>\n",
              "    </tr>\n",
              "    <tr>\n",
              "      <th>50%</th>\n",
              "      <td>1.000000</td>\n",
              "      <td>229.000000</td>\n",
              "      <td>34.000000</td>\n",
              "      <td>-0.023046</td>\n",
              "      <td>0.171500</td>\n",
              "      <td>0.669000</td>\n",
              "      <td>0.124000</td>\n",
              "      <td>-0.320700</td>\n",
              "      <td>1.000000</td>\n",
              "    </tr>\n",
              "    <tr>\n",
              "      <th>75%</th>\n",
              "      <td>1.000000</td>\n",
              "      <td>387.000000</td>\n",
              "      <td>58.000000</td>\n",
              "      <td>0.093710</td>\n",
              "      <td>0.268000</td>\n",
              "      <td>0.765750</td>\n",
              "      <td>0.191500</td>\n",
              "      <td>0.418475</td>\n",
              "      <td>1.000000</td>\n",
              "    </tr>\n",
              "    <tr>\n",
              "      <th>max</th>\n",
              "      <td>3.000000</td>\n",
              "      <td>2315.000000</td>\n",
              "      <td>357.000000</td>\n",
              "      <td>0.700000</td>\n",
              "      <td>0.697000</td>\n",
              "      <td>1.000000</td>\n",
              "      <td>0.695000</td>\n",
              "      <td>0.982400</td>\n",
              "      <td>3.000000</td>\n",
              "    </tr>\n",
              "  </tbody>\n",
              "</table>\n",
              "</div>"
            ],
            "text/plain": [
              "            stars       length  numOfWords    polarity         neg  \\\n",
              "count  274.000000   274.000000  274.000000  274.000000  274.000000   \n",
              "mean     1.083942   309.127737   45.642336   -0.078275    0.193000   \n",
              "std      0.358412   290.242140   43.081359    0.295143    0.142462   \n",
              "min      1.000000    14.000000    3.000000   -1.000000    0.000000   \n",
              "25%      1.000000   124.500000   19.000000   -0.200000    0.099250   \n",
              "50%      1.000000   229.000000   34.000000   -0.023046    0.171500   \n",
              "75%      1.000000   387.000000   58.000000    0.093710    0.268000   \n",
              "max      3.000000  2315.000000  357.000000    0.700000    0.697000   \n",
              "\n",
              "              neu         pos    compound      rating  \n",
              "count  274.000000  274.000000  274.000000  274.000000  \n",
              "mean     0.673307    0.133679   -0.188728    1.083942  \n",
              "std      0.151835    0.105191    0.630364    0.358412  \n",
              "min      0.190000    0.000000   -0.989000    1.000000  \n",
              "25%      0.578750    0.069000   -0.781300    1.000000  \n",
              "50%      0.669000    0.124000   -0.320700    1.000000  \n",
              "75%      0.765750    0.191500    0.418475    1.000000  \n",
              "max      1.000000    0.695000    0.982400    3.000000  "
            ]
          },
          "execution_count": 16,
          "metadata": {},
          "output_type": "execute_result"
        }
      ],
      "source": [
        "#This function is used to see mathematical metrics of all the columns \n",
        "reviewsDF.describe()"
      ]
    },
    {
      "cell_type": "code",
      "execution_count": 17,
      "metadata": {
        "colab": {
          "base_uri": "https://localhost:8080/"
        },
        "id": "d3WMEb7Is8i9",
        "outputId": "b94260aa-e80b-4ab6-a36c-522754a40851"
      },
      "outputs": [
        {
          "name": "stdout",
          "output_type": "stream",
          "text": [
            "<class 'pandas.core.frame.DataFrame'>\n",
            "Int64Index: 274 entries, 0 to 19\n",
            "Data columns (total 18 columns):\n",
            " #   Column      Non-Null Count  Dtype         \n",
            "---  ------      --------------  -----         \n",
            " 0   date        274 non-null    datetime64[ns]\n",
            " 1   author      274 non-null    object        \n",
            " 2   text        274 non-null    object        \n",
            " 3   title       274 non-null    object        \n",
            " 4   stars       274 non-null    int64         \n",
            " 5   location    274 non-null    object        \n",
            " 6   url         274 non-null    object        \n",
            " 7   site        274 non-null    object        \n",
            " 8   length      274 non-null    int64         \n",
            " 9   numOfWords  274 non-null    int64         \n",
            " 10  polarity    274 non-null    float64       \n",
            " 11  neg         274 non-null    float64       \n",
            " 12  neu         274 non-null    float64       \n",
            " 13  pos         274 non-null    float64       \n",
            " 14  compound    274 non-null    float64       \n",
            " 15  Sentiment   274 non-null    object        \n",
            " 16  rating      274 non-null    int64         \n",
            " 17  Site        274 non-null    object        \n",
            "dtypes: datetime64[ns](1), float64(5), int64(4), object(8)\n",
            "memory usage: 40.7+ KB\n"
          ]
        }
      ],
      "source": [
        "#To see the type of each column and check if there are any null values \n",
        "reviewsDF.date = pd.to_datetime(reviewsDF['date'])\n",
        "reviewsDF = reviewsDF[reviewsDF.stars < 4]\n",
        "reviewsDF.info()"
      ]
    },
    {
      "cell_type": "code",
      "execution_count": 18,
      "metadata": {
        "colab": {
          "base_uri": "https://localhost:8080/"
        },
        "id": "bt-T53PztDZg",
        "outputId": "3e0695e1-ee99-4f45-ac2d-8d1c8c4bdc98"
      },
      "outputs": [
        {
          "data": {
            "text/plain": [
              "1    258\n",
              "2      9\n",
              "3      7\n",
              "Name: rating, dtype: int64"
            ]
          },
          "execution_count": 18,
          "metadata": {},
          "output_type": "execute_result"
        }
      ],
      "source": [
        "#To count number of samples for each rating\n",
        "reviewsDF.rating.value_counts()"
      ]
    },
    {
      "cell_type": "code",
      "execution_count": 19,
      "metadata": {
        "colab": {
          "base_uri": "https://localhost:8080/",
          "height": 284
        },
        "id": "1LWEIeLRtKOj",
        "outputId": "b694641a-820b-492b-c0b9-29872f7dfafd"
      },
      "outputs": [
        {
          "data": {
            "text/plain": [
              "<AxesSubplot:>"
            ]
          },
          "execution_count": 19,
          "metadata": {},
          "output_type": "execute_result"
        },
        {
          "data": {
            "image/png": "[encoded data removed]",
            "text/plain": [
              "<Figure size 432x288 with 1 Axes>"
            ]
          },
          "metadata": {
            "needs_background": "light"
          },
          "output_type": "display_data"
        }
      ],
      "source": [
        "# Review length distribution\n",
        "reviewsDF['length'].hist(bins=50)"
      ]
    },
    {
      "cell_type": "code",
      "execution_count": 20,
      "metadata": {
        "colab": {
          "base_uri": "https://localhost:8080/",
          "height": 414
        },
        "id": "UR3LTyvXuQyS",
        "outputId": "a3dd65bb-b20d-486d-a4fb-17aca78063e2"
      },
      "outputs": [
        {
          "data": {
            "text/plain": [
              "array([[<AxesSubplot:title={'center':'1'}>,\n",
              "        <AxesSubplot:title={'center':'2'}>],\n",
              "       [<AxesSubplot:title={'center':'3'}>, <AxesSubplot:>]], dtype=object)"
            ]
          },
          "execution_count": 20,
          "metadata": {},
          "output_type": "execute_result"
        },
        {
          "data": {
            "image/png": "[encoded data removed]",
            "text/plain": [
              "<Figure size 432x288 with 4 Axes>"
            ]
          },
          "metadata": {
            "needs_background": "light"
          },
          "output_type": "display_data"
        }
      ],
      "source": [
        "#Histogram plot to see the lenght of each rating\n",
        "reviewsDF.hist(column = 'length', by = 'rating')"
      ]
    },
    {
      "cell_type": "code",
      "execution_count": 21,
      "metadata": {
        "colab": {
          "base_uri": "https://localhost:8080/",
          "height": 542
        },
        "id": "6atIkPLNtsBZ",
        "outputId": "3dc40a65-20b3-4f2a-a17b-408fc1e91f80"
      },
      "outputs": [
        {
          "name": "stderr",
          "output_type": "stream",
          "text": [
            "/usr/local/lib/python3.7/site-packages/plotly/io/_renderers.py:396: DeprecationWarning:\n",
            "\n",
            "distutils Version classes are deprecated. Use packaging.version instead.\n",
            "\n",
            "/usr/local/lib/python3.7/site-packages/plotly/io/_renderers.py:396: DeprecationWarning:\n",
            "\n",
            "distutils Version classes are deprecated. Use packaging.version instead.\n",
            "\n"
          ]
        },
        {
          "data": {
            "text/html": [
              "<html>\n",
              "<head><meta charset=\"utf-8\" /></head>\n",
              "<body>\n",
              "    <div>            <script src=\"https://cdnjs.cloudflare.com/ajax/libs/mathjax/2.7.5/MathJax.js?config=TeX-AMS-MML_SVG\"></script><script type=\"text/javascript\">if (window.MathJax) {MathJax.Hub.Config({SVG: {font: \"STIX-Web\"}});}</script>                <script type=\"text/javascript\">window.PlotlyConfig = {MathJaxConfig: 'local'};</script>\n",
              "        <script src=\"https://cdn.plot.ly/plotly-2.11.1.min.js\"></script>                <div id=\"86cf1bf2-f902-4bb3-8a33-9eddc1c8bc7d\" class=\"plotly-graph-div\" style=\"height:525px; width:100%;\"></div>            <script type=\"text/javascript\">                                    window.PLOTLYENV=window.PLOTLYENV || {};                                    if (document.getElementById(\"86cf1bf2-f902-4bb3-8a33-9eddc1c8bc7d\")) {                    Plotly.newPlot(                        \"86cf1bf2-f902-4bb3-8a33-9eddc1c8bc7d\",                        [{\"alignmentgroup\":\"True\",\"bingroup\":\"x\",\"hovertemplate\":\"date=%{x}<br>count=%{y}<extra></extra>\",\"legendgroup\":\"\",\"marker\":{\"color\":\"#636efa\",\"pattern\":{\"shape\":\"\"}},\"name\":\"\",\"offsetgroup\":\"\",\"orientation\":\"v\",\"showlegend\":false,\"x\":[\"2021-05-17T00:00:00\",\"2021-05-21T00:00:00\",\"2021-05-23T00:00:00\",\"2021-05-23T00:00:00\",\"2021-05-30T00:00:00\",\"2021-05-31T00:00:00\",\"2021-06-02T00:00:00\",\"2021-06-03T00:00:00\",\"2021-06-04T00:00:00\",\"2021-06-08T00:00:00\",\"2021-06-12T00:00:00\",\"2021-06-18T00:00:00\",\"2021-06-19T00:00:00\",\"2021-06-28T00:00:00\",\"2021-06-30T00:00:00\",\"2021-07-03T00:00:00\",\"2021-07-09T00:00:00\",\"2021-07-12T00:00:00\",\"2021-07-16T00:00:00\",\"2021-07-28T00:00:00\",\"2021-08-03T00:00:00\",\"2021-08-21T00:00:00\",\"2021-08-23T00:00:00\",\"2021-08-25T00:00:00\",\"2021-08-26T00:00:00\",\"2021-08-31T00:00:00\",\"2021-09-08T00:00:00\",\"2021-09-10T00:00:00\",\"2021-09-13T00:00:00\",\"2021-09-15T00:00:00\",\"2021-09-19T00:00:00\",\"2021-09-19T00:00:00\",\"2021-09-20T00:00:00\",\"2021-09-20T00:00:00\",\"2021-09-22T00:00:00\",\"2021-09-26T00:00:00\",\"2021-09-27T00:00:00\",\"2021-09-30T00:00:00\",\"2021-09-30T00:00:00\",\"2021-10-04T00:00:00\",\"2017-02-19T00:00:00\",\"2017-09-23T00:00:00\",\"2017-10-08T00:00:00\",\"2018-01-28T00:00:00\",\"2018-02-14T00:00:00\",\"2018-09-03T00:00:00\",\"2018-11-16T00:00:00\",\"2018-11-22T00:00:00\",\"2018-11-26T00:00:00\",\"2018-12-22T00:00:00\",\"2019-02-03T00:00:00\",\"2019-02-09T00:00:00\",\"2019-03-27T00:00:00\",\"2019-04-09T00:00:00\",\"2019-04-18T00:00:00\",\"2019-04-23T00:00:00\",\"2019-04-27T00:00:00\",\"2019-06-16T00:00:00\",\"2019-06-19T00:00:00\",\"2019-07-01T00:00:00\",\"2019-07-02T00:00:00\",\"2019-08-06T00:00:00\",\"2019-08-13T00:00:00\",\"2019-08-18T00:00:00\",\"2019-09-03T00:00:00\",\"2019-09-09T00:00:00\",\"2019-09-09T00:00:00\",\"2019-10-06T00:00:00\",\"2019-10-15T00:00:00\",\"2019-10-18T00:00:00\",\"2019-10-25T00:00:00\",\"2019-10-30T00:00:00\",\"2019-11-02T00:00:00\",\"2019-11-21T00:00:00\",\"2022-03-27T00:00:00\",\"2022-03-28T00:00:00\",\"2022-03-29T00:00:00\",\"2022-04-01T00:00:00\",\"2022-04-02T00:00:00\",\"2022-04-04T00:00:00\",\"2022-04-06T00:00:00\",\"2022-04-06T00:00:00\",\"2022-04-07T00:00:00\",\"2022-04-10T00:00:00\",\"2022-04-13T00:00:00\",\"2022-04-13T00:00:00\",\"2022-04-14T00:00:00\",\"2022-04-16T00:00:00\",\"2022-04-16T00:00:00\",\"2022-04-18T00:00:00\",\"2022-04-18T00:00:00\",\"2022-04-25T00:00:00\",\"2022-04-28T00:00:00\",\"2022-05-04T00:00:00\",\"2019-11-26T00:00:00\",\"2019-11-28T00:00:00\",\"2019-11-30T00:00:00\",\"2019-12-08T00:00:00\",\"2019-12-18T00:00:00\",\"2019-12-26T00:00:00\",\"2020-01-04T00:00:00\",\"2020-01-05T00:00:00\",\"2020-01-12T00:00:00\",\"2020-01-22T00:00:00\",\"2020-01-31T00:00:00\",\"2020-02-01T00:00:00\",\"2020-02-25T00:00:00\",\"2020-06-01T00:00:00\",\"2020-06-07T00:00:00\",\"2020-06-11T00:00:00\",\"2020-06-13T00:00:00\",\"2020-06-21T00:00:00\",\"2020-06-27T00:00:00\",\"2020-07-02T00:00:00\",\"2022-01-04T00:00:00\",\"2022-01-11T00:00:00\",\"2022-01-11T00:00:00\",\"2022-01-13T00:00:00\",\"2022-01-14T00:00:00\",\"2022-01-15T00:00:00\",\"2022-01-23T00:00:00\",\"2022-01-25T00:00:00\",\"2022-01-26T00:00:00\",\"2022-01-28T00:00:00\",\"2022-01-31T00:00:00\",\"2022-02-04T00:00:00\",\"2022-02-04T00:00:00\",\"2022-02-04T00:00:00\",\"2022-02-07T00:00:00\",\"2022-02-07T00:00:00\",\"2022-02-07T00:00:00\",\"2022-02-11T00:00:00\",\"2022-02-11T00:00:00\",\"2022-02-16T00:00:00\",\"2020-07-03T00:00:00\",\"2020-07-11T00:00:00\",\"2020-07-17T00:00:00\",\"2020-07-22T00:00:00\",\"2020-08-04T00:00:00\",\"2020-08-06T00:00:00\",\"2020-08-25T00:00:00\",\"2020-09-04T00:00:00\",\"2020-09-30T00:00:00\",\"2020-10-07T00:00:00\",\"2020-10-13T00:00:00\",\"2020-10-13T00:00:00\",\"2020-10-20T00:00:00\",\"2020-10-21T00:00:00\",\"2020-10-22T00:00:00\",\"2020-10-26T00:00:00\",\"2020-10-28T00:00:00\",\"2020-12-01T00:00:00\",\"2020-12-09T00:00:00\",\"2020-12-09T00:00:00\",\"2020-12-13T00:00:00\",\"2020-12-29T00:00:00\",\"2021-01-02T00:00:00\",\"2021-01-11T00:00:00\",\"2021-01-13T00:00:00\",\"2021-01-15T00:00:00\",\"2021-01-19T00:00:00\",\"2021-01-22T00:00:00\",\"2021-01-25T00:00:00\",\"2021-01-30T00:00:00\",\"2021-02-04T00:00:00\",\"2021-02-08T00:00:00\",\"2021-02-11T00:00:00\",\"2021-02-11T00:00:00\",\"2021-02-13T00:00:00\",\"2021-02-20T00:00:00\",\"2021-02-22T00:00:00\",\"2021-02-25T00:00:00\",\"2021-02-26T00:00:00\",\"2021-03-03T00:00:00\",\"2022-02-17T00:00:00\",\"2022-02-18T00:00:00\",\"2022-02-22T00:00:00\",\"2022-02-23T00:00:00\",\"2022-02-24T00:00:00\",\"2022-02-26T00:00:00\",\"2022-02-28T00:00:00\",\"2022-03-05T00:00:00\",\"2022-03-05T00:00:00\",\"2022-03-06T00:00:00\",\"2022-03-10T00:00:00\",\"2022-03-14T00:00:00\",\"2022-03-15T00:00:00\",\"2022-03-15T00:00:00\",\"2022-03-15T00:00:00\",\"2022-03-17T00:00:00\",\"2022-03-22T00:00:00\",\"2022-03-23T00:00:00\",\"2022-03-26T00:00:00\",\"2022-03-26T00:00:00\",\"2021-10-04T00:00:00\",\"2021-10-07T00:00:00\",\"2021-10-08T00:00:00\",\"2021-10-08T00:00:00\",\"2021-10-10T00:00:00\",\"2021-10-12T00:00:00\",\"2021-10-13T00:00:00\",\"2021-10-17T00:00:00\",\"2021-10-18T00:00:00\",\"2021-10-20T00:00:00\",\"2021-10-21T00:00:00\",\"2021-10-24T00:00:00\",\"2021-10-24T00:00:00\",\"2021-10-25T00:00:00\",\"2021-10-27T00:00:00\",\"2021-10-28T00:00:00\",\"2021-10-29T00:00:00\",\"2021-10-29T00:00:00\",\"2021-10-31T00:00:00\",\"2021-11-02T00:00:00\",\"2021-03-03T00:00:00\",\"2021-03-05T00:00:00\",\"2021-03-07T00:00:00\",\"2021-03-08T00:00:00\",\"2021-03-17T00:00:00\",\"2021-03-18T00:00:00\",\"2021-03-19T00:00:00\",\"2021-03-22T00:00:00\",\"2021-03-23T00:00:00\",\"2021-03-23T00:00:00\",\"2021-03-29T00:00:00\",\"2021-04-01T00:00:00\",\"2021-04-02T00:00:00\",\"2021-04-02T00:00:00\",\"2021-04-04T00:00:00\",\"2021-04-06T00:00:00\",\"2021-04-06T00:00:00\",\"2021-04-07T00:00:00\",\"2021-04-15T00:00:00\",\"2021-04-15T00:00:00\",\"2021-04-16T00:00:00\",\"2021-04-18T00:00:00\",\"2021-04-19T00:00:00\",\"2021-04-21T00:00:00\",\"2021-04-22T00:00:00\",\"2021-04-28T00:00:00\",\"2021-04-28T00:00:00\",\"2021-04-29T00:00:00\",\"2021-05-02T00:00:00\",\"2021-05-02T00:00:00\",\"2021-05-03T00:00:00\",\"2021-05-03T00:00:00\",\"2021-05-06T00:00:00\",\"2021-05-07T00:00:00\",\"2021-05-11T00:00:00\",\"2021-05-11T00:00:00\",\"2021-05-13T00:00:00\",\"2021-05-14T00:00:00\",\"2021-05-15T00:00:00\",\"2021-05-16T00:00:00\",\"2021-11-06T00:00:00\",\"2021-11-07T00:00:00\",\"2021-11-09T00:00:00\",\"2021-11-20T00:00:00\",\"2021-11-21T00:00:00\",\"2021-11-27T00:00:00\",\"2021-11-29T00:00:00\",\"2021-11-29T00:00:00\",\"2021-11-30T00:00:00\",\"2021-12-06T00:00:00\",\"2021-12-08T00:00:00\",\"2021-12-13T00:00:00\",\"2021-12-15T00:00:00\",\"2021-12-16T00:00:00\",\"2021-12-17T00:00:00\",\"2021-12-17T00:00:00\",\"2021-12-18T00:00:00\",\"2021-12-21T00:00:00\",\"2021-12-29T00:00:00\",\"2022-01-04T00:00:00\"],\"xaxis\":\"x\",\"yaxis\":\"y\",\"type\":\"histogram\"}],                        {\"template\":{\"data\":{\"histogram2dcontour\":[{\"type\":\"histogram2dcontour\",\"colorbar\":{\"outlinewidth\":0,\"ticks\":\"\"},\"colorscale\":[[0.0,\"#0d0887\"],[0.1111111111111111,\"#46039f\"],[0.2222222222222222,\"#7201a8\"],[0.3333333333333333,\"#9c179e\"],[0.4444444444444444,\"#bd3786\"],[0.5555555555555556,\"#d8576b\"],[0.6666666666666666,\"#ed7953\"],[0.7777777777777778,\"#fb9f3a\"],[0.8888888888888888,\"#fdca26\"],[1.0,\"#f0f921\"]]}],\"choropleth\":[{\"type\":\"choropleth\",\"colorbar\":{\"outlinewidth\":0,\"ticks\":\"\"}}],\"histogram2d\":[{\"type\":\"histogram2d\",\"colorbar\":{\"outlinewidth\":0,\"ticks\":\"\"},\"colorscale\":[[0.0,\"#0d0887\"],[0.1111111111111111,\"#46039f\"],[0.2222222222222222,\"#7201a8\"],[0.3333333333333333,\"#9c179e\"],[0.4444444444444444,\"#bd3786\"],[0.5555555555555556,\"#d8576b\"],[0.6666666666666666,\"#ed7953\"],[0.7777777777777778,\"#fb9f3a\"],[0.8888888888888888,\"#fdca26\"],[1.0,\"#f0f921\"]]}],\"heatmap\":[{\"type\":\"heatmap\",\"colorbar\":{\"outlinewidth\":0,\"ticks\":\"\"},\"colorscale\":[[0.0,\"#0d0887\"],[0.1111111111111111,\"#46039f\"],[0.2222222222222222,\"#7201a8\"],[0.3333333333333333,\"#9c179e\"],[0.4444444444444444,\"#bd3786\"],[0.5555555555555556,\"#d8576b\"],[0.6666666666666666,\"#ed7953\"],[0.7777777777777778,\"#fb9f3a\"],[0.8888888888888888,\"#fdca26\"],[1.0,\"#f0f921\"]]}],\"heatmapgl\":[{\"type\":\"heatmapgl\",\"colorbar\":{\"outlinewidth\":0,\"ticks\":\"\"},\"colorscale\":[[0.0,\"#0d0887\"],[0.1111111111111111,\"#46039f\"],[0.2222222222222222,\"#7201a8\"],[0.3333333333333333,\"#9c179e\"],[0.4444444444444444,\"#bd3786\"],[0.5555555555555556,\"#d8576b\"],[0.6666666666666666,\"#ed7953\"],[0.7777777777777778,\"#fb9f3a\"],[0.8888888888888888,\"#fdca26\"],[1.0,\"#f0f921\"]]}],\"contourcarpet\":[{\"type\":\"contourcarpet\",\"colorbar\":{\"outlinewidth\":0,\"ticks\":\"\"}}],\"contour\":[{\"type\":\"contour\",\"colorbar\":{\"outlinewidth\":0,\"ticks\":\"\"},\"colorscale\":[[0.0,\"#0d0887\"],[0.1111111111111111,\"#46039f\"],[0.2222222222222222,\"#7201a8\"],[0.3333333333333333,\"#9c179e\"],[0.4444444444444444,\"#bd3786\"],[0.5555555555555556,\"#d8576b\"],[0.6666666666666666,\"#ed7953\"],[0.7777777777777778,\"#fb9f3a\"],[0.8888888888888888,\"#fdca26\"],[1.0,\"#f0f921\"]]}],\"surface\":[{\"type\":\"surface\",\"colorbar\":{\"outlinewidth\":0,\"ticks\":\"\"},\"colorscale\":[[0.0,\"#0d0887\"],[0.1111111111111111,\"#46039f\"],[0.2222222222222222,\"#7201a8\"],[0.3333333333333333,\"#9c179e\"],[0.4444444444444444,\"#bd3786\"],[0.5555555555555556,\"#d8576b\"],[0.6666666666666666,\"#ed7953\"],[0.7777777777777778,\"#fb9f3a\"],[0.8888888888888888,\"#fdca26\"],[1.0,\"#f0f921\"]]}],\"mesh3d\":[{\"type\":\"mesh3d\",\"colorbar\":{\"outlinewidth\":0,\"ticks\":\"\"}}],\"scatter\":[{\"fillpattern\":{\"fillmode\":\"overlay\",\"size\":10,\"solidity\":0.2},\"type\":\"scatter\"}],\"parcoords\":[{\"type\":\"parcoords\",\"line\":{\"colorbar\":{\"outlinewidth\":0,\"ticks\":\"\"}}}],\"scatterpolargl\":[{\"type\":\"scatterpolargl\",\"marker\":{\"colorbar\":{\"outlinewidth\":0,\"ticks\":\"\"}}}],\"bar\":[{\"error_x\":{\"color\":\"#2a3f5f\"},\"error_y\":{\"color\":\"#2a3f5f\"},\"marker\":{\"line\":{\"color\":\"#E5ECF6\",\"width\":0.5},\"pattern\":{\"fillmode\":\"overlay\",\"size\":10,\"solidity\":0.2}},\"type\":\"bar\"}],\"scattergeo\":[{\"type\":\"scattergeo\",\"marker\":{\"colorbar\":{\"outlinewidth\":0,\"ticks\":\"\"}}}],\"scatterpolar\":[{\"type\":\"scatterpolar\",\"marker\":{\"colorbar\":{\"outlinewidth\":0,\"ticks\":\"\"}}}],\"histogram\":[{\"marker\":{\"pattern\":{\"fillmode\":\"overlay\",\"size\":10,\"solidity\":0.2}},\"type\":\"histogram\"}],\"scattergl\":[{\"type\":\"scattergl\",\"marker\":{\"colorbar\":{\"outlinewidth\":0,\"ticks\":\"\"}}}],\"scatter3d\":[{\"type\":\"scatter3d\",\"line\":{\"colorbar\":{\"outlinewidth\":0,\"ticks\":\"\"}},\"marker\":{\"colorbar\":{\"outlinewidth\":0,\"ticks\":\"\"}}}],\"scattermapbox\":[{\"type\":\"scattermapbox\",\"marker\":{\"colorbar\":{\"outlinewidth\":0,\"ticks\":\"\"}}}],\"scatterternary\":[{\"type\":\"scatterternary\",\"marker\":{\"colorbar\":{\"outlinewidth\":0,\"ticks\":\"\"}}}],\"scattercarpet\":[{\"type\":\"scattercarpet\",\"marker\":{\"colorbar\":{\"outlinewidth\":0,\"ticks\":\"\"}}}],\"carpet\":[{\"aaxis\":{\"endlinecolor\":\"#2a3f5f\",\"gridcolor\":\"white\",\"linecolor\":\"white\",\"minorgridcolor\":\"white\",\"startlinecolor\":\"#2a3f5f\"},\"baxis\":{\"endlinecolor\":\"#2a3f5f\",\"gridcolor\":\"white\",\"linecolor\":\"white\",\"minorgridcolor\":\"white\",\"startlinecolor\":\"#2a3f5f\"},\"type\":\"carpet\"}],\"table\":[{\"cells\":{\"fill\":{\"color\":\"#EBF0F8\"},\"line\":{\"color\":\"white\"}},\"header\":{\"fill\":{\"color\":\"#C8D4E3\"},\"line\":{\"color\":\"white\"}},\"type\":\"table\"}],\"barpolar\":[{\"marker\":{\"line\":{\"color\":\"#E5ECF6\",\"width\":0.5},\"pattern\":{\"fillmode\":\"overlay\",\"size\":10,\"solidity\":0.2}},\"type\":\"barpolar\"}],\"pie\":[{\"automargin\":true,\"type\":\"pie\"}]},\"layout\":{\"autotypenumbers\":\"strict\",\"colorway\":[\"#636efa\",\"#EF553B\",\"#00cc96\",\"#ab63fa\",\"#FFA15A\",\"#19d3f3\",\"#FF6692\",\"#B6E880\",\"#FF97FF\",\"#FECB52\"],\"font\":{\"color\":\"#2a3f5f\"},\"hovermode\":\"closest\",\"hoverlabel\":{\"align\":\"left\"},\"paper_bgcolor\":\"white\",\"plot_bgcolor\":\"#E5ECF6\",\"polar\":{\"bgcolor\":\"#E5ECF6\",\"angularaxis\":{\"gridcolor\":\"white\",\"linecolor\":\"white\",\"ticks\":\"\"},\"radialaxis\":{\"gridcolor\":\"white\",\"linecolor\":\"white\",\"ticks\":\"\"}},\"ternary\":{\"bgcolor\":\"#E5ECF6\",\"aaxis\":{\"gridcolor\":\"white\",\"linecolor\":\"white\",\"ticks\":\"\"},\"baxis\":{\"gridcolor\":\"white\",\"linecolor\":\"white\",\"ticks\":\"\"},\"caxis\":{\"gridcolor\":\"white\",\"linecolor\":\"white\",\"ticks\":\"\"}},\"coloraxis\":{\"colorbar\":{\"outlinewidth\":0,\"ticks\":\"\"}},\"colorscale\":{\"sequential\":[[0.0,\"#0d0887\"],[0.1111111111111111,\"#46039f\"],[0.2222222222222222,\"#7201a8\"],[0.3333333333333333,\"#9c179e\"],[0.4444444444444444,\"#bd3786\"],[0.5555555555555556,\"#d8576b\"],[0.6666666666666666,\"#ed7953\"],[0.7777777777777778,\"#fb9f3a\"],[0.8888888888888888,\"#fdca26\"],[1.0,\"#f0f921\"]],\"sequentialminus\":[[0.0,\"#0d0887\"],[0.1111111111111111,\"#46039f\"],[0.2222222222222222,\"#7201a8\"],[0.3333333333333333,\"#9c179e\"],[0.4444444444444444,\"#bd3786\"],[0.5555555555555556,\"#d8576b\"],[0.6666666666666666,\"#ed7953\"],[0.7777777777777778,\"#fb9f3a\"],[0.8888888888888888,\"#fdca26\"],[1.0,\"#f0f921\"]],\"diverging\":[[0,\"#8e0152\"],[0.1,\"#c51b7d\"],[0.2,\"#de77ae\"],[0.3,\"#f1b6da\"],[0.4,\"#fde0ef\"],[0.5,\"#f7f7f7\"],[0.6,\"#e6f5d0\"],[0.7,\"#b8e186\"],[0.8,\"#7fbc41\"],[0.9,\"#4d9221\"],[1,\"#276419\"]]},\"xaxis\":{\"gridcolor\":\"white\",\"linecolor\":\"white\",\"ticks\":\"\",\"title\":{\"standoff\":15},\"zerolinecolor\":\"white\",\"automargin\":true,\"zerolinewidth\":2},\"yaxis\":{\"gridcolor\":\"white\",\"linecolor\":\"white\",\"ticks\":\"\",\"title\":{\"standoff\":15},\"zerolinecolor\":\"white\",\"automargin\":true,\"zerolinewidth\":2},\"scene\":{\"xaxis\":{\"backgroundcolor\":\"#E5ECF6\",\"gridcolor\":\"white\",\"linecolor\":\"white\",\"showbackground\":true,\"ticks\":\"\",\"zerolinecolor\":\"white\",\"gridwidth\":2},\"yaxis\":{\"backgroundcolor\":\"#E5ECF6\",\"gridcolor\":\"white\",\"linecolor\":\"white\",\"showbackground\":true,\"ticks\":\"\",\"zerolinecolor\":\"white\",\"gridwidth\":2},\"zaxis\":{\"backgroundcolor\":\"#E5ECF6\",\"gridcolor\":\"white\",\"linecolor\":\"white\",\"showbackground\":true,\"ticks\":\"\",\"zerolinecolor\":\"white\",\"gridwidth\":2}},\"shapedefaults\":{\"line\":{\"color\":\"#2a3f5f\"}},\"annotationdefaults\":{\"arrowcolor\":\"#2a3f5f\",\"arrowhead\":0,\"arrowwidth\":1},\"geo\":{\"bgcolor\":\"white\",\"landcolor\":\"#E5ECF6\",\"subunitcolor\":\"white\",\"showland\":true,\"showlakes\":true,\"lakecolor\":\"white\"},\"title\":{\"x\":0.05},\"mapbox\":{\"style\":\"light\"}}},\"xaxis\":{\"anchor\":\"y\",\"domain\":[0.0,1.0],\"title\":{\"text\":\"Date\"},\"categoryorder\":\"category descending\"},\"yaxis\":{\"anchor\":\"x\",\"domain\":[0.0,1.0],\"title\":{\"text\":\"Number of reviews\"}},\"legend\":{\"tracegroupgap\":0},\"title\":{\"text\":\"Reviews by date\"},\"barmode\":\"relative\"},                        {\"responsive\": true}                    ).then(function(){\n",
              "                            \n",
              "var gd = document.getElementById('86cf1bf2-f902-4bb3-8a33-9eddc1c8bc7d');\n",
              "var x = new MutationObserver(function (mutations, observer) {{\n",
              "        var display = window.getComputedStyle(gd).display;\n",
              "        if (!display || display === 'none') {{\n",
              "            console.log([gd, 'removed!']);\n",
              "            Plotly.purge(gd);\n",
              "            observer.disconnect();\n",
              "        }}\n",
              "}});\n",
              "\n",
              "// Listen for the removal of the full notebook cells\n",
              "var notebookContainer = gd.closest('#notebook-container');\n",
              "if (notebookContainer) {{\n",
              "    x.observe(notebookContainer, {childList: true});\n",
              "}}\n",
              "\n",
              "// Listen for the clearing of the current output cell\n",
              "var outputEl = gd.closest('.output');\n",
              "if (outputEl) {{\n",
              "    x.observe(outputEl, {childList: true});\n",
              "}}\n",
              "\n",
              "                        })                };                            </script>        </div>\n",
              "</body>\n",
              "</html>"
            ]
          },
          "metadata": {},
          "output_type": "display_data"
        }
      ],
      "source": [
        "#Histogram plot to analyze number of reviews with respect to date\n",
        "#As we can see, 2018 has many reviews comapared to other years\n",
        "fig = px.histogram(reviewsDF, x='date', title='Reviews by date')\n",
        "fig.update_xaxes(categoryorder='category descending', title='Date').update_yaxes(title='Number of reviews')\n",
        "fig.show()"
      ]
    },
    {
      "cell_type": "code",
      "execution_count": 22,
      "metadata": {
        "colab": {
          "base_uri": "https://localhost:8080/",
          "height": 542
        },
        "id": "ssApK2rktwPN",
        "outputId": "eeb1a908-8395-47b2-df07-2bbeaef00ddb"
      },
      "outputs": [
        {
          "name": "stderr",
          "output_type": "stream",
          "text": [
            "/usr/local/lib/python3.7/site-packages/plotly/io/_renderers.py:396: DeprecationWarning:\n",
            "\n",
            "distutils Version classes are deprecated. Use packaging.version instead.\n",
            "\n",
            "/usr/local/lib/python3.7/site-packages/plotly/io/_renderers.py:396: DeprecationWarning:\n",
            "\n",
            "distutils Version classes are deprecated. Use packaging.version instead.\n",
            "\n"
          ]
        },
        {
          "data": {
            "text/html": [
              "<html>\n",
              "<head><meta charset=\"utf-8\" /></head>\n",
              "<body>\n",
              "    <div>            <script src=\"https://cdnjs.cloudflare.com/ajax/libs/mathjax/2.7.5/MathJax.js?config=TeX-AMS-MML_SVG\"></script><script type=\"text/javascript\">if (window.MathJax) {MathJax.Hub.Config({SVG: {font: \"STIX-Web\"}});}</script>                <script type=\"text/javascript\">window.PlotlyConfig = {MathJaxConfig: 'local'};</script>\n",
              "        <script src=\"https://cdn.plot.ly/plotly-2.11.1.min.js\"></script>                <div id=\"8f5f9ac7-312e-4b70-b18a-28a5147f710a\" class=\"plotly-graph-div\" style=\"height:525px; width:100%;\"></div>            <script type=\"text/javascript\">                                    window.PLOTLYENV=window.PLOTLYENV || {};                                    if (document.getElementById(\"8f5f9ac7-312e-4b70-b18a-28a5147f710a\")) {                    Plotly.newPlot(                        \"8f5f9ac7-312e-4b70-b18a-28a5147f710a\",                        [{\"alignmentgroup\":\"True\",\"bingroup\":\"x\",\"hovertemplate\":\"rating=1<br>date=%{x}<br>count=%{y}<extra></extra>\",\"legendgroup\":\"1\",\"marker\":{\"color\":\"#636efa\",\"pattern\":{\"shape\":\"\"}},\"name\":\"1\",\"nbinsx\":10,\"offsetgroup\":\"1\",\"orientation\":\"v\",\"showlegend\":true,\"x\":[\"2021-05-17T00:00:00\",\"2021-05-21T00:00:00\",\"2021-05-23T00:00:00\",\"2021-05-30T00:00:00\",\"2021-05-31T00:00:00\",\"2021-06-02T00:00:00\",\"2021-06-03T00:00:00\",\"2021-06-04T00:00:00\",\"2021-06-08T00:00:00\",\"2021-06-12T00:00:00\",\"2021-06-18T00:00:00\",\"2021-06-28T00:00:00\",\"2021-06-30T00:00:00\",\"2021-07-03T00:00:00\",\"2021-07-09T00:00:00\",\"2021-07-12T00:00:00\",\"2021-07-16T00:00:00\",\"2021-07-28T00:00:00\",\"2021-08-03T00:00:00\",\"2021-08-21T00:00:00\",\"2021-08-23T00:00:00\",\"2021-08-25T00:00:00\",\"2021-08-26T00:00:00\",\"2021-08-31T00:00:00\",\"2021-09-08T00:00:00\",\"2021-09-10T00:00:00\",\"2021-09-13T00:00:00\",\"2021-09-15T00:00:00\",\"2021-09-19T00:00:00\",\"2021-09-19T00:00:00\",\"2021-09-20T00:00:00\",\"2021-09-20T00:00:00\",\"2021-09-22T00:00:00\",\"2021-09-26T00:00:00\",\"2021-09-27T00:00:00\",\"2021-09-30T00:00:00\",\"2021-09-30T00:00:00\",\"2021-10-04T00:00:00\",\"2017-09-23T00:00:00\",\"2017-10-08T00:00:00\",\"2018-01-28T00:00:00\",\"2018-02-14T00:00:00\",\"2018-09-03T00:00:00\",\"2018-11-16T00:00:00\",\"2018-11-22T00:00:00\",\"2018-11-26T00:00:00\",\"2018-12-22T00:00:00\",\"2019-02-03T00:00:00\",\"2019-02-09T00:00:00\",\"2019-03-27T00:00:00\",\"2019-04-09T00:00:00\",\"2019-04-23T00:00:00\",\"2019-06-16T00:00:00\",\"2019-06-19T00:00:00\",\"2019-07-01T00:00:00\",\"2019-07-02T00:00:00\",\"2019-08-06T00:00:00\",\"2019-08-13T00:00:00\",\"2019-08-18T00:00:00\",\"2019-09-03T00:00:00\",\"2019-09-09T00:00:00\",\"2019-09-09T00:00:00\",\"2019-10-06T00:00:00\",\"2019-10-15T00:00:00\",\"2019-10-25T00:00:00\",\"2019-10-30T00:00:00\",\"2019-11-21T00:00:00\",\"2022-03-27T00:00:00\",\"2022-03-28T00:00:00\",\"2022-03-29T00:00:00\",\"2022-04-01T00:00:00\",\"2022-04-02T00:00:00\",\"2022-04-04T00:00:00\",\"2022-04-06T00:00:00\",\"2022-04-06T00:00:00\",\"2022-04-07T00:00:00\",\"2022-04-10T00:00:00\",\"2022-04-13T00:00:00\",\"2022-04-13T00:00:00\",\"2022-04-14T00:00:00\",\"2022-04-16T00:00:00\",\"2022-04-16T00:00:00\",\"2022-04-18T00:00:00\",\"2022-04-18T00:00:00\",\"2022-04-25T00:00:00\",\"2022-04-28T00:00:00\",\"2022-05-04T00:00:00\",\"2019-11-26T00:00:00\",\"2019-11-28T00:00:00\",\"2019-11-30T00:00:00\",\"2019-12-08T00:00:00\",\"2019-12-18T00:00:00\",\"2019-12-26T00:00:00\",\"2020-01-04T00:00:00\",\"2020-01-05T00:00:00\",\"2020-01-12T00:00:00\",\"2020-01-22T00:00:00\",\"2020-01-31T00:00:00\",\"2020-02-01T00:00:00\",\"2020-06-07T00:00:00\",\"2020-06-13T00:00:00\",\"2020-06-21T00:00:00\",\"2020-06-27T00:00:00\",\"2020-07-02T00:00:00\",\"2022-01-04T00:00:00\",\"2022-01-11T00:00:00\",\"2022-01-11T00:00:00\",\"2022-01-13T00:00:00\",\"2022-01-14T00:00:00\",\"2022-01-15T00:00:00\",\"2022-01-23T00:00:00\",\"2022-01-26T00:00:00\",\"2022-01-28T00:00:00\",\"2022-01-31T00:00:00\",\"2022-02-04T00:00:00\",\"2022-02-04T00:00:00\",\"2022-02-04T00:00:00\",\"2022-02-07T00:00:00\",\"2022-02-07T00:00:00\",\"2022-02-07T00:00:00\",\"2022-02-11T00:00:00\",\"2022-02-11T00:00:00\",\"2022-02-16T00:00:00\",\"2020-07-03T00:00:00\",\"2020-07-11T00:00:00\",\"2020-07-17T00:00:00\",\"2020-07-22T00:00:00\",\"2020-08-04T00:00:00\",\"2020-08-06T00:00:00\",\"2020-08-25T00:00:00\",\"2020-09-04T00:00:00\",\"2020-09-30T00:00:00\",\"2020-10-07T00:00:00\",\"2020-10-13T00:00:00\",\"2020-10-13T00:00:00\",\"2020-10-20T00:00:00\",\"2020-10-21T00:00:00\",\"2020-10-22T00:00:00\",\"2020-10-26T00:00:00\",\"2020-10-28T00:00:00\",\"2020-12-01T00:00:00\",\"2020-12-09T00:00:00\",\"2020-12-13T00:00:00\",\"2020-12-29T00:00:00\",\"2021-01-02T00:00:00\",\"2021-01-11T00:00:00\",\"2021-01-13T00:00:00\",\"2021-01-15T00:00:00\",\"2021-01-19T00:00:00\",\"2021-01-25T00:00:00\",\"2021-01-30T00:00:00\",\"2021-02-04T00:00:00\",\"2021-02-08T00:00:00\",\"2021-02-11T00:00:00\",\"2021-02-11T00:00:00\",\"2021-02-13T00:00:00\",\"2021-02-20T00:00:00\",\"2021-02-22T00:00:00\",\"2021-02-25T00:00:00\",\"2021-03-03T00:00:00\",\"2022-02-17T00:00:00\",\"2022-02-18T00:00:00\",\"2022-02-22T00:00:00\",\"2022-02-23T00:00:00\",\"2022-02-24T00:00:00\",\"2022-02-26T00:00:00\",\"2022-02-28T00:00:00\",\"2022-03-05T00:00:00\",\"2022-03-05T00:00:00\",\"2022-03-06T00:00:00\",\"2022-03-10T00:00:00\",\"2022-03-14T00:00:00\",\"2022-03-15T00:00:00\",\"2022-03-15T00:00:00\",\"2022-03-15T00:00:00\",\"2022-03-17T00:00:00\",\"2022-03-22T00:00:00\",\"2022-03-23T00:00:00\",\"2022-03-26T00:00:00\",\"2022-03-26T00:00:00\",\"2021-10-04T00:00:00\",\"2021-10-08T00:00:00\",\"2021-10-08T00:00:00\",\"2021-10-10T00:00:00\",\"2021-10-12T00:00:00\",\"2021-10-13T00:00:00\",\"2021-10-17T00:00:00\",\"2021-10-18T00:00:00\",\"2021-10-20T00:00:00\",\"2021-10-21T00:00:00\",\"2021-10-24T00:00:00\",\"2021-10-24T00:00:00\",\"2021-10-25T00:00:00\",\"2021-10-27T00:00:00\",\"2021-10-28T00:00:00\",\"2021-10-29T00:00:00\",\"2021-10-29T00:00:00\",\"2021-10-31T00:00:00\",\"2021-11-02T00:00:00\",\"2021-03-03T00:00:00\",\"2021-03-05T00:00:00\",\"2021-03-07T00:00:00\",\"2021-03-08T00:00:00\",\"2021-03-17T00:00:00\",\"2021-03-18T00:00:00\",\"2021-03-19T00:00:00\",\"2021-03-22T00:00:00\",\"2021-03-23T00:00:00\",\"2021-03-23T00:00:00\",\"2021-03-29T00:00:00\",\"2021-04-01T00:00:00\",\"2021-04-02T00:00:00\",\"2021-04-02T00:00:00\",\"2021-04-04T00:00:00\",\"2021-04-06T00:00:00\",\"2021-04-06T00:00:00\",\"2021-04-07T00:00:00\",\"2021-04-15T00:00:00\",\"2021-04-15T00:00:00\",\"2021-04-16T00:00:00\",\"2021-04-18T00:00:00\",\"2021-04-19T00:00:00\",\"2021-04-21T00:00:00\",\"2021-04-22T00:00:00\",\"2021-04-28T00:00:00\",\"2021-04-28T00:00:00\",\"2021-04-29T00:00:00\",\"2021-05-02T00:00:00\",\"2021-05-02T00:00:00\",\"2021-05-03T00:00:00\",\"2021-05-06T00:00:00\",\"2021-05-07T00:00:00\",\"2021-05-11T00:00:00\",\"2021-05-11T00:00:00\",\"2021-05-13T00:00:00\",\"2021-05-14T00:00:00\",\"2021-05-15T00:00:00\",\"2021-05-16T00:00:00\",\"2021-11-06T00:00:00\",\"2021-11-07T00:00:00\",\"2021-11-09T00:00:00\",\"2021-11-20T00:00:00\",\"2021-11-21T00:00:00\",\"2021-11-27T00:00:00\",\"2021-11-29T00:00:00\",\"2021-11-29T00:00:00\",\"2021-11-30T00:00:00\",\"2021-12-06T00:00:00\",\"2021-12-08T00:00:00\",\"2021-12-13T00:00:00\",\"2021-12-15T00:00:00\",\"2021-12-16T00:00:00\",\"2021-12-17T00:00:00\",\"2021-12-17T00:00:00\",\"2021-12-18T00:00:00\",\"2021-12-21T00:00:00\",\"2021-12-29T00:00:00\",\"2022-01-04T00:00:00\"],\"xaxis\":\"x\",\"yaxis\":\"y\",\"type\":\"histogram\"},{\"alignmentgroup\":\"True\",\"bingroup\":\"x\",\"hovertemplate\":\"rating=2<br>date=%{x}<br>count=%{y}<extra></extra>\",\"legendgroup\":\"2\",\"marker\":{\"color\":\"#EF553B\",\"pattern\":{\"shape\":\"\"}},\"name\":\"2\",\"nbinsx\":10,\"offsetgroup\":\"2\",\"orientation\":\"v\",\"showlegend\":true,\"x\":[\"2021-05-23T00:00:00\",\"2021-06-19T00:00:00\",\"2019-04-27T00:00:00\",\"2020-02-25T00:00:00\",\"2020-06-01T00:00:00\",\"2022-01-25T00:00:00\",\"2021-01-22T00:00:00\",\"2021-02-26T00:00:00\",\"2021-10-07T00:00:00\"],\"xaxis\":\"x\",\"yaxis\":\"y\",\"type\":\"histogram\"},{\"alignmentgroup\":\"True\",\"bingroup\":\"x\",\"hovertemplate\":\"rating=3<br>date=%{x}<br>count=%{y}<extra></extra>\",\"legendgroup\":\"3\",\"marker\":{\"color\":\"#00cc96\",\"pattern\":{\"shape\":\"\"}},\"name\":\"3\",\"nbinsx\":10,\"offsetgroup\":\"3\",\"orientation\":\"v\",\"showlegend\":true,\"x\":[\"2017-02-19T00:00:00\",\"2019-04-18T00:00:00\",\"2019-10-18T00:00:00\",\"2019-11-02T00:00:00\",\"2020-06-11T00:00:00\",\"2020-12-09T00:00:00\",\"2021-05-03T00:00:00\"],\"xaxis\":\"x\",\"yaxis\":\"y\",\"type\":\"histogram\"}],                        {\"template\":{\"data\":{\"histogram2dcontour\":[{\"type\":\"histogram2dcontour\",\"colorbar\":{\"outlinewidth\":0,\"ticks\":\"\"},\"colorscale\":[[0.0,\"#0d0887\"],[0.1111111111111111,\"#46039f\"],[0.2222222222222222,\"#7201a8\"],[0.3333333333333333,\"#9c179e\"],[0.4444444444444444,\"#bd3786\"],[0.5555555555555556,\"#d8576b\"],[0.6666666666666666,\"#ed7953\"],[0.7777777777777778,\"#fb9f3a\"],[0.8888888888888888,\"#fdca26\"],[1.0,\"#f0f921\"]]}],\"choropleth\":[{\"type\":\"choropleth\",\"colorbar\":{\"outlinewidth\":0,\"ticks\":\"\"}}],\"histogram2d\":[{\"type\":\"histogram2d\",\"colorbar\":{\"outlinewidth\":0,\"ticks\":\"\"},\"colorscale\":[[0.0,\"#0d0887\"],[0.1111111111111111,\"#46039f\"],[0.2222222222222222,\"#7201a8\"],[0.3333333333333333,\"#9c179e\"],[0.4444444444444444,\"#bd3786\"],[0.5555555555555556,\"#d8576b\"],[0.6666666666666666,\"#ed7953\"],[0.7777777777777778,\"#fb9f3a\"],[0.8888888888888888,\"#fdca26\"],[1.0,\"#f0f921\"]]}],\"heatmap\":[{\"type\":\"heatmap\",\"colorbar\":{\"outlinewidth\":0,\"ticks\":\"\"},\"colorscale\":[[0.0,\"#0d0887\"],[0.1111111111111111,\"#46039f\"],[0.2222222222222222,\"#7201a8\"],[0.3333333333333333,\"#9c179e\"],[0.4444444444444444,\"#bd3786\"],[0.5555555555555556,\"#d8576b\"],[0.6666666666666666,\"#ed7953\"],[0.7777777777777778,\"#fb9f3a\"],[0.8888888888888888,\"#fdca26\"],[1.0,\"#f0f921\"]]}],\"heatmapgl\":[{\"type\":\"heatmapgl\",\"colorbar\":{\"outlinewidth\":0,\"ticks\":\"\"},\"colorscale\":[[0.0,\"#0d0887\"],[0.1111111111111111,\"#46039f\"],[0.2222222222222222,\"#7201a8\"],[0.3333333333333333,\"#9c179e\"],[0.4444444444444444,\"#bd3786\"],[0.5555555555555556,\"#d8576b\"],[0.6666666666666666,\"#ed7953\"],[0.7777777777777778,\"#fb9f3a\"],[0.8888888888888888,\"#fdca26\"],[1.0,\"#f0f921\"]]}],\"contourcarpet\":[{\"type\":\"contourcarpet\",\"colorbar\":{\"outlinewidth\":0,\"ticks\":\"\"}}],\"contour\":[{\"type\":\"contour\",\"colorbar\":{\"outlinewidth\":0,\"ticks\":\"\"},\"colorscale\":[[0.0,\"#0d0887\"],[0.1111111111111111,\"#46039f\"],[0.2222222222222222,\"#7201a8\"],[0.3333333333333333,\"#9c179e\"],[0.4444444444444444,\"#bd3786\"],[0.5555555555555556,\"#d8576b\"],[0.6666666666666666,\"#ed7953\"],[0.7777777777777778,\"#fb9f3a\"],[0.8888888888888888,\"#fdca26\"],[1.0,\"#f0f921\"]]}],\"surface\":[{\"type\":\"surface\",\"colorbar\":{\"outlinewidth\":0,\"ticks\":\"\"},\"colorscale\":[[0.0,\"#0d0887\"],[0.1111111111111111,\"#46039f\"],[0.2222222222222222,\"#7201a8\"],[0.3333333333333333,\"#9c179e\"],[0.4444444444444444,\"#bd3786\"],[0.5555555555555556,\"#d8576b\"],[0.6666666666666666,\"#ed7953\"],[0.7777777777777778,\"#fb9f3a\"],[0.8888888888888888,\"#fdca26\"],[1.0,\"#f0f921\"]]}],\"mesh3d\":[{\"type\":\"mesh3d\",\"colorbar\":{\"outlinewidth\":0,\"ticks\":\"\"}}],\"scatter\":[{\"fillpattern\":{\"fillmode\":\"overlay\",\"size\":10,\"solidity\":0.2},\"type\":\"scatter\"}],\"parcoords\":[{\"type\":\"parcoords\",\"line\":{\"colorbar\":{\"outlinewidth\":0,\"ticks\":\"\"}}}],\"scatterpolargl\":[{\"type\":\"scatterpolargl\",\"marker\":{\"colorbar\":{\"outlinewidth\":0,\"ticks\":\"\"}}}],\"bar\":[{\"error_x\":{\"color\":\"#2a3f5f\"},\"error_y\":{\"color\":\"#2a3f5f\"},\"marker\":{\"line\":{\"color\":\"#E5ECF6\",\"width\":0.5},\"pattern\":{\"fillmode\":\"overlay\",\"size\":10,\"solidity\":0.2}},\"type\":\"bar\"}],\"scattergeo\":[{\"type\":\"scattergeo\",\"marker\":{\"colorbar\":{\"outlinewidth\":0,\"ticks\":\"\"}}}],\"scatterpolar\":[{\"type\":\"scatterpolar\",\"marker\":{\"colorbar\":{\"outlinewidth\":0,\"ticks\":\"\"}}}],\"histogram\":[{\"marker\":{\"pattern\":{\"fillmode\":\"overlay\",\"size\":10,\"solidity\":0.2}},\"type\":\"histogram\"}],\"scattergl\":[{\"type\":\"scattergl\",\"marker\":{\"colorbar\":{\"outlinewidth\":0,\"ticks\":\"\"}}}],\"scatter3d\":[{\"type\":\"scatter3d\",\"line\":{\"colorbar\":{\"outlinewidth\":0,\"ticks\":\"\"}},\"marker\":{\"colorbar\":{\"outlinewidth\":0,\"ticks\":\"\"}}}],\"scattermapbox\":[{\"type\":\"scattermapbox\",\"marker\":{\"colorbar\":{\"outlinewidth\":0,\"ticks\":\"\"}}}],\"scatterternary\":[{\"type\":\"scatterternary\",\"marker\":{\"colorbar\":{\"outlinewidth\":0,\"ticks\":\"\"}}}],\"scattercarpet\":[{\"type\":\"scattercarpet\",\"marker\":{\"colorbar\":{\"outlinewidth\":0,\"ticks\":\"\"}}}],\"carpet\":[{\"aaxis\":{\"endlinecolor\":\"#2a3f5f\",\"gridcolor\":\"white\",\"linecolor\":\"white\",\"minorgridcolor\":\"white\",\"startlinecolor\":\"#2a3f5f\"},\"baxis\":{\"endlinecolor\":\"#2a3f5f\",\"gridcolor\":\"white\",\"linecolor\":\"white\",\"minorgridcolor\":\"white\",\"startlinecolor\":\"#2a3f5f\"},\"type\":\"carpet\"}],\"table\":[{\"cells\":{\"fill\":{\"color\":\"#EBF0F8\"},\"line\":{\"color\":\"white\"}},\"header\":{\"fill\":{\"color\":\"#C8D4E3\"},\"line\":{\"color\":\"white\"}},\"type\":\"table\"}],\"barpolar\":[{\"marker\":{\"line\":{\"color\":\"#E5ECF6\",\"width\":0.5},\"pattern\":{\"fillmode\":\"overlay\",\"size\":10,\"solidity\":0.2}},\"type\":\"barpolar\"}],\"pie\":[{\"automargin\":true,\"type\":\"pie\"}]},\"layout\":{\"autotypenumbers\":\"strict\",\"colorway\":[\"#636efa\",\"#EF553B\",\"#00cc96\",\"#ab63fa\",\"#FFA15A\",\"#19d3f3\",\"#FF6692\",\"#B6E880\",\"#FF97FF\",\"#FECB52\"],\"font\":{\"color\":\"#2a3f5f\"},\"hovermode\":\"closest\",\"hoverlabel\":{\"align\":\"left\"},\"paper_bgcolor\":\"white\",\"plot_bgcolor\":\"#E5ECF6\",\"polar\":{\"bgcolor\":\"#E5ECF6\",\"angularaxis\":{\"gridcolor\":\"white\",\"linecolor\":\"white\",\"ticks\":\"\"},\"radialaxis\":{\"gridcolor\":\"white\",\"linecolor\":\"white\",\"ticks\":\"\"}},\"ternary\":{\"bgcolor\":\"#E5ECF6\",\"aaxis\":{\"gridcolor\":\"white\",\"linecolor\":\"white\",\"ticks\":\"\"},\"baxis\":{\"gridcolor\":\"white\",\"linecolor\":\"white\",\"ticks\":\"\"},\"caxis\":{\"gridcolor\":\"white\",\"linecolor\":\"white\",\"ticks\":\"\"}},\"coloraxis\":{\"colorbar\":{\"outlinewidth\":0,\"ticks\":\"\"}},\"colorscale\":{\"sequential\":[[0.0,\"#0d0887\"],[0.1111111111111111,\"#46039f\"],[0.2222222222222222,\"#7201a8\"],[0.3333333333333333,\"#9c179e\"],[0.4444444444444444,\"#bd3786\"],[0.5555555555555556,\"#d8576b\"],[0.6666666666666666,\"#ed7953\"],[0.7777777777777778,\"#fb9f3a\"],[0.8888888888888888,\"#fdca26\"],[1.0,\"#f0f921\"]],\"sequentialminus\":[[0.0,\"#0d0887\"],[0.1111111111111111,\"#46039f\"],[0.2222222222222222,\"#7201a8\"],[0.3333333333333333,\"#9c179e\"],[0.4444444444444444,\"#bd3786\"],[0.5555555555555556,\"#d8576b\"],[0.6666666666666666,\"#ed7953\"],[0.7777777777777778,\"#fb9f3a\"],[0.8888888888888888,\"#fdca26\"],[1.0,\"#f0f921\"]],\"diverging\":[[0,\"#8e0152\"],[0.1,\"#c51b7d\"],[0.2,\"#de77ae\"],[0.3,\"#f1b6da\"],[0.4,\"#fde0ef\"],[0.5,\"#f7f7f7\"],[0.6,\"#e6f5d0\"],[0.7,\"#b8e186\"],[0.8,\"#7fbc41\"],[0.9,\"#4d9221\"],[1,\"#276419\"]]},\"xaxis\":{\"gridcolor\":\"white\",\"linecolor\":\"white\",\"ticks\":\"\",\"title\":{\"standoff\":15},\"zerolinecolor\":\"white\",\"automargin\":true,\"zerolinewidth\":2},\"yaxis\":{\"gridcolor\":\"white\",\"linecolor\":\"white\",\"ticks\":\"\",\"title\":{\"standoff\":15},\"zerolinecolor\":\"white\",\"automargin\":true,\"zerolinewidth\":2},\"scene\":{\"xaxis\":{\"backgroundcolor\":\"#E5ECF6\",\"gridcolor\":\"white\",\"linecolor\":\"white\",\"showbackground\":true,\"ticks\":\"\",\"zerolinecolor\":\"white\",\"gridwidth\":2},\"yaxis\":{\"backgroundcolor\":\"#E5ECF6\",\"gridcolor\":\"white\",\"linecolor\":\"white\",\"showbackground\":true,\"ticks\":\"\",\"zerolinecolor\":\"white\",\"gridwidth\":2},\"zaxis\":{\"backgroundcolor\":\"#E5ECF6\",\"gridcolor\":\"white\",\"linecolor\":\"white\",\"showbackground\":true,\"ticks\":\"\",\"zerolinecolor\":\"white\",\"gridwidth\":2}},\"shapedefaults\":{\"line\":{\"color\":\"#2a3f5f\"}},\"annotationdefaults\":{\"arrowcolor\":\"#2a3f5f\",\"arrowhead\":0,\"arrowwidth\":1},\"geo\":{\"bgcolor\":\"white\",\"landcolor\":\"#E5ECF6\",\"subunitcolor\":\"white\",\"showland\":true,\"showlakes\":true,\"lakecolor\":\"white\"},\"title\":{\"x\":0.05},\"mapbox\":{\"style\":\"light\"}}},\"xaxis\":{\"anchor\":\"y\",\"domain\":[0.0,1.0],\"title\":{\"text\":\"Date\"},\"categoryorder\":\"category descending\"},\"yaxis\":{\"anchor\":\"x\",\"domain\":[0.0,1.0],\"title\":{\"text\":\"Number of reviews\"},\"type\":\"log\"},\"legend\":{\"title\":{\"text\":\"rating\"},\"tracegroupgap\":0},\"title\":{\"text\":\"Reviews by date\"},\"barmode\":\"group\"},                        {\"responsive\": true}                    ).then(function(){\n",
              "                            \n",
              "var gd = document.getElementById('8f5f9ac7-312e-4b70-b18a-28a5147f710a');\n",
              "var x = new MutationObserver(function (mutations, observer) {{\n",
              "        var display = window.getComputedStyle(gd).display;\n",
              "        if (!display || display === 'none') {{\n",
              "            console.log([gd, 'removed!']);\n",
              "            Plotly.purge(gd);\n",
              "            observer.disconnect();\n",
              "        }}\n",
              "}});\n",
              "\n",
              "// Listen for the removal of the full notebook cells\n",
              "var notebookContainer = gd.closest('#notebook-container');\n",
              "if (notebookContainer) {{\n",
              "    x.observe(notebookContainer, {childList: true});\n",
              "}}\n",
              "\n",
              "// Listen for the clearing of the current output cell\n",
              "var outputEl = gd.closest('.output');\n",
              "if (outputEl) {{\n",
              "    x.observe(outputEl, {childList: true});\n",
              "}}\n",
              "\n",
              "                        })                };                            </script>        </div>\n",
              "</body>\n",
              "</html>"
            ]
          },
          "metadata": {},
          "output_type": "display_data"
        }
      ],
      "source": [
        "#Histogram plot to analyze number of reviews with respect to date and ratings\n",
        "#As we can see there are many one star ratings compared to all other ratings \n",
        "fig = px.histogram(reviewsDF, x='date',  title='Reviews by date', color='rating', nbins=10, log_y=True, barmode='group')\n",
        "fig.update_xaxes(categoryorder='category descending', title='Date').update_yaxes(title='Number of reviews')\n",
        "fig.show()"
      ]
    },
    {
      "cell_type": "code",
      "execution_count": 23,
      "metadata": {
        "colab": {
          "base_uri": "https://localhost:8080/",
          "height": 282
        },
        "id": "o_Z2mdiLt6WK",
        "outputId": "9aba273e-c4ee-4536-aa3c-20d17a74ba5d"
      },
      "outputs": [
        {
          "data": {
            "text/plain": [
              "<AxesSubplot:>"
            ]
          },
          "execution_count": 23,
          "metadata": {},
          "output_type": "execute_result"
        },
        {
          "data": {
            "image/png": "[encoded data removed]",
            "text/plain": [
              "<Figure size 432x288 with 1 Axes>"
            ]
          },
          "metadata": {
            "needs_background": "light"
          },
          "output_type": "display_data"
        }
      ],
      "source": [
        "#Histogram plot for polarity, and by observing we say that there are many reviwes with the polarity between 0 to 0.25\n",
        "reviewsDF.polarity.hist()"
      ]
    },
    {
      "cell_type": "code",
      "execution_count": 24,
      "metadata": {
        "colab": {
          "base_uri": "https://localhost:8080/",
          "height": 282
        },
        "id": "X2w4MIlmuND1",
        "outputId": "537fcd1e-2283-4815-9781-a93db42f5069"
      },
      "outputs": [
        {
          "data": {
            "text/plain": [
              "<AxesSubplot:>"
            ]
          },
          "execution_count": 24,
          "metadata": {},
          "output_type": "execute_result"
        },
        {
          "data": {
            "image/png": "[encoded data removed]",
            "text/plain": [
              "<Figure size 432x288 with 1 Axes>"
            ]
          },
          "metadata": {
            "needs_background": "light"
          },
          "output_type": "display_data"
        }
      ],
      "source": [
        "#Plot to analyze number of words\n",
        "reviewsDF['numOfWords'].hist()"
      ]
    },
    {
      "cell_type": "code",
      "execution_count": 25,
      "metadata": {
        "colab": {
          "base_uri": "https://localhost:8080/",
          "height": 669
        },
        "id": "KWiivDUgyzAD",
        "outputId": "f7f9d72f-2e99-4c86-c63a-6552a8cdaf1a"
      },
      "outputs": [
        {
          "data": {
            "text/html": [
              "<div>\n",
              "<style scoped>\n",
              "    .dataframe tbody tr th:only-of-type {\n",
              "        vertical-align: middle;\n",
              "    }\n",
              "\n",
              "    .dataframe tbody tr th {\n",
              "        vertical-align: top;\n",
              "    }\n",
              "\n",
              "    .dataframe thead th {\n",
              "        text-align: right;\n",
              "    }\n",
              "</style>\n",
              "<table border=\"1\" class=\"dataframe\">\n",
              "  <thead>\n",
              "    <tr style=\"text-align: right;\">\n",
              "      <th></th>\n",
              "      <th>text</th>\n",
              "      <th>pos</th>\n",
              "      <th>neg</th>\n",
              "      <th>stars</th>\n",
              "    </tr>\n",
              "  </thead>\n",
              "  <tbody>\n",
              "    <tr>\n",
              "      <th>8</th>\n",
              "      <td>buyer seller good trustworthy vinted treat lik...</td>\n",
              "      <td>0.695</td>\n",
              "      <td>0.114</td>\n",
              "      <td>1</td>\n",
              "    </tr>\n",
              "    <tr>\n",
              "      <th>6</th>\n",
              "      <td>customer service number customer care help pag...</td>\n",
              "      <td>0.468</td>\n",
              "      <td>0.126</td>\n",
              "      <td>1</td>\n",
              "    </tr>\n",
              "    <tr>\n",
              "      <th>18</th>\n",
              "      <td>super principe mais service client nullissime</td>\n",
              "      <td>0.438</td>\n",
              "      <td>0.000</td>\n",
              "      <td>1</td>\n",
              "    </tr>\n",
              "    <tr>\n",
              "      <th>1</th>\n",
              "      <td>much faffing around getting payment received e...</td>\n",
              "      <td>0.412</td>\n",
              "      <td>0.000</td>\n",
              "      <td>2</td>\n",
              "    </tr>\n",
              "    <tr>\n",
              "      <th>15</th>\n",
              "      <td>haven’t used vinted yet definitely won’t revie...</td>\n",
              "      <td>0.412</td>\n",
              "      <td>0.000</td>\n",
              "      <td>1</td>\n",
              "    </tr>\n",
              "    <tr>\n",
              "      <th>18</th>\n",
              "      <td>vinted surprising many kind article even prohi...</td>\n",
              "      <td>0.373</td>\n",
              "      <td>0.000</td>\n",
              "      <td>3</td>\n",
              "    </tr>\n",
              "    <tr>\n",
              "      <th>18</th>\n",
              "      <td>bunch bully constantly flagged account commerc...</td>\n",
              "      <td>0.367</td>\n",
              "      <td>0.063</td>\n",
              "      <td>1</td>\n",
              "    </tr>\n",
              "    <tr>\n",
              "      <th>5</th>\n",
              "      <td>low client service support also liar publicity...</td>\n",
              "      <td>0.362</td>\n",
              "      <td>0.210</td>\n",
              "      <td>1</td>\n",
              "    </tr>\n",
              "    <tr>\n",
              "      <th>1</th>\n",
              "      <td>absolute disgrace website awful seller support...</td>\n",
              "      <td>0.360</td>\n",
              "      <td>0.245</td>\n",
              "      <td>1</td>\n",
              "    </tr>\n",
              "    <tr>\n",
              "      <th>2</th>\n",
              "      <td>account blocked justification asked closed dis...</td>\n",
              "      <td>0.339</td>\n",
              "      <td>0.106</td>\n",
              "      <td>1</td>\n",
              "    </tr>\n",
              "    <tr>\n",
              "      <th>10</th>\n",
              "      <td>absolute scammer support user ebay still bette...</td>\n",
              "      <td>0.337</td>\n",
              "      <td>0.000</td>\n",
              "      <td>1</td>\n",
              "    </tr>\n",
              "    <tr>\n",
              "      <th>3</th>\n",
              "      <td>even worth one starok everything ok receive so...</td>\n",
              "      <td>0.321</td>\n",
              "      <td>0.078</td>\n",
              "      <td>1</td>\n",
              "    </tr>\n",
              "    <tr>\n",
              "      <th>7</th>\n",
              "      <td>easy advert make buyer want reduced price time...</td>\n",
              "      <td>0.321</td>\n",
              "      <td>0.000</td>\n",
              "      <td>2</td>\n",
              "    </tr>\n",
              "    <tr>\n",
              "      <th>1</th>\n",
              "      <td>disgraceful customer service honest seller gre...</td>\n",
              "      <td>0.307</td>\n",
              "      <td>0.154</td>\n",
              "      <td>1</td>\n",
              "    </tr>\n",
              "    <tr>\n",
              "      <th>19</th>\n",
              "      <td>totally scammed seller pair dior sunglass vint...</td>\n",
              "      <td>0.306</td>\n",
              "      <td>0.000</td>\n",
              "      <td>1</td>\n",
              "    </tr>\n",
              "    <tr>\n",
              "      <th>14</th>\n",
              "      <td>used vinted buyer found flawed issue item buye...</td>\n",
              "      <td>0.302</td>\n",
              "      <td>0.122</td>\n",
              "      <td>1</td>\n",
              "    </tr>\n",
              "    <tr>\n",
              "      <th>2</th>\n",
              "      <td>first sell go fluently seems vinted help bit g...</td>\n",
              "      <td>0.298</td>\n",
              "      <td>0.094</td>\n",
              "      <td>2</td>\n",
              "    </tr>\n",
              "    <tr>\n",
              "      <th>18</th>\n",
              "      <td>terrible customer service locked account eu ph...</td>\n",
              "      <td>0.295</td>\n",
              "      <td>0.075</td>\n",
              "      <td>1</td>\n",
              "    </tr>\n",
              "    <tr>\n",
              "      <th>13</th>\n",
              "      <td>many counterfeit article vinted recognize easi...</td>\n",
              "      <td>0.294</td>\n",
              "      <td>0.168</td>\n",
              "      <td>1</td>\n",
              "    </tr>\n",
              "    <tr>\n",
              "      <th>3</th>\n",
              "      <td>wish checked site ordering virtually buyer pro...</td>\n",
              "      <td>0.291</td>\n",
              "      <td>0.143</td>\n",
              "      <td>1</td>\n",
              "    </tr>\n",
              "  </tbody>\n",
              "</table>\n",
              "</div>"
            ],
            "text/plain": [
              "                                                 text    pos    neg  stars\n",
              "8   buyer seller good trustworthy vinted treat lik...  0.695  0.114      1\n",
              "6   customer service number customer care help pag...  0.468  0.126      1\n",
              "18      super principe mais service client nullissime  0.438  0.000      1\n",
              "1   much faffing around getting payment received e...  0.412  0.000      2\n",
              "15  haven’t used vinted yet definitely won’t revie...  0.412  0.000      1\n",
              "18  vinted surprising many kind article even prohi...  0.373  0.000      3\n",
              "18  bunch bully constantly flagged account commerc...  0.367  0.063      1\n",
              "5   low client service support also liar publicity...  0.362  0.210      1\n",
              "1   absolute disgrace website awful seller support...  0.360  0.245      1\n",
              "2   account blocked justification asked closed dis...  0.339  0.106      1\n",
              "10  absolute scammer support user ebay still bette...  0.337  0.000      1\n",
              "3   even worth one starok everything ok receive so...  0.321  0.078      1\n",
              "7   easy advert make buyer want reduced price time...  0.321  0.000      2\n",
              "1   disgraceful customer service honest seller gre...  0.307  0.154      1\n",
              "19  totally scammed seller pair dior sunglass vint...  0.306  0.000      1\n",
              "14  used vinted buyer found flawed issue item buye...  0.302  0.122      1\n",
              "2   first sell go fluently seems vinted help bit g...  0.298  0.094      2\n",
              "18  terrible customer service locked account eu ph...  0.295  0.075      1\n",
              "13  many counterfeit article vinted recognize easi...  0.294  0.168      1\n",
              "3   wish checked site ordering virtually buyer pro...  0.291  0.143      1"
            ]
          },
          "execution_count": 25,
          "metadata": {},
          "output_type": "execute_result"
        }
      ],
      "source": [
        "#top positive reviews\n",
        "reviewsDF.sort_values(\"pos\", ascending = False)[[\"text\", \"pos\", \"neg\", \"stars\"]].head(20)"
      ]
    },
    {
      "cell_type": "code",
      "execution_count": 26,
      "metadata": {
        "colab": {
          "base_uri": "https://localhost:8080/",
          "height": 669
        },
        "id": "6bRQ94ZAzA42",
        "outputId": "9425fe80-e4e1-4a84-df7a-25c596051f9a"
      },
      "outputs": [
        {
          "data": {
            "text/html": [
              "<div>\n",
              "<style scoped>\n",
              "    .dataframe tbody tr th:only-of-type {\n",
              "        vertical-align: middle;\n",
              "    }\n",
              "\n",
              "    .dataframe tbody tr th {\n",
              "        vertical-align: top;\n",
              "    }\n",
              "\n",
              "    .dataframe thead th {\n",
              "        text-align: right;\n",
              "    }\n",
              "</style>\n",
              "<table border=\"1\" class=\"dataframe\">\n",
              "  <thead>\n",
              "    <tr style=\"text-align: right;\">\n",
              "      <th></th>\n",
              "      <th>text</th>\n",
              "      <th>pos</th>\n",
              "      <th>neg</th>\n",
              "      <th>stars</th>\n",
              "    </tr>\n",
              "  </thead>\n",
              "  <tbody>\n",
              "    <tr>\n",
              "      <th>14</th>\n",
              "      <td>poor fraud account vinted respond</td>\n",
              "      <td>0.000</td>\n",
              "      <td>0.697</td>\n",
              "      <td>1</td>\n",
              "    </tr>\n",
              "    <tr>\n",
              "      <th>8</th>\n",
              "      <td>worst app ever</td>\n",
              "      <td>0.000</td>\n",
              "      <td>0.672</td>\n",
              "      <td>1</td>\n",
              "    </tr>\n",
              "    <tr>\n",
              "      <th>13</th>\n",
              "      <td>awful website scam rob money take item don’t g...</td>\n",
              "      <td>0.000</td>\n",
              "      <td>0.624</td>\n",
              "      <td>1</td>\n",
              "    </tr>\n",
              "    <tr>\n",
              "      <th>3</th>\n",
              "      <td>outrageous site encourages dishonest buyer ris...</td>\n",
              "      <td>0.141</td>\n",
              "      <td>0.608</td>\n",
              "      <td>1</td>\n",
              "    </tr>\n",
              "    <tr>\n",
              "      <th>6</th>\n",
              "      <td>terrible customer service</td>\n",
              "      <td>0.000</td>\n",
              "      <td>0.608</td>\n",
              "      <td>1</td>\n",
              "    </tr>\n",
              "    <tr>\n",
              "      <th>5</th>\n",
              "      <td>worst site met item fake service client horrib...</td>\n",
              "      <td>0.000</td>\n",
              "      <td>0.583</td>\n",
              "      <td>1</td>\n",
              "    </tr>\n",
              "    <tr>\n",
              "      <th>9</th>\n",
              "      <td>total fraud everything go fine ok problem prod...</td>\n",
              "      <td>0.139</td>\n",
              "      <td>0.546</td>\n",
              "      <td>1</td>\n",
              "    </tr>\n",
              "    <tr>\n",
              "      <th>0</th>\n",
              "      <td>absolutely terrible customer service many emai...</td>\n",
              "      <td>0.000</td>\n",
              "      <td>0.545</td>\n",
              "      <td>1</td>\n",
              "    </tr>\n",
              "    <tr>\n",
              "      <th>6</th>\n",
              "      <td>avoid avoid avoid dreadful company deal proble...</td>\n",
              "      <td>0.112</td>\n",
              "      <td>0.514</td>\n",
              "      <td>1</td>\n",
              "    </tr>\n",
              "    <tr>\n",
              "      <th>10</th>\n",
              "      <td>zero rate would used poor poor poordont use</td>\n",
              "      <td>0.000</td>\n",
              "      <td>0.508</td>\n",
              "      <td>1</td>\n",
              "    </tr>\n",
              "    <tr>\n",
              "      <th>7</th>\n",
              "      <td>worst second app never seen customer service c...</td>\n",
              "      <td>0.000</td>\n",
              "      <td>0.507</td>\n",
              "      <td>1</td>\n",
              "    </tr>\n",
              "    <tr>\n",
              "      <th>10</th>\n",
              "      <td>bad platform sell time delate picture block co...</td>\n",
              "      <td>0.115</td>\n",
              "      <td>0.490</td>\n",
              "      <td>1</td>\n",
              "    </tr>\n",
              "    <tr>\n",
              "      <th>6</th>\n",
              "      <td>hard experience cheated unethical unfair buyer...</td>\n",
              "      <td>0.229</td>\n",
              "      <td>0.476</td>\n",
              "      <td>1</td>\n",
              "    </tr>\n",
              "    <tr>\n",
              "      <th>8</th>\n",
              "      <td>really poor set postage price end pay pay twic...</td>\n",
              "      <td>0.000</td>\n",
              "      <td>0.456</td>\n",
              "      <td>1</td>\n",
              "    </tr>\n",
              "    <tr>\n",
              "      <th>5</th>\n",
              "      <td>avoid avoid con vinted customer service bad pu...</td>\n",
              "      <td>0.000</td>\n",
              "      <td>0.455</td>\n",
              "      <td>1</td>\n",
              "    </tr>\n",
              "    <tr>\n",
              "      <th>9</th>\n",
              "      <td>worst app custumer service ever experience</td>\n",
              "      <td>0.000</td>\n",
              "      <td>0.451</td>\n",
              "      <td>1</td>\n",
              "    </tr>\n",
              "    <tr>\n",
              "      <th>3</th>\n",
              "      <td>poor app would recommend anyone use bad experi...</td>\n",
              "      <td>0.166</td>\n",
              "      <td>0.437</td>\n",
              "      <td>1</td>\n",
              "    </tr>\n",
              "    <tr>\n",
              "      <th>2</th>\n",
              "      <td>worst site ever cheat customer shady practice ...</td>\n",
              "      <td>0.101</td>\n",
              "      <td>0.435</td>\n",
              "      <td>1</td>\n",
              "    </tr>\n",
              "    <tr>\n",
              "      <th>3</th>\n",
              "      <td>absolutely horrible selling make exposed scam ...</td>\n",
              "      <td>0.064</td>\n",
              "      <td>0.435</td>\n",
              "      <td>1</td>\n",
              "    </tr>\n",
              "    <tr>\n",
              "      <th>17</th>\n",
              "      <td>look review company awful incredible</td>\n",
              "      <td>0.000</td>\n",
              "      <td>0.429</td>\n",
              "      <td>1</td>\n",
              "    </tr>\n",
              "  </tbody>\n",
              "</table>\n",
              "</div>"
            ],
            "text/plain": [
              "                                                 text    pos    neg  stars\n",
              "14                  poor fraud account vinted respond  0.000  0.697      1\n",
              "8                                      worst app ever  0.000  0.672      1\n",
              "13  awful website scam rob money take item don’t g...  0.000  0.624      1\n",
              "3   outrageous site encourages dishonest buyer ris...  0.141  0.608      1\n",
              "6                           terrible customer service  0.000  0.608      1\n",
              "5   worst site met item fake service client horrib...  0.000  0.583      1\n",
              "9   total fraud everything go fine ok problem prod...  0.139  0.546      1\n",
              "0   absolutely terrible customer service many emai...  0.000  0.545      1\n",
              "6   avoid avoid avoid dreadful company deal proble...  0.112  0.514      1\n",
              "10        zero rate would used poor poor poordont use  0.000  0.508      1\n",
              "7   worst second app never seen customer service c...  0.000  0.507      1\n",
              "10  bad platform sell time delate picture block co...  0.115  0.490      1\n",
              "6   hard experience cheated unethical unfair buyer...  0.229  0.476      1\n",
              "8   really poor set postage price end pay pay twic...  0.000  0.456      1\n",
              "5   avoid avoid con vinted customer service bad pu...  0.000  0.455      1\n",
              "9          worst app custumer service ever experience  0.000  0.451      1\n",
              "3   poor app would recommend anyone use bad experi...  0.166  0.437      1\n",
              "2   worst site ever cheat customer shady practice ...  0.101  0.435      1\n",
              "3   absolutely horrible selling make exposed scam ...  0.064  0.435      1\n",
              "17               look review company awful incredible  0.000  0.429      1"
            ]
          },
          "execution_count": 26,
          "metadata": {},
          "output_type": "execute_result"
        }
      ],
      "source": [
        "#Analyzing the negative data - ascending order \n",
        "reviewsDF.sort_values(\"neg\", ascending = False)[[\"text\", \"pos\", \"neg\", \"stars\"]].head(20)"
      ]
    },
    {
      "cell_type": "code",
      "execution_count": 27,
      "metadata": {
        "colab": {
          "base_uri": "https://localhost:8080/"
        },
        "id": "xihTuYDNzG6t",
        "outputId": "11e0ec0c-04b4-468f-d0b8-36394d5a9183"
      },
      "outputs": [],
      "source": [
        "# reviewsDF['length'][1234]"
      ]
    },
    {
      "cell_type": "code",
      "execution_count": 28,
      "metadata": {
        "colab": {
          "base_uri": "https://localhost:8080/",
          "height": 589
        },
        "id": "FSYI_s2euYaz",
        "outputId": "264ec557-4bfa-4a2a-9651-2140a9120ab1"
      },
      "outputs": [
        {
          "name": "stderr",
          "output_type": "stream",
          "text": [
            "/usr/local/lib/python3.7/site-packages/wordcloud/wordcloud.py:512: DeprecationWarning:\n",
            "\n",
            "ROTATE_90 is deprecated and will be removed in Pillow 10 (2023-07-01). Use Transpose.ROTATE_90 instead.\n",
            "\n",
            "/usr/local/lib/python3.7/site-packages/wordcloud/wordcloud.py:512: DeprecationWarning:\n",
            "\n",
            "ROTATE_90 is deprecated and will be removed in Pillow 10 (2023-07-01). Use Transpose.ROTATE_90 instead.\n",
            "\n",
            "/usr/local/lib/python3.7/site-packages/wordcloud/wordcloud.py:512: DeprecationWarning:\n",
            "\n",
            "ROTATE_90 is deprecated and will be removed in Pillow 10 (2023-07-01). Use Transpose.ROTATE_90 instead.\n",
            "\n",
            "/usr/local/lib/python3.7/site-packages/wordcloud/wordcloud.py:512: DeprecationWarning:\n",
            "\n",
            "ROTATE_90 is deprecated and will be removed in Pillow 10 (2023-07-01). Use Transpose.ROTATE_90 instead.\n",
            "\n",
            "/usr/local/lib/python3.7/site-packages/wordcloud/wordcloud.py:512: DeprecationWarning:\n",
            "\n",
            "ROTATE_90 is deprecated and will be removed in Pillow 10 (2023-07-01). Use Transpose.ROTATE_90 instead.\n",
            "\n",
            "/usr/local/lib/python3.7/site-packages/wordcloud/wordcloud.py:492: DeprecationWarning:\n",
            "\n",
            "ROTATE_90 is deprecated and will be removed in Pillow 10 (2023-07-01). Use Transpose.ROTATE_90 instead.\n",
            "\n",
            "/usr/local/lib/python3.7/site-packages/wordcloud/wordcloud.py:492: DeprecationWarning:\n",
            "\n",
            "ROTATE_90 is deprecated and will be removed in Pillow 10 (2023-07-01). Use Transpose.ROTATE_90 instead.\n",
            "\n",
            "/usr/local/lib/python3.7/site-packages/wordcloud/wordcloud.py:512: DeprecationWarning:\n",
            "\n",
            "ROTATE_90 is deprecated and will be removed in Pillow 10 (2023-07-01). Use Transpose.ROTATE_90 instead.\n",
            "\n",
            "/usr/local/lib/python3.7/site-packages/wordcloud/wordcloud.py:512: DeprecationWarning:\n",
            "\n",
            "ROTATE_90 is deprecated and will be removed in Pillow 10 (2023-07-01). Use Transpose.ROTATE_90 instead.\n",
            "\n",
            "/usr/local/lib/python3.7/site-packages/wordcloud/wordcloud.py:512: DeprecationWarning:\n",
            "\n",
            "ROTATE_90 is deprecated and will be removed in Pillow 10 (2023-07-01). Use Transpose.ROTATE_90 instead.\n",
            "\n",
            "/usr/local/lib/python3.7/site-packages/wordcloud/wordcloud.py:512: DeprecationWarning:\n",
            "\n",
            "ROTATE_90 is deprecated and will be removed in Pillow 10 (2023-07-01). Use Transpose.ROTATE_90 instead.\n",
            "\n",
            "/usr/local/lib/python3.7/site-packages/wordcloud/wordcloud.py:512: DeprecationWarning:\n",
            "\n",
            "ROTATE_90 is deprecated and will be removed in Pillow 10 (2023-07-01). Use Transpose.ROTATE_90 instead.\n",
            "\n",
            "/usr/local/lib/python3.7/site-packages/wordcloud/wordcloud.py:512: DeprecationWarning:\n",
            "\n",
            "ROTATE_90 is deprecated and will be removed in Pillow 10 (2023-07-01). Use Transpose.ROTATE_90 instead.\n",
            "\n",
            "/usr/local/lib/python3.7/site-packages/wordcloud/wordcloud.py:512: DeprecationWarning:\n",
            "\n",
            "ROTATE_90 is deprecated and will be removed in Pillow 10 (2023-07-01). Use Transpose.ROTATE_90 instead.\n",
            "\n",
            "/usr/local/lib/python3.7/site-packages/wordcloud/wordcloud.py:512: DeprecationWarning:\n",
            "\n",
            "ROTATE_90 is deprecated and will be removed in Pillow 10 (2023-07-01). Use Transpose.ROTATE_90 instead.\n",
            "\n",
            "/usr/local/lib/python3.7/site-packages/wordcloud/wordcloud.py:512: DeprecationWarning:\n",
            "\n",
            "ROTATE_90 is deprecated and will be removed in Pillow 10 (2023-07-01). Use Transpose.ROTATE_90 instead.\n",
            "\n",
            "/usr/local/lib/python3.7/site-packages/wordcloud/wordcloud.py:512: DeprecationWarning:\n",
            "\n",
            "ROTATE_90 is deprecated and will be removed in Pillow 10 (2023-07-01). Use Transpose.ROTATE_90 instead.\n",
            "\n",
            "/usr/local/lib/python3.7/site-packages/wordcloud/wordcloud.py:492: DeprecationWarning:\n",
            "\n",
            "ROTATE_90 is deprecated and will be removed in Pillow 10 (2023-07-01). Use Transpose.ROTATE_90 instead.\n",
            "\n",
            "/usr/local/lib/python3.7/site-packages/wordcloud/wordcloud.py:492: DeprecationWarning:\n",
            "\n",
            "ROTATE_90 is deprecated and will be removed in Pillow 10 (2023-07-01). Use Transpose.ROTATE_90 instead.\n",
            "\n",
            "/usr/local/lib/python3.7/site-packages/wordcloud/wordcloud.py:512: DeprecationWarning:\n",
            "\n",
            "ROTATE_90 is deprecated and will be removed in Pillow 10 (2023-07-01). Use Transpose.ROTATE_90 instead.\n",
            "\n",
            "/usr/local/lib/python3.7/site-packages/wordcloud/wordcloud.py:512: DeprecationWarning:\n",
            "\n",
            "ROTATE_90 is deprecated and will be removed in Pillow 10 (2023-07-01). Use Transpose.ROTATE_90 instead.\n",
            "\n",
            "/usr/local/lib/python3.7/site-packages/wordcloud/wordcloud.py:492: DeprecationWarning:\n",
            "\n",
            "ROTATE_90 is deprecated and will be removed in Pillow 10 (2023-07-01). Use Transpose.ROTATE_90 instead.\n",
            "\n",
            "/usr/local/lib/python3.7/site-packages/wordcloud/wordcloud.py:513: DeprecationWarning:\n",
            "\n",
            "ROTATE_90 is deprecated and will be removed in Pillow 10 (2023-07-01). Use Transpose.ROTATE_90 instead.\n",
            "\n",
            "/usr/local/lib/python3.7/site-packages/wordcloud/wordcloud.py:512: DeprecationWarning:\n",
            "\n",
            "ROTATE_90 is deprecated and will be removed in Pillow 10 (2023-07-01). Use Transpose.ROTATE_90 instead.\n",
            "\n",
            "/usr/local/lib/python3.7/site-packages/wordcloud/wordcloud.py:492: DeprecationWarning:\n",
            "\n",
            "ROTATE_90 is deprecated and will be removed in Pillow 10 (2023-07-01). Use Transpose.ROTATE_90 instead.\n",
            "\n",
            "/usr/local/lib/python3.7/site-packages/wordcloud/wordcloud.py:512: DeprecationWarning:\n",
            "\n",
            "ROTATE_90 is deprecated and will be removed in Pillow 10 (2023-07-01). Use Transpose.ROTATE_90 instead.\n",
            "\n",
            "/usr/local/lib/python3.7/site-packages/wordcloud/wordcloud.py:512: DeprecationWarning:\n",
            "\n",
            "ROTATE_90 is deprecated and will be removed in Pillow 10 (2023-07-01). Use Transpose.ROTATE_90 instead.\n",
            "\n",
            "/usr/local/lib/python3.7/site-packages/wordcloud/wordcloud.py:492: DeprecationWarning:\n",
            "\n",
            "ROTATE_90 is deprecated and will be removed in Pillow 10 (2023-07-01). Use Transpose.ROTATE_90 instead.\n",
            "\n",
            "/usr/local/lib/python3.7/site-packages/wordcloud/wordcloud.py:512: DeprecationWarning:\n",
            "\n",
            "ROTATE_90 is deprecated and will be removed in Pillow 10 (2023-07-01). Use Transpose.ROTATE_90 instead.\n",
            "\n",
            "/usr/local/lib/python3.7/site-packages/wordcloud/wordcloud.py:512: DeprecationWarning:\n",
            "\n",
            "ROTATE_90 is deprecated and will be removed in Pillow 10 (2023-07-01). Use Transpose.ROTATE_90 instead.\n",
            "\n",
            "/usr/local/lib/python3.7/site-packages/wordcloud/wordcloud.py:512: DeprecationWarning:\n",
            "\n",
            "ROTATE_90 is deprecated and will be removed in Pillow 10 (2023-07-01). Use Transpose.ROTATE_90 instead.\n",
            "\n",
            "/usr/local/lib/python3.7/site-packages/wordcloud/wordcloud.py:512: DeprecationWarning:\n",
            "\n",
            "ROTATE_90 is deprecated and will be removed in Pillow 10 (2023-07-01). Use Transpose.ROTATE_90 instead.\n",
            "\n",
            "/usr/local/lib/python3.7/site-packages/wordcloud/wordcloud.py:492: DeprecationWarning:\n",
            "\n",
            "ROTATE_90 is deprecated and will be removed in Pillow 10 (2023-07-01). Use Transpose.ROTATE_90 instead.\n",
            "\n",
            "/usr/local/lib/python3.7/site-packages/wordcloud/wordcloud.py:492: DeprecationWarning:\n",
            "\n",
            "ROTATE_90 is deprecated and will be removed in Pillow 10 (2023-07-01). Use Transpose.ROTATE_90 instead.\n",
            "\n",
            "/usr/local/lib/python3.7/site-packages/wordcloud/wordcloud.py:492: DeprecationWarning:\n",
            "\n",
            "ROTATE_90 is deprecated and will be removed in Pillow 10 (2023-07-01). Use Transpose.ROTATE_90 instead.\n",
            "\n",
            "/usr/local/lib/python3.7/site-packages/wordcloud/wordcloud.py:512: DeprecationWarning:\n",
            "\n",
            "ROTATE_90 is deprecated and will be removed in Pillow 10 (2023-07-01). Use Transpose.ROTATE_90 instead.\n",
            "\n",
            "/usr/local/lib/python3.7/site-packages/wordcloud/wordcloud.py:492: DeprecationWarning:\n",
            "\n",
            "ROTATE_90 is deprecated and will be removed in Pillow 10 (2023-07-01). Use Transpose.ROTATE_90 instead.\n",
            "\n",
            "/usr/local/lib/python3.7/site-packages/wordcloud/wordcloud.py:512: DeprecationWarning:\n",
            "\n",
            "ROTATE_90 is deprecated and will be removed in Pillow 10 (2023-07-01). Use Transpose.ROTATE_90 instead.\n",
            "\n",
            "/usr/local/lib/python3.7/site-packages/wordcloud/wordcloud.py:512: DeprecationWarning:\n",
            "\n",
            "ROTATE_90 is deprecated and will be removed in Pillow 10 (2023-07-01). Use Transpose.ROTATE_90 instead.\n",
            "\n",
            "/usr/local/lib/python3.7/site-packages/wordcloud/wordcloud.py:512: DeprecationWarning:\n",
            "\n",
            "ROTATE_90 is deprecated and will be removed in Pillow 10 (2023-07-01). Use Transpose.ROTATE_90 instead.\n",
            "\n",
            "/usr/local/lib/python3.7/site-packages/wordcloud/wordcloud.py:512: DeprecationWarning:\n",
            "\n",
            "ROTATE_90 is deprecated and will be removed in Pillow 10 (2023-07-01). Use Transpose.ROTATE_90 instead.\n",
            "\n",
            "/usr/local/lib/python3.7/site-packages/wordcloud/wordcloud.py:512: DeprecationWarning:\n",
            "\n",
            "ROTATE_90 is deprecated and will be removed in Pillow 10 (2023-07-01). Use Transpose.ROTATE_90 instead.\n",
            "\n"
          ]
        },
        {
          "data": {
            "image/png": "[encoded data removed]",
            "text/plain": [
              "<Figure size 1440x1440 with 1 Axes>"
            ]
          },
          "metadata": {
            "needs_background": "light"
          },
          "output_type": "display_data"
        }
      ],
      "source": [
        "#WordCloud of text in the complete data set\n",
        "from wordcloud import STOPWORDS\n",
        "\n",
        "stopwords = ['item', 'vc', 'vestiaire', 'm', 'ive'] + list(STOPWORDS)\n",
        "\n",
        "text = \" \".join(i for i in reviewsDF.text)\n",
        "wordcloud = WordCloud(stopwords = stopwords, width=800, height=400).generate(text)\n",
        "fig = plt.figure(1, figsize = (20, 20))\n",
        "plt.axis('off')\n",
        "plt.imshow(wordcloud)\n",
        "plt.show()"
      ]
    },
    {
      "cell_type": "code",
      "execution_count": 29,
      "metadata": {
        "colab": {
          "base_uri": "https://localhost:8080/"
        },
        "id": "AuyWNAsGwSil",
        "outputId": "5058433e-ec32-4b31-d770-2b926afda39b"
      },
      "outputs": [
        {
          "data": {
            "text/plain": [
              "{'vinted': 1.0,\n",
              " 'buyer': 0.463855421686747,\n",
              " 'seller': 0.44879518072289154,\n",
              " 'money': 0.29518072289156627,\n",
              " 'account': 0.25,\n",
              " 'customer service': 0.24397590361445784,\n",
              " 'never': 0.22590361445783133,\n",
              " 'time': 0.22590361445783133,\n",
              " 'sell': 0.18373493975903615,\n",
              " 'app': 0.18072289156626506,\n",
              " 'sent': 0.1716867469879518,\n",
              " 'one': 0.1716867469879518,\n",
              " 'even': 0.16566265060240964,\n",
              " 'dont': 0.16265060240963855,\n",
              " 'sold': 0.15963855421686746,\n",
              " 'refund': 0.1566265060240964,\n",
              " 'day': 0.14759036144578314,\n",
              " 'fake': 0.14759036144578314,\n",
              " 'good': 0.14457831325301204,\n",
              " 'message': 0.14156626506024098,\n",
              " 'received': 0.1355421686746988,\n",
              " 'use': 0.1355421686746988,\n",
              " 'parcel': 0.13253012048192772,\n",
              " 'said': 0.13253012048192772,\n",
              " 'help': 0.12951807228915663,\n",
              " 'problem': 0.12650602409638553,\n",
              " 'back': 0.11746987951807229,\n",
              " 'nothing': 0.11746987951807229,\n",
              " 'pay': 0.11746987951807229,\n",
              " 'company': 0.11144578313253012,\n",
              " 'bought': 0.11144578313253012,\n",
              " 'site': 0.11144578313253012,\n",
              " 'people': 0.11144578313253012,\n",
              " 'bad': 0.11144578313253012,\n",
              " 's': 0.10843373493975904,\n",
              " 'give': 0.10843373493975904,\n",
              " 'proof': 0.10843373493975904,\n",
              " 'package': 0.10542168674698796,\n",
              " 'thing': 0.10240963855421686,\n",
              " 'issue': 0.10240963855421686,\n",
              " 'got': 0.10240963855421686,\n",
              " 'support': 0.10240963855421686,\n",
              " 'week': 0.10240963855421686,\n",
              " 'payment': 0.10240963855421686,\n",
              " 'told': 0.09939759036144578,\n",
              " 'go': 0.09939759036144578,\n",
              " 'service': 0.0963855421686747,\n",
              " 'lost': 0.0963855421686747,\n",
              " 'send': 0.0963855421686747,\n",
              " 'way': 0.0963855421686747,\n",
              " 'asked': 0.0963855421686747,\n",
              " 'buy': 0.0963855421686747,\n",
              " 'really': 0.09337349397590361,\n",
              " 'selling': 0.09337349397590361,\n",
              " 'blocked': 0.09036144578313253,\n",
              " 'still': 0.09036144578313253,\n",
              " 'make': 0.08734939759036145,\n",
              " 'bag': 0.08734939759036145,\n",
              " 'website': 0.08734939759036145,\n",
              " 'say': 0.08734939759036145,\n",
              " 'without': 0.08433734939759036,\n",
              " 'paid': 0.08433734939759036,\n",
              " 'photo': 0.08433734939759036,\n",
              " 'keep': 0.08433734939759036,\n",
              " 'take': 0.08433734939759036,\n",
              " 'many': 0.08132530120481928,\n",
              " 'want': 0.08132530120481928,\n",
              " 'ask': 0.08132530120481928,\n",
              " 'scam': 0.08132530120481928,\n",
              " 'reason': 0.0783132530120482,\n",
              " 'address': 0.0783132530120482,\n",
              " 'experience': 0.0783132530120482,\n",
              " 'return': 0.0783132530120482,\n",
              " 'contact': 0.0783132530120482,\n",
              " 'de': 0.0783132530120482,\n",
              " 'worst': 0.07228915662650602,\n",
              " 'order': 0.07228915662650602,\n",
              " 'review': 0.07228915662650602,\n",
              " 'see': 0.07228915662650602,\n",
              " 'absolutely': 0.06927710843373494,\n",
              " 'customer': 0.06927710843373494,\n",
              " 'used': 0.06927710843373494,\n",
              " 'need': 0.06927710843373494,\n",
              " 'anything': 0.06927710843373494,\n",
              " 'much': 0.06927710843373494,\n",
              " 'le': 0.06927710843373494,\n",
              " 'doesnt': 0.06626506024096386,\n",
              " 'took': 0.06626506024096386,\n",
              " 'transaction': 0.06626506024096386,\n",
              " 'reply': 0.06626506024096386,\n",
              " 'contacted': 0.06626506024096386,\n",
              " 'et': 0.06626506024096386,\n",
              " 've': 0.06325301204819277,\n",
              " 't': 0.06325301204819277,\n",
              " 'platform': 0.06325301204819277,\n",
              " 'using': 0.06325301204819277,\n",
              " 'lot': 0.06325301204819277,\n",
              " 'two': 0.06325301204819277,\n",
              " 'scammer': 0.06325301204819277,\n",
              " 'new': 0.06325301204819277,\n",
              " 'didnt': 0.060240963855421686,\n",
              " 'care': 0.060240963855421686,\n",
              " 'know': 0.060240963855421686,\n",
              " 'sale': 0.060240963855421686,\n",
              " 'email': 0.0572289156626506,\n",
              " 'star': 0.0572289156626506,\n",
              " 'picture': 0.0572289156626506,\n",
              " 'post': 0.0572289156626506,\n",
              " 'user': 0.0572289156626506,\n",
              " 'avoid': 0.0572289156626506,\n",
              " 'bank': 0.0572289156626506,\n",
              " 'cant': 0.0572289156626506,\n",
              " 'made': 0.05421686746987952,\n",
              " 'away': 0.05421686746987952,\n",
              " 'something': 0.05421686746987952,\n",
              " 'recommend': 0.05421686746987952,\n",
              " 'im': 0.05421686746987952,\n",
              " 'shoe': 0.05421686746987952,\n",
              " 'first': 0.05421686746987952,\n",
              " 'purchase': 0.05421686746987952,\n",
              " 'delivered': 0.05421686746987952,\n",
              " 'ebay': 0.05421686746987952,\n",
              " 'buyer protection': 0.05421686746987952,\n",
              " 'money back': 0.05421686746987952,\n",
              " 'use vinted': 0.05421686746987952,\n",
              " 'terrible': 0.05120481927710843,\n",
              " 'awful': 0.05120481927710843,\n",
              " 'case': 0.05120481927710843,\n",
              " 'tell': 0.05120481927710843,\n",
              " 'product': 0.05120481927710843,\n",
              " 'don t': 0.05120481927710843,\n",
              " 'ok': 0.04819277108433735,\n",
              " 'went': 0.04819277108433735,\n",
              " 'great': 0.04819277108433735,\n",
              " 'respond': 0.04819277108433735,\n",
              " 'going': 0.04819277108433735,\n",
              " 'please': 0.04819277108433735,\n",
              " 'yet': 0.04819277108433735,\n",
              " 'real': 0.04819277108433735,\n",
              " 'point': 0.04819277108433735,\n",
              " 'que': 0.04819277108433735,\n",
              " 'worth': 0.045180722891566265,\n",
              " 'postage': 0.045180722891566265,\n",
              " 'delivery': 0.045180722891566265,\n",
              " 'always': 0.045180722891566265,\n",
              " 'every': 0.045180722891566265,\n",
              " 'wont': 0.045180722891566265,\n",
              " 'another': 0.045180722891566265,\n",
              " 'price': 0.045180722891566265,\n",
              " 'wait': 0.045180722891566265,\n",
              " 'despite': 0.045180722891566265,\n",
              " 'waiting': 0.045180722891566265,\n",
              " 'month': 0.045180722891566265,\n",
              " 'scammed': 0.045180722891566265,\n",
              " 'well': 0.04216867469879518,\n",
              " 'better': 0.04216867469879518,\n",
              " 'last': 0.04216867469879518,\n",
              " 'found': 0.04216867469879518,\n",
              " 'gave': 0.04216867469879518,\n",
              " 'buying': 0.04216867469879518,\n",
              " 'put': 0.04216867469879518,\n",
              " 'think': 0.04216867469879518,\n",
              " 'arrived': 0.04216867469879518,\n",
              " 'opened': 0.04216867469879518,\n",
              " 'wrong': 0.04216867469879518,\n",
              " 'stuff': 0.04216867469879518,\n",
              " 'clearly': 0.04216867469879518,\n",
              " 'find': 0.04216867469879518,\n",
              " 'condition': 0.04216867469879518,\n",
              " 'saying': 0.04216867469879518,\n",
              " 'counterfeit': 0.04216867469879518,\n",
              " 'bikini': 0.04216867469879518,\n",
              " 'feedback': 0.04216867469879518,\n",
              " 'didn t': 0.04216867469879518,\n",
              " 'work': 0.0391566265060241,\n",
              " 'number': 0.0391566265060241,\n",
              " 'taken': 0.0391566265060241,\n",
              " 'able': 0.0391566265060241,\n",
              " 'useless': 0.0391566265060241,\n",
              " 'claim': 0.0391566265060241,\n",
              " 'protection': 0.0391566265060241,\n",
              " 'let': 0.0391566265060241,\n",
              " 'deleted': 0.0391566265060241,\n",
              " 'everything': 0.0391566265060241,\n",
              " 'response': 0.0391566265060241,\n",
              " 'receive': 0.03614457831325301,\n",
              " 'year': 0.03614457831325301,\n",
              " 'horrible': 0.03614457831325301,\n",
              " 'size': 0.03614457831325301,\n",
              " 'anyone': 0.03614457831325301,\n",
              " 'cancelled': 0.03614457831325301,\n",
              " 'someone': 0.03614457831325301,\n",
              " 'read': 0.03614457831325301,\n",
              " 'box': 0.03614457831325301,\n",
              " 'tried': 0.03614457831325301,\n",
              " 'team': 0.03614457831325301,\n",
              " 'jai': 0.03614457831325301,\n",
              " 'seem': 0.03614457831325301,\n",
              " 'la': 0.03614457831325301,\n",
              " 'via': 0.03313253012048193}"
            ]
          },
          "execution_count": 29,
          "metadata": {},
          "output_type": "execute_result"
        }
      ],
      "source": [
        "#Percentage of each word in the wordcloud\n",
        "wordcloud.words_"
      ]
    },
    {
      "cell_type": "markdown",
      "metadata": {
        "id": "ZFSH1O7Zw7jV"
      },
      "source": [
        "# **Topic Modelling**"
      ]
    },
    {
      "cell_type": "code",
      "execution_count": 30,
      "metadata": {
        "id": "e1R6VR2lwkdO"
      },
      "outputs": [],
      "source": [
        "reviewData = reviewsDF['text']\n",
        "tfidf_vectorizer = TfidfVectorizer(stop_words='english', use_idf=True, smooth_idf=True)\n",
        "reviewData = reviewData.values\n",
        "document_term_matrix = tfidf_vectorizer.fit_transform(reviewData)"
      ]
    },
    {
      "cell_type": "code",
      "execution_count": 31,
      "metadata": {
        "id": "N477nraHxUyd"
      },
      "outputs": [],
      "source": [
        "#Let's consider the top 20 topics\n",
        "n_topics = 20\n",
        "lsa_model = TruncatedSVD(n_components=n_topics)\n",
        "lsa_topic_matrix = lsa_model.fit_transform(document_term_matrix)"
      ]
    },
    {
      "cell_type": "code",
      "execution_count": 32,
      "metadata": {
        "id": "V1ViOcYqxcaP"
      },
      "outputs": [],
      "source": [
        "def getCategoriesCounts(lsa_topic_matrix):\n",
        "  keys = lsa_topic_matrix.argmax(axis=1).tolist()\n",
        "  count_pairs = Counter(keys).items()\n",
        "  categories = [pair[0] for pair in count_pairs]\n",
        "  counts = [pair[1] for pair in count_pairs]\n",
        "  return (keys,categories, counts)"
      ]
    },
    {
      "cell_type": "code",
      "execution_count": 33,
      "metadata": {
        "id": "NNwJE5oPx4xJ"
      },
      "outputs": [],
      "source": [
        "lsa_keys, lsa_categories, lsa_counts = getCategoriesCounts(lsa_topic_matrix)"
      ]
    },
    {
      "cell_type": "code",
      "execution_count": 34,
      "metadata": {
        "id": "AZYpai5Sx8ou"
      },
      "outputs": [],
      "source": [
        "def get_top_n_words(n, keys, document_term_matrix, tfidf_vectorizer):\n",
        "    top_indices = []\n",
        "    for topic in range(n_topics):\n",
        "        temp_vector_sum = 0\n",
        "        for i in range(len(keys)):\n",
        "            if keys[i] == topic:\n",
        "                temp_vector_sum += document_term_matrix[i]\n",
        "        if hasattr(temp_vector_sum, 'toarray'):\n",
        "            temp_vector_sum = temp_vector_sum.toarray()\n",
        "            top_n_word_indices = np.flip(np.argsort(temp_vector_sum)[0][-n:],0)\n",
        "            top_indices.append(top_n_word_indices)   \n",
        "        else:\n",
        "            top_indices.append([])\n",
        "    top_words = []\n",
        "    for topic in top_indices:\n",
        "        topic_words = []\n",
        "        for index in topic:\n",
        "            temp_word_vector = np.zeros((1,document_term_matrix.shape[1]))\n",
        "            temp_word_vector[:,index] = 1\n",
        "            the_word = tfidf_vectorizer.inverse_transform(temp_word_vector)[0][0]\n",
        "            topic_words.append(the_word.encode('ascii').decode('utf-8'))\n",
        "        top_words.append(\" \".join(topic_words))         \n",
        "    return top_words"
      ]
    },
    {
      "cell_type": "code",
      "execution_count": 35,
      "metadata": {
        "colab": {
          "base_uri": "https://localhost:8080/"
        },
        "id": "hcWeiReByPQ0",
        "outputId": "3b365370-c6b8-4714-b652-21e3318fb32a"
      },
      "outputs": [
        {
          "name": "stdout",
          "output_type": "stream",
          "text": [
            "Topic 1:  item vinted buyer\n",
            "Topic 2:  customer service worst\n",
            "Topic 3:  app use bad\n",
            "Topic 4:  account bank payment\n",
            "Topic 5:  parcel got help\n",
            "Topic 6:  time fake crook\n",
            "Topic 7:  easier payment awful\n",
            "Topic 8:  client support money\n",
            "Topic 9:  awful scammer website\n",
            "Topic 10:  poor fraud pay\n",
            "Topic 11:  et le que\n",
            "Topic 12:  address number contact\n",
            "Topic 13:  company incredible paypal\n",
            "Topic 14:  generated computer removed\n",
            "Topic 15:  stay away vinted\n",
            "Topic 16:  website gave going\n",
            "Topic 17:  review site platform\n",
            "Topic 18:  fake bag ebay\n",
            "Topic 19:  rip crooked replying\n",
            "Topic 20:  okif problem girl\n"
          ]
        }
      ],
      "source": [
        "top_n_words_lsa = get_top_n_words(3, lsa_keys, document_term_matrix, tfidf_vectorizer)\n",
        "for i in range(len(top_n_words_lsa)):\n",
        "    print(\"Topic {}: \".format(i+1), top_n_words_lsa[i])"
      ]
    },
    {
      "cell_type": "markdown",
      "metadata": {
        "id": "3BqEQDkjLo51"
      },
      "source": [
        "We can see the top 20 topics in the whole dataset"
      ]
    },
    {
      "cell_type": "markdown",
      "metadata": {
        "id": "nfnTQo6vmKe5"
      },
      "source": [
        "Now let's compare the topics year by year"
      ]
    },
    {
      "cell_type": "code",
      "execution_count": 36,
      "metadata": {
        "colab": {
          "base_uri": "https://localhost:8080/"
        },
        "id": "UyLULNT43Gsu",
        "outputId": "cd8677f4-bfcd-4925-983e-051e3a62f0d4"
      },
      "outputs": [
        {
          "data": {
            "text/plain": [
              "count                     274\n",
              "unique                    236\n",
              "top       2022-02-07 00:00:00\n",
              "freq                        3\n",
              "first     2017-02-19 00:00:00\n",
              "last      2022-05-04 00:00:00\n",
              "Name: date, dtype: object"
            ]
          },
          "execution_count": 36,
          "metadata": {},
          "output_type": "execute_result"
        }
      ],
      "source": [
        "reviewsDF.date.describe()"
      ]
    },
    {
      "cell_type": "code",
      "execution_count": 37,
      "metadata": {
        "colab": {
          "base_uri": "https://localhost:8080/"
        },
        "id": "QA2gDdMq4iKB",
        "outputId": "5c39e010-2cad-4f6a-ac50-e08b468db06b"
      },
      "outputs": [
        {
          "data": {
            "text/plain": [
              "2021    137\n",
              "2022     61\n",
              "2020     36\n",
              "2019     30\n",
              "2018      7\n",
              "2017      3\n",
              "Name: date, dtype: int64"
            ]
          },
          "execution_count": 37,
          "metadata": {},
          "output_type": "execute_result"
        }
      ],
      "source": [
        "reviewsDF.date.dt.year.value_counts() #to know the years of the available data"
      ]
    },
    {
      "cell_type": "code",
      "execution_count": 38,
      "metadata": {
        "id": "-bw0_v203Gv0"
      },
      "outputs": [],
      "source": [
        "#subset the full dataset into yearly dataframes\n",
        "reviewsDF2020 = reviewsDF[reviewsDF.date.dt.year==2020]\n",
        "reviewsDF2021 = reviewsDF[reviewsDF.date.dt.year==2021]\n",
        "reviewsDF2022 = reviewsDF[reviewsDF.date.dt.year==2022]"
      ]
    },
    {
      "cell_type": "markdown",
      "metadata": {
        "id": "wQ95mhLbL_Gn"
      },
      "source": [
        "Let's perform LSA to understand the topics for each year"
      ]
    },
    {
      "cell_type": "code",
      "execution_count": 39,
      "metadata": {
        "colab": {
          "base_uri": "https://localhost:8080/"
        },
        "id": "Gw15LnPECHnP",
        "outputId": "336b8191-c6e2-48a2-e5eb-fe927e9d8649"
      },
      "outputs": [
        {
          "name": "stdout",
          "output_type": "stream",
          "text": [
            "Topic 1:  vinted customer service\n",
            "Topic 2:  terrible customer service\n",
            "Topic 3:  money sell scoundrel\n",
            "Topic 4:  client pay service\n",
            "Topic 5:  parcel undelivered irresponsible\n",
            "Topic 6:  simply buyer ll\n",
            "Topic 7:  que jai et\n",
            "Topic 8:  useless picture mondial\n",
            "Topic 9:  app cheap company\n",
            "Topic 10:  site nice receive\n"
          ]
        }
      ],
      "source": [
        "#2020\n",
        "reviewData = reviewsDF2020['text']\n",
        "tfidf_vectorizer = TfidfVectorizer(stop_words='english', use_idf=True, smooth_idf=True)\n",
        "reviewData = reviewData.values\n",
        "document_term_matrix = tfidf_vectorizer.fit_transform(reviewData)\n",
        "#Let's consider the top 2 topics\n",
        "n_topics = 10\n",
        "lsa_model = TruncatedSVD(n_components=n_topics)\n",
        "lsa_topic_matrix = lsa_model.fit_transform(document_term_matrix)\n",
        "lsa_keys, lsa_categories, lsa_counts = getCategoriesCounts(lsa_topic_matrix)\n",
        "top_n_words_lsa = get_top_n_words(3, lsa_keys, document_term_matrix, tfidf_vectorizer)\n",
        "top_2020 = top_n_words_lsa\n",
        "for i in range(len(top_n_words_lsa)):\n",
        "    print(\"Topic {}: \".format(i+1), top_n_words_lsa[i])"
      ]
    },
    {
      "cell_type": "code",
      "execution_count": 40,
      "metadata": {
        "colab": {
          "base_uri": "https://localhost:8080/"
        },
        "id": "bvDpfDOCDauX",
        "outputId": "5f13dd33-0c51-4117-b255-3a022858b7d9"
      },
      "outputs": [
        {
          "name": "stdout",
          "output_type": "stream",
          "text": [
            "Topic 1:  vinted item buyer\n",
            "Topic 2:  app worst experience\n",
            "Topic 3:  payment bank account\n",
            "Topic 4:  customer service care\n",
            "Topic 5:  parcel address got\n",
            "Topic 6:  time block profile\n",
            "Topic 7:  fake pay coronary\n",
            "Topic 8:  scammer website absolute\n",
            "Topic 9:  package vinted away\n",
            "Topic 10:  shoe fraud je\n"
          ]
        }
      ],
      "source": [
        "#2021\n",
        "reviewData = reviewsDF2021['text']\n",
        "tfidf_vectorizer = TfidfVectorizer(stop_words='english', use_idf=True, smooth_idf=True)\n",
        "reviewData = reviewData.values\n",
        "document_term_matrix = tfidf_vectorizer.fit_transform(reviewData)\n",
        "#Let's consider the top 14 topics\n",
        "n_topics = 10\n",
        "lsa_model = TruncatedSVD(n_components=n_topics)\n",
        "lsa_topic_matrix = lsa_model.fit_transform(document_term_matrix)\n",
        "lsa_keys, lsa_categories, lsa_counts = getCategoriesCounts(lsa_topic_matrix)\n",
        "top_n_words_lsa = get_top_n_words(3, lsa_keys, document_term_matrix, tfidf_vectorizer)\n",
        "top_2021 = top_n_words_lsa\n",
        "for i in range(len(top_n_words_lsa)):\n",
        "    print(\"Topic {}: \".format(i+1), top_n_words_lsa[i])"
      ]
    },
    {
      "cell_type": "code",
      "execution_count": 41,
      "metadata": {
        "colab": {
          "base_uri": "https://localhost:8080/"
        },
        "id": "zL2mc7fHGKjL",
        "outputId": "bd2d1b3f-1764-4913-ce9c-1a03a7fac899"
      },
      "outputs": [
        {
          "name": "stdout",
          "output_type": "stream",
          "text": [
            "Topic 1:  item vinted seller\n",
            "Topic 2:  account asked number\n",
            "Topic 3:  incredible look review\n",
            "Topic 4:  seller scammed return\n",
            "Topic 5:  app worst bag\n",
            "Topic 6:  help said got\n",
            "Topic 7:  site fake pay\n",
            "Topic 8:  poor use okif\n",
            "Topic 9:  delivered website card\n",
            "Topic 10:  betterbe carefully shocking\n"
          ]
        }
      ],
      "source": [
        "#2022\n",
        "reviewData = reviewsDF2022['text']\n",
        "tfidf_vectorizer = TfidfVectorizer(stop_words='english', use_idf=True, smooth_idf=True)\n",
        "reviewData = reviewData.values\n",
        "document_term_matrix = tfidf_vectorizer.fit_transform(reviewData)\n",
        "#Let's consider the top 15 topics\n",
        "n_topics = 10\n",
        "lsa_model = TruncatedSVD(n_components=n_topics)\n",
        "lsa_topic_matrix = lsa_model.fit_transform(document_term_matrix)\n",
        "lsa_keys, lsa_categories, lsa_counts = getCategoriesCounts(lsa_topic_matrix)\n",
        "top_n_words_lsa = get_top_n_words(3, lsa_keys, document_term_matrix, tfidf_vectorizer)\n",
        "top_2022 = top_n_words_lsa\n",
        "for i in range(len(top_n_words_lsa)):\n",
        "    print(\"Topic {}: \".format(i+1), top_n_words_lsa[i])"
      ]
    },
    {
      "cell_type": "markdown",
      "metadata": {
        "id": "fMIFYqC1MIXU"
      },
      "source": [
        "Visualizing the word cloud for each year to understand the most common words"
      ]
    },
    {
      "cell_type": "code",
      "execution_count": 42,
      "metadata": {
        "colab": {
          "base_uri": "https://localhost:8080/",
          "height": 589
        },
        "id": "Ia-6uO5UGlfF",
        "outputId": "b62959fd-76d7-49f9-ad1d-b258ecbac416"
      },
      "outputs": [
        {
          "name": "stderr",
          "output_type": "stream",
          "text": [
            "/usr/local/lib/python3.7/site-packages/wordcloud/wordcloud.py:512: DeprecationWarning:\n",
            "\n",
            "ROTATE_90 is deprecated and will be removed in Pillow 10 (2023-07-01). Use Transpose.ROTATE_90 instead.\n",
            "\n",
            "/usr/local/lib/python3.7/site-packages/wordcloud/wordcloud.py:512: DeprecationWarning:\n",
            "\n",
            "ROTATE_90 is deprecated and will be removed in Pillow 10 (2023-07-01). Use Transpose.ROTATE_90 instead.\n",
            "\n",
            "/usr/local/lib/python3.7/site-packages/wordcloud/wordcloud.py:492: DeprecationWarning:\n",
            "\n",
            "ROTATE_90 is deprecated and will be removed in Pillow 10 (2023-07-01). Use Transpose.ROTATE_90 instead.\n",
            "\n",
            "/usr/local/lib/python3.7/site-packages/wordcloud/wordcloud.py:492: DeprecationWarning:\n",
            "\n",
            "ROTATE_90 is deprecated and will be removed in Pillow 10 (2023-07-01). Use Transpose.ROTATE_90 instead.\n",
            "\n",
            "/usr/local/lib/python3.7/site-packages/wordcloud/wordcloud.py:512: DeprecationWarning:\n",
            "\n",
            "ROTATE_90 is deprecated and will be removed in Pillow 10 (2023-07-01). Use Transpose.ROTATE_90 instead.\n",
            "\n",
            "/usr/local/lib/python3.7/site-packages/wordcloud/wordcloud.py:512: DeprecationWarning:\n",
            "\n",
            "ROTATE_90 is deprecated and will be removed in Pillow 10 (2023-07-01). Use Transpose.ROTATE_90 instead.\n",
            "\n",
            "/usr/local/lib/python3.7/site-packages/wordcloud/wordcloud.py:492: DeprecationWarning:\n",
            "\n",
            "ROTATE_90 is deprecated and will be removed in Pillow 10 (2023-07-01). Use Transpose.ROTATE_90 instead.\n",
            "\n",
            "/usr/local/lib/python3.7/site-packages/wordcloud/wordcloud.py:513: DeprecationWarning:\n",
            "\n",
            "ROTATE_90 is deprecated and will be removed in Pillow 10 (2023-07-01). Use Transpose.ROTATE_90 instead.\n",
            "\n",
            "/usr/local/lib/python3.7/site-packages/wordcloud/wordcloud.py:512: DeprecationWarning:\n",
            "\n",
            "ROTATE_90 is deprecated and will be removed in Pillow 10 (2023-07-01). Use Transpose.ROTATE_90 instead.\n",
            "\n",
            "/usr/local/lib/python3.7/site-packages/wordcloud/wordcloud.py:492: DeprecationWarning:\n",
            "\n",
            "ROTATE_90 is deprecated and will be removed in Pillow 10 (2023-07-01). Use Transpose.ROTATE_90 instead.\n",
            "\n",
            "/usr/local/lib/python3.7/site-packages/wordcloud/wordcloud.py:492: DeprecationWarning:\n",
            "\n",
            "ROTATE_90 is deprecated and will be removed in Pillow 10 (2023-07-01). Use Transpose.ROTATE_90 instead.\n",
            "\n",
            "/usr/local/lib/python3.7/site-packages/wordcloud/wordcloud.py:512: DeprecationWarning:\n",
            "\n",
            "ROTATE_90 is deprecated and will be removed in Pillow 10 (2023-07-01). Use Transpose.ROTATE_90 instead.\n",
            "\n",
            "/usr/local/lib/python3.7/site-packages/wordcloud/wordcloud.py:492: DeprecationWarning:\n",
            "\n",
            "ROTATE_90 is deprecated and will be removed in Pillow 10 (2023-07-01). Use Transpose.ROTATE_90 instead.\n",
            "\n",
            "/usr/local/lib/python3.7/site-packages/wordcloud/wordcloud.py:492: DeprecationWarning:\n",
            "\n",
            "ROTATE_90 is deprecated and will be removed in Pillow 10 (2023-07-01). Use Transpose.ROTATE_90 instead.\n",
            "\n",
            "/usr/local/lib/python3.7/site-packages/wordcloud/wordcloud.py:492: DeprecationWarning:\n",
            "\n",
            "ROTATE_90 is deprecated and will be removed in Pillow 10 (2023-07-01). Use Transpose.ROTATE_90 instead.\n",
            "\n",
            "/usr/local/lib/python3.7/site-packages/wordcloud/wordcloud.py:492: DeprecationWarning:\n",
            "\n",
            "ROTATE_90 is deprecated and will be removed in Pillow 10 (2023-07-01). Use Transpose.ROTATE_90 instead.\n",
            "\n",
            "/usr/local/lib/python3.7/site-packages/wordcloud/wordcloud.py:512: DeprecationWarning:\n",
            "\n",
            "ROTATE_90 is deprecated and will be removed in Pillow 10 (2023-07-01). Use Transpose.ROTATE_90 instead.\n",
            "\n",
            "/usr/local/lib/python3.7/site-packages/wordcloud/wordcloud.py:492: DeprecationWarning:\n",
            "\n",
            "ROTATE_90 is deprecated and will be removed in Pillow 10 (2023-07-01). Use Transpose.ROTATE_90 instead.\n",
            "\n",
            "/usr/local/lib/python3.7/site-packages/wordcloud/wordcloud.py:512: DeprecationWarning:\n",
            "\n",
            "ROTATE_90 is deprecated and will be removed in Pillow 10 (2023-07-01). Use Transpose.ROTATE_90 instead.\n",
            "\n",
            "/usr/local/lib/python3.7/site-packages/wordcloud/wordcloud.py:512: DeprecationWarning:\n",
            "\n",
            "ROTATE_90 is deprecated and will be removed in Pillow 10 (2023-07-01). Use Transpose.ROTATE_90 instead.\n",
            "\n",
            "/usr/local/lib/python3.7/site-packages/wordcloud/wordcloud.py:512: DeprecationWarning:\n",
            "\n",
            "ROTATE_90 is deprecated and will be removed in Pillow 10 (2023-07-01). Use Transpose.ROTATE_90 instead.\n",
            "\n",
            "/usr/local/lib/python3.7/site-packages/wordcloud/wordcloud.py:492: DeprecationWarning:\n",
            "\n",
            "ROTATE_90 is deprecated and will be removed in Pillow 10 (2023-07-01). Use Transpose.ROTATE_90 instead.\n",
            "\n",
            "/usr/local/lib/python3.7/site-packages/wordcloud/wordcloud.py:512: DeprecationWarning:\n",
            "\n",
            "ROTATE_90 is deprecated and will be removed in Pillow 10 (2023-07-01). Use Transpose.ROTATE_90 instead.\n",
            "\n",
            "/usr/local/lib/python3.7/site-packages/wordcloud/wordcloud.py:492: DeprecationWarning:\n",
            "\n",
            "ROTATE_90 is deprecated and will be removed in Pillow 10 (2023-07-01). Use Transpose.ROTATE_90 instead.\n",
            "\n",
            "/usr/local/lib/python3.7/site-packages/wordcloud/wordcloud.py:492: DeprecationWarning:\n",
            "\n",
            "ROTATE_90 is deprecated and will be removed in Pillow 10 (2023-07-01). Use Transpose.ROTATE_90 instead.\n",
            "\n",
            "/usr/local/lib/python3.7/site-packages/wordcloud/wordcloud.py:492: DeprecationWarning:\n",
            "\n",
            "ROTATE_90 is deprecated and will be removed in Pillow 10 (2023-07-01). Use Transpose.ROTATE_90 instead.\n",
            "\n",
            "/usr/local/lib/python3.7/site-packages/wordcloud/wordcloud.py:492: DeprecationWarning:\n",
            "\n",
            "ROTATE_90 is deprecated and will be removed in Pillow 10 (2023-07-01). Use Transpose.ROTATE_90 instead.\n",
            "\n",
            "/usr/local/lib/python3.7/site-packages/wordcloud/wordcloud.py:492: DeprecationWarning:\n",
            "\n",
            "ROTATE_90 is deprecated and will be removed in Pillow 10 (2023-07-01). Use Transpose.ROTATE_90 instead.\n",
            "\n",
            "/usr/local/lib/python3.7/site-packages/wordcloud/wordcloud.py:512: DeprecationWarning:\n",
            "\n",
            "ROTATE_90 is deprecated and will be removed in Pillow 10 (2023-07-01). Use Transpose.ROTATE_90 instead.\n",
            "\n",
            "/usr/local/lib/python3.7/site-packages/wordcloud/wordcloud.py:492: DeprecationWarning:\n",
            "\n",
            "ROTATE_90 is deprecated and will be removed in Pillow 10 (2023-07-01). Use Transpose.ROTATE_90 instead.\n",
            "\n",
            "/usr/local/lib/python3.7/site-packages/wordcloud/wordcloud.py:492: DeprecationWarning:\n",
            "\n",
            "ROTATE_90 is deprecated and will be removed in Pillow 10 (2023-07-01). Use Transpose.ROTATE_90 instead.\n",
            "\n",
            "/usr/local/lib/python3.7/site-packages/wordcloud/wordcloud.py:492: DeprecationWarning:\n",
            "\n",
            "ROTATE_90 is deprecated and will be removed in Pillow 10 (2023-07-01). Use Transpose.ROTATE_90 instead.\n",
            "\n",
            "/usr/local/lib/python3.7/site-packages/wordcloud/wordcloud.py:492: DeprecationWarning:\n",
            "\n",
            "ROTATE_90 is deprecated and will be removed in Pillow 10 (2023-07-01). Use Transpose.ROTATE_90 instead.\n",
            "\n",
            "/usr/local/lib/python3.7/site-packages/wordcloud/wordcloud.py:492: DeprecationWarning:\n",
            "\n",
            "ROTATE_90 is deprecated and will be removed in Pillow 10 (2023-07-01). Use Transpose.ROTATE_90 instead.\n",
            "\n"
          ]
        },
        {
          "ename": "NameError",
          "evalue": "name 'wordcloud2020' is not defined",
          "output_type": "error",
          "traceback": [
            "\u001b[0;31m---------------------------------------------------------------------------\u001b[0m",
            "\u001b[0;31mNameError\u001b[0m                                 Traceback (most recent call last)",
            "\u001b[0;32m/var/folders/ds/68h8wl896q32r63fbnlht_3c0000gn/T/ipykernel_3294/112796553.py\u001b[0m in \u001b[0;36m<module>\u001b[0;34m\u001b[0m\n\u001b[1;32m      5\u001b[0m \u001b[0mfig\u001b[0m \u001b[0;34m=\u001b[0m \u001b[0mplt\u001b[0m\u001b[0;34m.\u001b[0m\u001b[0mfigure\u001b[0m\u001b[0;34m(\u001b[0m\u001b[0;36m1\u001b[0m\u001b[0;34m,\u001b[0m \u001b[0mfigsize\u001b[0m \u001b[0;34m=\u001b[0m \u001b[0;34m(\u001b[0m\u001b[0;36m20\u001b[0m\u001b[0;34m,\u001b[0m \u001b[0;36m20\u001b[0m\u001b[0;34m)\u001b[0m\u001b[0;34m)\u001b[0m\u001b[0;34m\u001b[0m\u001b[0;34m\u001b[0m\u001b[0m\n\u001b[1;32m      6\u001b[0m \u001b[0mplt\u001b[0m\u001b[0;34m.\u001b[0m\u001b[0maxis\u001b[0m\u001b[0;34m(\u001b[0m\u001b[0;34m'off'\u001b[0m\u001b[0;34m)\u001b[0m\u001b[0;34m\u001b[0m\u001b[0;34m\u001b[0m\u001b[0m\n\u001b[0;32m----> 7\u001b[0;31m \u001b[0mplt\u001b[0m\u001b[0;34m.\u001b[0m\u001b[0mimshow\u001b[0m\u001b[0;34m(\u001b[0m\u001b[0mwordcloud2020\u001b[0m\u001b[0;34m)\u001b[0m\u001b[0;34m\u001b[0m\u001b[0;34m\u001b[0m\u001b[0m\n\u001b[0m\u001b[1;32m      8\u001b[0m \u001b[0mplt\u001b[0m\u001b[0;34m.\u001b[0m\u001b[0mshow\u001b[0m\u001b[0;34m(\u001b[0m\u001b[0;34m)\u001b[0m\u001b[0;34m\u001b[0m\u001b[0;34m\u001b[0m\u001b[0m\n",
            "\u001b[0;31mNameError\u001b[0m: name 'wordcloud2020' is not defined"
          ]
        },
        {
          "data": {
            "image/png": "[encoded data removed]",
            "text/plain": [
              "<Figure size 1440x1440 with 1 Axes>"
            ]
          },
          "metadata": {
            "needs_background": "light"
          },
          "output_type": "display_data"
        }
      ],
      "source": [
        "#2020\n",
        "\n",
        "text = \" \".join(i for i in reviewsDF2020.text)\n",
        "wordcloud = WordCloud(stopwords = stopwords, width=800, height=400).generate(text)\n",
        "fig = plt.figure(1, figsize = (20, 20))\n",
        "plt.axis('off')\n",
        "plt.imshow(wordcloud2020)\n",
        "plt.show()"
      ]
    },
    {
      "cell_type": "code",
      "execution_count": null,
      "metadata": {
        "colab": {
          "base_uri": "https://localhost:8080/",
          "height": 589
        },
        "id": "J8M20oIeHxHo",
        "outputId": "bd1eb55e-3f4e-4488-9600-c656c4afe3a1"
      },
      "outputs": [],
      "source": [
        "#2021\n",
        "\n",
        "text = \" \".join(i for i in reviewsDF2021.text)\n",
        "wordcloud = WordCloud(stopwords = stopwords, width=800, height=400).generate(text)\n",
        "fig = plt.figure(1, figsize = (20, 20))\n",
        "plt.axis('off')\n",
        "plt.imshow(wordcloud2021)\n",
        "plt.show()"
      ]
    },
    {
      "cell_type": "code",
      "execution_count": null,
      "metadata": {
        "colab": {
          "base_uri": "https://localhost:8080/",
          "height": 589
        },
        "id": "UUhJ5KiCH4vZ",
        "outputId": "ee42055d-8641-4c07-ddf0-a42a66c49a47"
      },
      "outputs": [],
      "source": [
        "#2022\n",
        "\n",
        "text = \" \".join(i for i in reviewsDF2022.text)\n",
        "wordcloud = WordCloud(stopwords = stopwords, width=800, height=400).generate(text)\n",
        "fig = plt.figure(1, figsize = (20, 20))\n",
        "plt.axis('off')\n",
        "plt.imshow(wordcloud2022)\n",
        "plt.show()"
      ]
    },
    {
      "cell_type": "code",
      "execution_count": null,
      "metadata": {
        "colab": {
          "base_uri": "https://localhost:8080/",
          "height": 1000
        },
        "id": "X1KLqEG1IA5T",
        "outputId": "5bdc0c4f-a2c9-4895-cc2f-7c7ff415b2e3"
      },
      "outputs": [],
      "source": [
        "#Let's create a df with the top topics for all the years\n",
        "l1,l5,l6=len(top_2020),len(top_2021),len(top_2022)\n",
        "max_len = max(l1,l5,l6,l7,l8)\n",
        "\n",
        "if not max_len == l1:\n",
        "  top_2020.extend(['-']*(max_len-l1))\n",
        "if not max_len == l5:\n",
        "  top_2021.extend(['-']*(max_len-l5))\n",
        "if not max_len == l6:\n",
        "  top_2022.extend(['-']*(max_len-l6))\n",
        "\n",
        "topicsDF = pd.DataFrame({'2020':top_2020,'2021':top_2021,'2022':top_2022})\n",
        "topicsDF"
      ]
    },
    {
      "cell_type": "markdown",
      "metadata": {
        "id": "kXpTUu_HmSoQ"
      },
      "source": [
        "Even though we have the top topics for each year, it is difficult to infer how the trend has changed over the years!  "
      ]
    },
    {
      "cell_type": "code",
      "execution_count": null,
      "metadata": {
        "colab": {
          "base_uri": "https://localhost:8080/",
          "height": 623
        },
        "id": "J7UlGBGNJMDS",
        "outputId": "13c587bd-e45c-4408-afaf-f75c20b7e0d9"
      },
      "outputs": [],
      "source": [
        "reviewsDF"
      ]
    },
    {
      "cell_type": "markdown",
      "metadata": {
        "id": "0MA11zNmmhbV"
      },
      "source": [
        "As the number of reviews in 2011 is very less, lets plot the polarity for the remaining years in terms of time"
      ]
    },
    {
      "cell_type": "code",
      "execution_count": null,
      "metadata": {
        "colab": {
          "base_uri": "https://localhost:8080/",
          "height": 604
        },
        "id": "7qCjPVUmLNey",
        "outputId": "d4abc328-2f5e-4022-b7e1-8a05a663f90e"
      },
      "outputs": [],
      "source": [
        "fig, axes = plt.subplots(nrows=2, ncols=2,figsize=(15,10))\n",
        "#reviewsDF2011.plot.line(x='date',y='polarity',ax=axes[0,0])\n",
        "reviewsDF2020.plot.line(x='date',y='polarity',ax=axes[0,0],title='2020')\n",
        "reviewsDF2021.plot.line(x='date',y='polarity',ax=axes[0,1],title='2021')\n",
        "reviewsDF2022.plot.line(x='date',y='polarity',ax=axes[1,0],title='2022')"
      ]
    },
    {
      "cell_type": "code",
      "execution_count": null,
      "metadata": {
        "colab": {
          "base_uri": "https://localhost:8080/",
          "height": 204
        },
        "id": "49CnNzWOsSff",
        "outputId": "4644d463-4fb4-4651-e351-dde8291c1ce5"
      },
      "outputs": [],
      "source": [
        "#Let's create a DF with the total number of positive and negative reviews detected for each year\n",
        "sentimentDF = pd.DataFrame(0,range(5),columns=['Year','pos','neg'])\n",
        "sentimentDF"
      ]
    },
    {
      "cell_type": "code",
      "execution_count": null,
      "metadata": {
        "id": "XVGDM5pXsVYd"
      },
      "outputs": [],
      "source": [
        "sentimentDF.loc[0] = [2020,reviewsDF2020.Sentiment.value_counts()['pos'],reviewsDF2020.Sentiment.value_counts()['neg']]\n",
        "sentimentDF.loc[1] = [2021,reviewsDF2021.Sentiment.value_counts()['pos'],reviewsDF2021.Sentiment.value_counts()['neg']]\n",
        "sentimentDF.loc[2] = [2022,reviewsDF2022.Sentiment.value_counts()['pos'],reviewsDF2022.Sentiment.value_counts()['neg']]"
      ]
    },
    {
      "cell_type": "code",
      "execution_count": null,
      "metadata": {
        "colab": {
          "base_uri": "https://localhost:8080/",
          "height": 204
        },
        "id": "TjykO1Essn0c",
        "outputId": "643566e6-6e0c-40b1-9f5b-e9b7726ba839"
      },
      "outputs": [],
      "source": [
        "sentimentDF"
      ]
    },
    {
      "cell_type": "code",
      "execution_count": null,
      "metadata": {
        "colab": {
          "base_uri": "https://localhost:8080/",
          "height": 296
        },
        "id": "zoSD7FASuvdc",
        "outputId": "6528445a-90fa-4848-8523-dbb3321ffff3"
      },
      "outputs": [],
      "source": [
        "#Plot of positive vs negative reviews over the years\n",
        "sentimentDF.plot.line(x='Year')"
      ]
    },
    {
      "cell_type": "code",
      "execution_count": null,
      "metadata": {
        "id": "IRLqTC4cxj4N"
      },
      "outputs": [],
      "source": []
    },
    {
      "cell_type": "markdown",
      "metadata": {
        "id": "NjgFI85-KANT"
      },
      "source": [
        "# **LDA & Topic trend**"
      ]
    },
    {
      "cell_type": "markdown",
      "metadata": {
        "id": "51uM_dilVblT"
      },
      "source": [
        "Now, even though the LSA provided the topics, let's analyze the topics using LDA in order to analyze the trend and to better visualize the topics "
      ]
    },
    {
      "cell_type": "code",
      "execution_count": null,
      "metadata": {
        "colab": {
          "base_uri": "https://localhost:8080/",
          "height": 623
        },
        "id": "KG-cDWbJzWZF",
        "outputId": "b03253fa-fa50-4e36-83f8-d0c449ed32f5"
      },
      "outputs": [],
      "source": [
        "df = reviewsDF\n",
        "df"
      ]
    },
    {
      "cell_type": "code",
      "execution_count": null,
      "metadata": {
        "id": "4gliATW5AfR9"
      },
      "outputs": [],
      "source": [
        "warnings.filterwarnings('ignore')\n",
        "\n",
        "reviews = list(df['text'])\n",
        "nlp = spacy.load('en_core_web_sm', disable=['parser', 'ner'])\n",
        "reviews = pd.Series(reviews).apply(lambda x: x.split())\n",
        "r1 = []\n",
        "for wrd in reviews:\n",
        "  doc = nlp(\" \".join(wrd))\n",
        "  r1.append([token.lemma_ for token in doc if token.pos_ in ['NOUN','ADJ']])\n",
        "\n",
        "reviewsR1 = r1"
      ]
    },
    {
      "cell_type": "code",
      "execution_count": null,
      "metadata": {
        "id": "c8sa6cDBAiBj"
      },
      "outputs": [],
      "source": [
        "#LDA\n",
        "dictionary = corpora.Dictionary(reviewsR1)\n",
        "doc_term_matrix = [dictionary.doc2bow(rev) for rev in reviewsR1]"
      ]
    },
    {
      "cell_type": "code",
      "execution_count": null,
      "metadata": {
        "id": "J7XzF0zV01VC"
      },
      "outputs": [],
      "source": [
        "# Creating the object for LDA model using gensim library\n",
        "LDA = gensim.models.ldamodel.LdaModel\n",
        "# Build LDA model\n",
        "lda_model = LDA(corpus=doc_term_matrix, id2word=dictionary, num_topics=20, random_state=42,chunksize=1000, passes=50)"
      ]
    },
    {
      "cell_type": "code",
      "execution_count": null,
      "metadata": {
        "colab": {
          "base_uri": "https://localhost:8080/"
        },
        "id": "5tlnUEXHV565",
        "outputId": "b6db34de-9efe-4225-bc49-cbc205262f6d"
      },
      "outputs": [],
      "source": [
        "#The top 20 topics that the LDA model has learned are\n",
        "lda_model.print_topics()"
      ]
    },
    {
      "cell_type": "code",
      "execution_count": null,
      "metadata": {
        "colab": {
          "base_uri": "https://localhost:8080/"
        },
        "id": "CUc3P_KN5uih",
        "outputId": "567fc52f-2e59-42ae-8483-514e1db14404"
      },
      "outputs": [],
      "source": [
        "#Just to check the correctness\n",
        "lda_model.get_document_topics(doc_term_matrix[1])"
      ]
    },
    {
      "cell_type": "markdown",
      "metadata": {
        "id": "AvAwv55Zmz4-"
      },
      "source": [
        "Using the **pyLDAvis** let's visualize the topics and relations"
      ]
    },
    {
      "cell_type": "code",
      "execution_count": null,
      "metadata": {
        "colab": {
          "base_uri": "https://localhost:8080/",
          "height": 861
        },
        "id": "SwvGtXbw1ECd",
        "outputId": "249ba8fd-a076-4f75-ba35-1bc2aab66477"
      },
      "outputs": [],
      "source": [
        "#Visualizing using the pyLDAvis inbuilt viz\n",
        "pyLDAvis.enable_notebook()\n",
        "vis = pyLDAvis.gensim.prepare(lda_model, doc_term_matrix, dictionary)\n",
        "vis"
      ]
    },
    {
      "cell_type": "code",
      "execution_count": null,
      "metadata": {
        "id": "4-CmMJqP6GKB"
      },
      "outputs": [],
      "source": [
        "#Let's add a new column in the main df to get the topic number for each review\n",
        "doc_lda = lda_model[doc_term_matrix]\n",
        "max_topics = [max(sent, key=lambda x: x[1])[0] for sent in doc_lda]"
      ]
    },
    {
      "cell_type": "code",
      "execution_count": null,
      "metadata": {
        "id": "eoX9A8eQJgQy"
      },
      "outputs": [],
      "source": [
        "dftopic = df\n",
        "dftopic['topic'] = max_topics"
      ]
    },
    {
      "cell_type": "code",
      "execution_count": null,
      "metadata": {
        "colab": {
          "base_uri": "https://localhost:8080/",
          "height": 759
        },
        "id": "tZBpAIqrJlWR",
        "outputId": "f068f391-6425-4f7a-a2aa-054d75a01b52"
      },
      "outputs": [],
      "source": [
        "dftopic"
      ]
    },
    {
      "cell_type": "code",
      "execution_count": null,
      "metadata": {
        "colab": {
          "base_uri": "https://localhost:8080/"
        },
        "id": "-YlZ-SpQJ0rH",
        "outputId": "33fde364-3380-4be8-c309-7c0739945f70"
      },
      "outputs": [],
      "source": [
        "#the topics for the whole df\n",
        "dftopic.topic.value_counts()"
      ]
    },
    {
      "cell_type": "code",
      "execution_count": null,
      "metadata": {
        "id": "F0BcTyh6J5vR"
      },
      "outputs": [],
      "source": [
        "#Topic numbers for the year 2020\n",
        "topic2020 = dftopic[dftopic.date.dt.year==2020]['topic'].value_counts().index.tolist()"
      ]
    },
    {
      "cell_type": "code",
      "execution_count": null,
      "metadata": {
        "id": "p0FoTHNCKn1N"
      },
      "outputs": [],
      "source": [
        "#Topic numbers for the year 2021\n",
        "topic2021 = dftopic[dftopic.date.dt.year==2021]['topic'].value_counts().index.tolist()"
      ]
    },
    {
      "cell_type": "code",
      "execution_count": null,
      "metadata": {
        "id": "vl5uvEdpKrYS"
      },
      "outputs": [],
      "source": [
        "#Topic numbers for the year 2022\n",
        "topic2022 = dftopic[dftopic.date.dt.year==2022]['topic'].value_counts().index.tolist()"
      ]
    },
    {
      "cell_type": "markdown",
      "metadata": {
        "id": "0IiZOKpxm9kU"
      },
      "source": [
        "The topics learned for each Year"
      ]
    },
    {
      "cell_type": "code",
      "execution_count": null,
      "metadata": {
        "colab": {
          "base_uri": "https://localhost:8080/"
        },
        "id": "LBvmsa6zYwPU",
        "outputId": "51e43e43-7001-43c9-df55-89ede566acf5"
      },
      "outputs": [],
      "source": [
        "print(\"2020 - \",topic2020,\"\\n2021 - \",topic2021,\"\\n2022 - \",topic2022)"
      ]
    },
    {
      "cell_type": "markdown",
      "metadata": {
        "id": "sgVhpj0lnA9M"
      },
      "source": [
        "The list of all the topics learned with the LDA model"
      ]
    },
    {
      "cell_type": "code",
      "execution_count": null,
      "metadata": {
        "colab": {
          "base_uri": "https://localhost:8080/"
        },
        "id": "vHpzs_YOZRwC",
        "outputId": "96a7dd1f-9907-4b5a-a7ed-549a82a15c86"
      },
      "outputs": [],
      "source": [
        "for i in range(len(lda_model.print_topics())):\n",
        "  print(\"Topic:%i\" %i ,\" - \", lda_model.print_topics()[i][1], '\\n')"
      ]
    },
    {
      "cell_type": "markdown",
      "metadata": {
        "id": "4CaEg_NzYScf"
      },
      "source": [
        "We can see from above that:\n",
        "\n",
        "In 2011: There are only 2 topics - Topic #15 and Topic#0"
      ]
    },
    {
      "cell_type": "code",
      "execution_count": null,
      "metadata": {
        "colab": {
          "base_uri": "https://localhost:8080/",
          "height": 35
        },
        "id": "9XPe2dOzKwIZ",
        "outputId": "39bb79c7-6376-4f27-fd79-fe4cc7dbe711"
      },
      "outputs": [],
      "source": [
        "lda_model.print_topics()[0][1]"
      ]
    },
    {
      "cell_type": "code",
      "execution_count": null,
      "metadata": {
        "colab": {
          "base_uri": "https://localhost:8080/"
        },
        "id": "QkUsLsbwYNdE",
        "outputId": "7f108634-67cf-48c1-b41a-4f63b8291859"
      },
      "outputs": [],
      "source": [
        "list(set(topic2020).intersection(topic2021))"
      ]
    },
    {
      "cell_type": "markdown",
      "metadata": {
        "id": "C2EjCe9NbnXC"
      },
      "source": [
        "From 2011 to 2015 there are two common topics"
      ]
    },
    {
      "cell_type": "code",
      "execution_count": null,
      "metadata": {
        "colab": {
          "base_uri": "https://localhost:8080/"
        },
        "id": "f7kFCeMpaZPX",
        "outputId": "d6c90bee-6008-438b-97db-aaa7d873ec15"
      },
      "outputs": [],
      "source": [
        "list(set(topic2020).intersection(topic2022))"
      ]
    },
    {
      "cell_type": "markdown",
      "metadata": {
        "id": "XqL3_oFqbO1E"
      },
      "source": [
        "We can see that from 2015 to 2016 Topic #0 and #15 have been continued, and many more topics have been added"
      ]
    },
    {
      "cell_type": "code",
      "execution_count": null,
      "metadata": {
        "colab": {
          "base_uri": "https://localhost:8080/"
        },
        "id": "eUPcIyWAa5w4",
        "outputId": "ef149000-201c-4dec-a856-46e7001a6651"
      },
      "outputs": [],
      "source": [
        "list(set(topic2021).intersection(topic2022))"
      ]
    },
    {
      "cell_type": "code",
      "execution_count": null,
      "metadata": {
        "id": "UrFlu7GGkOD4"
      },
      "outputs": [],
      "source": [
        "for i in range(20):\n",
        "  print(\"Topic:%i\" %i )\n",
        "  print(df[df.topic == i]['rating'].value_counts().index[0])"
      ]
    },
    {
      "cell_type": "markdown",
      "metadata": {
        "id": "fKt0ome-kQor"
      },
      "source": [
        "we can see that almost all the topics have the highest number of negative reviews except Topic #6 and #3"
      ]
    },
    {
      "cell_type": "markdown",
      "metadata": {
        "id": "i-DTw3ZocE_a"
      },
      "source": [
        "From the above learned topics, let's consider one of the most common topic #10 that has been talked about since 2015, which indicates it's one of the most important things people are talking about "
      ]
    },
    {
      "cell_type": "code",
      "execution_count": null,
      "metadata": {
        "colab": {
          "base_uri": "https://localhost:8080/"
        },
        "id": "4sAhYs-vchz8",
        "outputId": "bb08f6fe-4b8e-48ed-8079-51bfbfc2d149"
      },
      "outputs": [],
      "source": [
        "#Let's see some reviews with the topic #10\n",
        "list(df[df.topic == 10]['text'][:20])"
      ]
    },
    {
      "cell_type": "code",
      "execution_count": null,
      "metadata": {
        "colab": {
          "base_uri": "https://localhost:8080/"
        },
        "id": "KLQpQ9xLcsQ_",
        "outputId": "7ad3d48f-36fd-4f3f-91dd-e6be96354254"
      },
      "outputs": [],
      "source": [
        "df[df.topic == 10]['rating'].value_counts()"
      ]
    },
    {
      "cell_type": "markdown",
      "metadata": {
        "id": "LyDJMI8kdNfO"
      },
      "source": [
        "We can see from above that most of the reviews are negative, and almost more thatn 75% of the reviews have a 1-star rating. So, we can confirm that this is one of the most important topic people have been talking about over the years.\n",
        "\n",
        "Similarly we can analyze the rest of the topics depending on the requirement, and how the service wants to be improved, for example if they want to improve the Application, they can see the topic most related to \"app\" and then do the same analysis as above. "
      ]
    },
    {
      "cell_type": "code",
      "execution_count": null,
      "metadata": {
        "id": "V8mljWTqfHKg"
      },
      "outputs": [],
      "source": []
    }
  ],
  "metadata": {
    "colab": {
      "collapsed_sections": [],
      "name": "OkraFinal.ipynb",
      "provenance": []
    },
    "kernelspec": {
      "display_name": "Python 3",
      "name": "python3"
    },
    "language_info": {
      "codemirror_mode": {
        "name": "ipython",
        "version": 3
      },
      "file_extension": ".py",
      "mimetype": "text/x-python",
      "name": "python",
      "nbconvert_exporter": "python",
      "pygments_lexer": "ipython3",
      "version": "3.7.12"
    }
  },
  "nbformat": 4,
  "nbformat_minor": 0
}
